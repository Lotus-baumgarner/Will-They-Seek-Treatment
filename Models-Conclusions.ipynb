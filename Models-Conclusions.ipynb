{
 "cells": [
  {
   "cell_type": "markdown",
   "metadata": {},
   "source": [
    "# Will They Seek Treatment for a Mental Illness?\n",
    "\n",
    "__By Lotus Baumgarner__\n",
    "\n",
    "This is part two of two notebooks. This notebook covers the Models, Hyperparameter Tuning, Final Model Selection and Conclusion/Next Steps. The part one notebook covers the Data/Problem understanding, Data Cleaning, Visualizations and Initial Feature Selection.\n"
   ]
  },
  {
   "cell_type": "code",
   "execution_count": 92,
   "metadata": {},
   "outputs": [],
   "source": [
    "# Basic Data Manipulation\n",
    "import pandas as pd\n",
    "import numpy as np\n",
    "\n",
    "# Visualization and Statistics\n",
    "import matplotlib.pyplot as plt\n",
    "%matplotlib inline\n",
    "import seaborn as sns\n",
    "import scipy.stats as stats\n",
    "\n",
    "# Preprocessing and Models\n",
    "from sklearn.compose import ColumnTransformer\n",
    "from sklearn.preprocessing import OneHotEncoder\n",
    "\n",
    "from sklearn.model_selection import train_test_split\n",
    "from sklearn.model_selection import cross_validate\n",
    "from sklearn.model_selection import cross_val_score\n",
    "from sklearn.model_selection import GridSearchCV\n",
    "\n",
    "from sklearn.metrics import make_scorer\n",
    "from sklearn.metrics import accuracy_score, recall_score, precision_score, f1_score\n",
    "from sklearn.metrics import roc_curve, auc, roc_auc_score\n",
    "from sklearn.metrics import classification_report\n",
    "from sklearn.metrics import ConfusionMatrixDisplay, RocCurveDisplay\n",
    "from sklearn.metrics import confusion_matrix\n",
    "\n",
    "from sklearn.pipeline import Pipeline\n",
    "from sklearn.linear_model import LogisticRegression\n",
    "from sklearn.linear_model import Lasso\n",
    "from sklearn.linear_model import RidgeClassifier\n",
    "from sklearn.svm import SVC\n",
    "from sklearn.neighbors import KNeighborsClassifier\n",
    "from sklearn.ensemble import StackingClassifier\n",
    "from sklearn.ensemble import RandomForestClassifier\n",
    "from sklearn.base import BaseEstimator, TransformerMixin\n",
    "from xgboost import XGBClassifier\n",
    "\n",
    "# Other Imports\n",
    "import warnings\n",
    "warnings.simplefilter(action='ignore', category=FutureWarning)\n",
    "import os  \n",
    "import pickle"
   ]
  },
  {
   "cell_type": "code",
   "execution_count": 2,
   "metadata": {},
   "outputs": [
    {
     "data": {
      "text/html": [
       "<div>\n",
       "<style scoped>\n",
       "    .dataframe tbody tr th:only-of-type {\n",
       "        vertical-align: middle;\n",
       "    }\n",
       "\n",
       "    .dataframe tbody tr th {\n",
       "        vertical-align: top;\n",
       "    }\n",
       "\n",
       "    .dataframe thead th {\n",
       "        text-align: right;\n",
       "    }\n",
       "</style>\n",
       "<table border=\"1\" class=\"dataframe\">\n",
       "  <thead>\n",
       "    <tr style=\"text-align: right;\">\n",
       "      <th></th>\n",
       "      <th>Gender</th>\n",
       "      <th>Occupation</th>\n",
       "      <th>Self_Employed</th>\n",
       "      <th>Family_History</th>\n",
       "      <th>Treatment</th>\n",
       "      <th>Days_Indoors</th>\n",
       "      <th>Growing_Stress</th>\n",
       "      <th>Changes_Habits</th>\n",
       "      <th>Mental_Health_History</th>\n",
       "      <th>Mood_Swings</th>\n",
       "      <th>Coping_Struggles</th>\n",
       "      <th>Work_Interest</th>\n",
       "      <th>Social_Weakness</th>\n",
       "      <th>Mental_Health_Interview</th>\n",
       "      <th>Care_Options</th>\n",
       "    </tr>\n",
       "  </thead>\n",
       "  <tbody>\n",
       "    <tr>\n",
       "      <th>0</th>\n",
       "      <td>Male</td>\n",
       "      <td>Housewife</td>\n",
       "      <td>No</td>\n",
       "      <td>No</td>\n",
       "      <td>No</td>\n",
       "      <td>15-30 days</td>\n",
       "      <td>No</td>\n",
       "      <td>No</td>\n",
       "      <td>No</td>\n",
       "      <td>High</td>\n",
       "      <td>Yes</td>\n",
       "      <td>Yes</td>\n",
       "      <td>No</td>\n",
       "      <td>No</td>\n",
       "      <td>No</td>\n",
       "    </tr>\n",
       "    <tr>\n",
       "      <th>1</th>\n",
       "      <td>Female</td>\n",
       "      <td>Housewife</td>\n",
       "      <td>No</td>\n",
       "      <td>No</td>\n",
       "      <td>No</td>\n",
       "      <td>15-30 days</td>\n",
       "      <td>Maybe</td>\n",
       "      <td>No</td>\n",
       "      <td>Maybe</td>\n",
       "      <td>Medium</td>\n",
       "      <td>Yes</td>\n",
       "      <td>No</td>\n",
       "      <td>Yes</td>\n",
       "      <td>No</td>\n",
       "      <td>Not sure</td>\n",
       "    </tr>\n",
       "    <tr>\n",
       "      <th>2</th>\n",
       "      <td>Female</td>\n",
       "      <td>Housewife</td>\n",
       "      <td>No</td>\n",
       "      <td>Yes</td>\n",
       "      <td>Yes</td>\n",
       "      <td>31-60 days</td>\n",
       "      <td>Yes</td>\n",
       "      <td>No</td>\n",
       "      <td>Maybe</td>\n",
       "      <td>Medium</td>\n",
       "      <td>No</td>\n",
       "      <td>Yes</td>\n",
       "      <td>No</td>\n",
       "      <td>No</td>\n",
       "      <td>No</td>\n",
       "    </tr>\n",
       "    <tr>\n",
       "      <th>3</th>\n",
       "      <td>Male</td>\n",
       "      <td>Others</td>\n",
       "      <td>No</td>\n",
       "      <td>No</td>\n",
       "      <td>No</td>\n",
       "      <td>1-14 days</td>\n",
       "      <td>Yes</td>\n",
       "      <td>Yes</td>\n",
       "      <td>No</td>\n",
       "      <td>Low</td>\n",
       "      <td>Yes</td>\n",
       "      <td>No</td>\n",
       "      <td>Yes</td>\n",
       "      <td>No</td>\n",
       "      <td>Yes</td>\n",
       "    </tr>\n",
       "    <tr>\n",
       "      <th>4</th>\n",
       "      <td>Female</td>\n",
       "      <td>Housewife</td>\n",
       "      <td>No</td>\n",
       "      <td>No</td>\n",
       "      <td>No</td>\n",
       "      <td>Go out Every day</td>\n",
       "      <td>Maybe</td>\n",
       "      <td>Yes</td>\n",
       "      <td>No</td>\n",
       "      <td>Low</td>\n",
       "      <td>Yes</td>\n",
       "      <td>Maybe</td>\n",
       "      <td>No</td>\n",
       "      <td>No</td>\n",
       "      <td>Not sure</td>\n",
       "    </tr>\n",
       "  </tbody>\n",
       "</table>\n",
       "</div>"
      ],
      "text/plain": [
       "   Gender Occupation Self_Employed Family_History Treatment      Days_Indoors  \\\n",
       "0    Male  Housewife            No             No        No        15-30 days   \n",
       "1  Female  Housewife            No             No        No        15-30 days   \n",
       "2  Female  Housewife            No            Yes       Yes        31-60 days   \n",
       "3    Male     Others            No             No        No         1-14 days   \n",
       "4  Female  Housewife            No             No        No  Go out Every day   \n",
       "\n",
       "  Growing_Stress Changes_Habits Mental_Health_History Mood_Swings  \\\n",
       "0             No             No                    No        High   \n",
       "1          Maybe             No                 Maybe      Medium   \n",
       "2            Yes             No                 Maybe      Medium   \n",
       "3            Yes            Yes                    No         Low   \n",
       "4          Maybe            Yes                    No         Low   \n",
       "\n",
       "  Coping_Struggles Work_Interest Social_Weakness Mental_Health_Interview  \\\n",
       "0              Yes           Yes              No                      No   \n",
       "1              Yes            No             Yes                      No   \n",
       "2               No           Yes              No                      No   \n",
       "3              Yes            No             Yes                      No   \n",
       "4              Yes         Maybe              No                      No   \n",
       "\n",
       "  Care_Options  \n",
       "0           No  \n",
       "1     Not sure  \n",
       "2           No  \n",
       "3          Yes  \n",
       "4     Not sure  "
      ]
     },
     "execution_count": 2,
     "metadata": {},
     "output_type": "execute_result"
    }
   ],
   "source": [
    "df = pd.read_csv(\"data/Treatment2_data.csv\")\n",
    "\n",
    "df.head()"
   ]
  },
  {
   "cell_type": "code",
   "execution_count": 3,
   "metadata": {},
   "outputs": [
    {
     "name": "stdout",
     "output_type": "stream",
     "text": [
      "<class 'pandas.core.frame.DataFrame'>\n",
      "RangeIndex: 100000 entries, 0 to 99999\n",
      "Data columns (total 15 columns):\n",
      " #   Column                   Non-Null Count   Dtype \n",
      "---  ------                   --------------   ----- \n",
      " 0   Gender                   100000 non-null  object\n",
      " 1   Occupation               100000 non-null  object\n",
      " 2   Self_Employed            100000 non-null  object\n",
      " 3   Family_History           100000 non-null  object\n",
      " 4   Treatment                100000 non-null  object\n",
      " 5   Days_Indoors             100000 non-null  object\n",
      " 6   Growing_Stress           100000 non-null  object\n",
      " 7   Changes_Habits           100000 non-null  object\n",
      " 8   Mental_Health_History    100000 non-null  object\n",
      " 9   Mood_Swings              100000 non-null  object\n",
      " 10  Coping_Struggles         100000 non-null  object\n",
      " 11  Work_Interest            100000 non-null  object\n",
      " 12  Social_Weakness          100000 non-null  object\n",
      " 13  Mental_Health_Interview  100000 non-null  object\n",
      " 14  Care_Options             100000 non-null  object\n",
      "dtypes: object(15)\n",
      "memory usage: 11.4+ MB\n"
     ]
    }
   ],
   "source": [
    "df.info()"
   ]
  },
  {
   "cell_type": "markdown",
   "metadata": {},
   "source": [
    "## 3. Train-Test Split & Basic Pipeline Set-up:\n",
    "Since all my columns are categorical and not ordered, I'll be using __One Hot Encoder__ to convert my data into numerical format. \n",
    "\n",
    "I used __Train-Test Split__ with an 80/20 split and __Cross-Validation__. I also mapped my target variable (y) to be Yes = 1 and No = 0.\n",
    "\n",
    "__I am labeling my TP, TN, FP, and FN as follows:__\n",
    "\n",
    "•\t__True Positives (TP):__ The number of individuals who were correctly predicted to seek treatment for a mental illness (i.e., the model predicted \"Yes\" for treatment, and the actual value was also \"Yes\").\n",
    "\n",
    "•\t__True Negatives (TN):__ The number of individuals who were correctly predicted not to seek treatment for a mental illness (i.e., the model predicted \"No\" for treatment, and the actual value was also \"No\").\n",
    "\n",
    "•\t__False Positives (FP):__ The number of individuals who were incorrectly predicted to seek treatment for a mental illness (i.e., the model predicted \"Yes\" for treatment, but the actual value was \"No\").\n",
    "\n",
    "•\t__False Negatives (FN):__ The number of individuals who were incorrectly predicted not to seek treatment for a mental illness (i.e., the model predicted \"No\" for treatment, but the actual value was \"Yes\").\n",
    "\n",
    "Since my dataset is balanced 50/50 now, I will be focusing on __Accuracy__ as my metric."
   ]
  },
  {
   "cell_type": "code",
   "execution_count": 4,
   "metadata": {},
   "outputs": [],
   "source": [
    "# Selected only the features with significant association. (See EDAs-Feature Selection Notebook)\n",
    "significant_features = ['Gender', 'Family_History', 'Mental_Health_Interview', 'Care_Options', \n",
    "                        'Self_Employed', 'Coping_Struggles', 'Growing_Stress']\n",
    "\n",
    "# Defined X and y to be split. And mapped y to numeric format.\n",
    "X = df[significant_features]\n",
    "y = df['Treatment'].map({'Yes': 1, 'No': 0})\n",
    "\n",
    "# First split the dataset into train and test sets (80/20)\n",
    "X_train, X_test, y_train, y_test = train_test_split(X, y, test_size=0.2, random_state=42)\n"
   ]
  },
  {
   "cell_type": "code",
   "execution_count": 5,
   "metadata": {},
   "outputs": [
    {
     "name": "stdout",
     "output_type": "stream",
     "text": [
      "The X Train set shape is             (80000, 7)\n",
      "The X Test set shape is              (20000, 7)\n",
      "\n",
      "The y Train set shape is             (80000,)\n",
      "The y Test set shape is              (20000,)\n"
     ]
    }
   ],
   "source": [
    "# Printed shape of all training and test sets.\n",
    "print(\"The X Train set shape is            \", X_train.shape)\n",
    "print(\"The X Test set shape is             \", X_test.shape)\n",
    "print()\n",
    "print(\"The y Train set shape is            \", y_train.shape)\n",
    "print(\"The y Test set shape is             \", y_test.shape)"
   ]
  },
  {
   "cell_type": "code",
   "execution_count": 6,
   "metadata": {},
   "outputs": [
    {
     "data": {
      "text/html": [
       "<div>\n",
       "<style scoped>\n",
       "    .dataframe tbody tr th:only-of-type {\n",
       "        vertical-align: middle;\n",
       "    }\n",
       "\n",
       "    .dataframe tbody tr th {\n",
       "        vertical-align: top;\n",
       "    }\n",
       "\n",
       "    .dataframe thead th {\n",
       "        text-align: right;\n",
       "    }\n",
       "</style>\n",
       "<table border=\"1\" class=\"dataframe\">\n",
       "  <thead>\n",
       "    <tr style=\"text-align: right;\">\n",
       "      <th></th>\n",
       "      <th>Gender</th>\n",
       "      <th>Family_History</th>\n",
       "      <th>Mental_Health_Interview</th>\n",
       "      <th>Care_Options</th>\n",
       "      <th>Self_Employed</th>\n",
       "      <th>Coping_Struggles</th>\n",
       "      <th>Growing_Stress</th>\n",
       "    </tr>\n",
       "  </thead>\n",
       "  <tbody>\n",
       "    <tr>\n",
       "      <th>75220</th>\n",
       "      <td>Male</td>\n",
       "      <td>Yes</td>\n",
       "      <td>No</td>\n",
       "      <td>No</td>\n",
       "      <td>No</td>\n",
       "      <td>No</td>\n",
       "      <td>Yes</td>\n",
       "    </tr>\n",
       "    <tr>\n",
       "      <th>48955</th>\n",
       "      <td>Male</td>\n",
       "      <td>Yes</td>\n",
       "      <td>No</td>\n",
       "      <td>Yes</td>\n",
       "      <td>No</td>\n",
       "      <td>No</td>\n",
       "      <td>No</td>\n",
       "    </tr>\n",
       "    <tr>\n",
       "      <th>44966</th>\n",
       "      <td>Male</td>\n",
       "      <td>No</td>\n",
       "      <td>Maybe</td>\n",
       "      <td>Yes</td>\n",
       "      <td>No</td>\n",
       "      <td>Yes</td>\n",
       "      <td>Yes</td>\n",
       "    </tr>\n",
       "    <tr>\n",
       "      <th>13568</th>\n",
       "      <td>Male</td>\n",
       "      <td>No</td>\n",
       "      <td>No</td>\n",
       "      <td>Yes</td>\n",
       "      <td>No</td>\n",
       "      <td>No</td>\n",
       "      <td>Maybe</td>\n",
       "    </tr>\n",
       "    <tr>\n",
       "      <th>92727</th>\n",
       "      <td>Female</td>\n",
       "      <td>Yes</td>\n",
       "      <td>No</td>\n",
       "      <td>Not sure</td>\n",
       "      <td>No</td>\n",
       "      <td>Yes</td>\n",
       "      <td>No</td>\n",
       "    </tr>\n",
       "  </tbody>\n",
       "</table>\n",
       "</div>"
      ],
      "text/plain": [
       "       Gender Family_History Mental_Health_Interview Care_Options  \\\n",
       "75220    Male            Yes                      No           No   \n",
       "48955    Male            Yes                      No          Yes   \n",
       "44966    Male             No                   Maybe          Yes   \n",
       "13568    Male             No                      No          Yes   \n",
       "92727  Female            Yes                      No     Not sure   \n",
       "\n",
       "      Self_Employed Coping_Struggles Growing_Stress  \n",
       "75220            No               No            Yes  \n",
       "48955            No               No             No  \n",
       "44966            No              Yes            Yes  \n",
       "13568            No               No          Maybe  \n",
       "92727            No              Yes             No  "
      ]
     },
     "execution_count": 6,
     "metadata": {},
     "output_type": "execute_result"
    }
   ],
   "source": [
    "X_train.head()"
   ]
  },
  {
   "cell_type": "code",
   "execution_count": 7,
   "metadata": {},
   "outputs": [
    {
     "data": {
      "text/plain": [
       "65848    1\n",
       "20578    0\n",
       "46797    1\n",
       "24571    1\n",
       "13135    0\n",
       "85968    0\n",
       "21074    1\n",
       "26104    1\n",
       "63234    0\n",
       "34758    0\n",
       "Name: Treatment, dtype: int64"
      ]
     },
     "execution_count": 7,
     "metadata": {},
     "output_type": "execute_result"
    }
   ],
   "source": [
    "y_train.sample(10)"
   ]
  },
  {
   "cell_type": "code",
   "execution_count": 8,
   "metadata": {},
   "outputs": [
    {
     "data": {
      "text/html": [
       "<style>#sk-container-id-1 {color: black;background-color: white;}#sk-container-id-1 pre{padding: 0;}#sk-container-id-1 div.sk-toggleable {background-color: white;}#sk-container-id-1 label.sk-toggleable__label {cursor: pointer;display: block;width: 100%;margin-bottom: 0;padding: 0.3em;box-sizing: border-box;text-align: center;}#sk-container-id-1 label.sk-toggleable__label-arrow:before {content: \"▸\";float: left;margin-right: 0.25em;color: #696969;}#sk-container-id-1 label.sk-toggleable__label-arrow:hover:before {color: black;}#sk-container-id-1 div.sk-estimator:hover label.sk-toggleable__label-arrow:before {color: black;}#sk-container-id-1 div.sk-toggleable__content {max-height: 0;max-width: 0;overflow: hidden;text-align: left;background-color: #f0f8ff;}#sk-container-id-1 div.sk-toggleable__content pre {margin: 0.2em;color: black;border-radius: 0.25em;background-color: #f0f8ff;}#sk-container-id-1 input.sk-toggleable__control:checked~div.sk-toggleable__content {max-height: 200px;max-width: 100%;overflow: auto;}#sk-container-id-1 input.sk-toggleable__control:checked~label.sk-toggleable__label-arrow:before {content: \"▾\";}#sk-container-id-1 div.sk-estimator input.sk-toggleable__control:checked~label.sk-toggleable__label {background-color: #d4ebff;}#sk-container-id-1 div.sk-label input.sk-toggleable__control:checked~label.sk-toggleable__label {background-color: #d4ebff;}#sk-container-id-1 input.sk-hidden--visually {border: 0;clip: rect(1px 1px 1px 1px);clip: rect(1px, 1px, 1px, 1px);height: 1px;margin: -1px;overflow: hidden;padding: 0;position: absolute;width: 1px;}#sk-container-id-1 div.sk-estimator {font-family: monospace;background-color: #f0f8ff;border: 1px dotted black;border-radius: 0.25em;box-sizing: border-box;margin-bottom: 0.5em;}#sk-container-id-1 div.sk-estimator:hover {background-color: #d4ebff;}#sk-container-id-1 div.sk-parallel-item::after {content: \"\";width: 100%;border-bottom: 1px solid gray;flex-grow: 1;}#sk-container-id-1 div.sk-label:hover label.sk-toggleable__label {background-color: #d4ebff;}#sk-container-id-1 div.sk-serial::before {content: \"\";position: absolute;border-left: 1px solid gray;box-sizing: border-box;top: 0;bottom: 0;left: 50%;z-index: 0;}#sk-container-id-1 div.sk-serial {display: flex;flex-direction: column;align-items: center;background-color: white;padding-right: 0.2em;padding-left: 0.2em;position: relative;}#sk-container-id-1 div.sk-item {position: relative;z-index: 1;}#sk-container-id-1 div.sk-parallel {display: flex;align-items: stretch;justify-content: center;background-color: white;position: relative;}#sk-container-id-1 div.sk-item::before, #sk-container-id-1 div.sk-parallel-item::before {content: \"\";position: absolute;border-left: 1px solid gray;box-sizing: border-box;top: 0;bottom: 0;left: 50%;z-index: -1;}#sk-container-id-1 div.sk-parallel-item {display: flex;flex-direction: column;z-index: 1;position: relative;background-color: white;}#sk-container-id-1 div.sk-parallel-item:first-child::after {align-self: flex-end;width: 50%;}#sk-container-id-1 div.sk-parallel-item:last-child::after {align-self: flex-start;width: 50%;}#sk-container-id-1 div.sk-parallel-item:only-child::after {width: 0;}#sk-container-id-1 div.sk-dashed-wrapped {border: 1px dashed gray;margin: 0 0.4em 0.5em 0.4em;box-sizing: border-box;padding-bottom: 0.4em;background-color: white;}#sk-container-id-1 div.sk-label label {font-family: monospace;font-weight: bold;display: inline-block;line-height: 1.2em;}#sk-container-id-1 div.sk-label-container {text-align: center;}#sk-container-id-1 div.sk-container {/* jupyter's `normalize.less` sets `[hidden] { display: none; }` but bootstrap.min.css set `[hidden] { display: none !important; }` so we also need the `!important` here to be able to override the default hidden behavior on the sphinx rendered scikit-learn.org. See: https://github.com/scikit-learn/scikit-learn/issues/21755 */display: inline-block !important;position: relative;}#sk-container-id-1 div.sk-text-repr-fallback {display: none;}</style><div id=\"sk-container-id-1\" class=\"sk-top-container\"><div class=\"sk-text-repr-fallback\"><pre>Pipeline(steps=[(&#x27;preprocessor&#x27;,\n",
       "                 ColumnTransformer(transformers=[(&#x27;cat&#x27;,\n",
       "                                                  Pipeline(steps=[(&#x27;onehot&#x27;,\n",
       "                                                                   OneHotEncoder(handle_unknown=&#x27;ignore&#x27;))]),\n",
       "                                                  [&#x27;Gender&#x27;, &#x27;Family_History&#x27;,\n",
       "                                                   &#x27;Mental_Health_Interview&#x27;,\n",
       "                                                   &#x27;Care_Options&#x27;,\n",
       "                                                   &#x27;Self_Employed&#x27;,\n",
       "                                                   &#x27;Coping_Struggles&#x27;,\n",
       "                                                   &#x27;Growing_Stress&#x27;])])),\n",
       "                (&#x27;model&#x27;, &#x27;Model&#x27;)])</pre><b>In a Jupyter environment, please rerun this cell to show the HTML representation or trust the notebook. <br />On GitHub, the HTML representation is unable to render, please try loading this page with nbviewer.org.</b></div><div class=\"sk-container\" hidden><div class=\"sk-item sk-dashed-wrapped\"><div class=\"sk-label-container\"><div class=\"sk-label sk-toggleable\"><input class=\"sk-toggleable__control sk-hidden--visually\" id=\"sk-estimator-id-1\" type=\"checkbox\" ><label for=\"sk-estimator-id-1\" class=\"sk-toggleable__label sk-toggleable__label-arrow\">Pipeline</label><div class=\"sk-toggleable__content\"><pre>Pipeline(steps=[(&#x27;preprocessor&#x27;,\n",
       "                 ColumnTransformer(transformers=[(&#x27;cat&#x27;,\n",
       "                                                  Pipeline(steps=[(&#x27;onehot&#x27;,\n",
       "                                                                   OneHotEncoder(handle_unknown=&#x27;ignore&#x27;))]),\n",
       "                                                  [&#x27;Gender&#x27;, &#x27;Family_History&#x27;,\n",
       "                                                   &#x27;Mental_Health_Interview&#x27;,\n",
       "                                                   &#x27;Care_Options&#x27;,\n",
       "                                                   &#x27;Self_Employed&#x27;,\n",
       "                                                   &#x27;Coping_Struggles&#x27;,\n",
       "                                                   &#x27;Growing_Stress&#x27;])])),\n",
       "                (&#x27;model&#x27;, &#x27;Model&#x27;)])</pre></div></div></div><div class=\"sk-serial\"><div class=\"sk-item sk-dashed-wrapped\"><div class=\"sk-label-container\"><div class=\"sk-label sk-toggleable\"><input class=\"sk-toggleable__control sk-hidden--visually\" id=\"sk-estimator-id-2\" type=\"checkbox\" ><label for=\"sk-estimator-id-2\" class=\"sk-toggleable__label sk-toggleable__label-arrow\">preprocessor: ColumnTransformer</label><div class=\"sk-toggleable__content\"><pre>ColumnTransformer(transformers=[(&#x27;cat&#x27;,\n",
       "                                 Pipeline(steps=[(&#x27;onehot&#x27;,\n",
       "                                                  OneHotEncoder(handle_unknown=&#x27;ignore&#x27;))]),\n",
       "                                 [&#x27;Gender&#x27;, &#x27;Family_History&#x27;,\n",
       "                                  &#x27;Mental_Health_Interview&#x27;, &#x27;Care_Options&#x27;,\n",
       "                                  &#x27;Self_Employed&#x27;, &#x27;Coping_Struggles&#x27;,\n",
       "                                  &#x27;Growing_Stress&#x27;])])</pre></div></div></div><div class=\"sk-parallel\"><div class=\"sk-parallel-item\"><div class=\"sk-item\"><div class=\"sk-label-container\"><div class=\"sk-label sk-toggleable\"><input class=\"sk-toggleable__control sk-hidden--visually\" id=\"sk-estimator-id-3\" type=\"checkbox\" ><label for=\"sk-estimator-id-3\" class=\"sk-toggleable__label sk-toggleable__label-arrow\">cat</label><div class=\"sk-toggleable__content\"><pre>[&#x27;Gender&#x27;, &#x27;Family_History&#x27;, &#x27;Mental_Health_Interview&#x27;, &#x27;Care_Options&#x27;, &#x27;Self_Employed&#x27;, &#x27;Coping_Struggles&#x27;, &#x27;Growing_Stress&#x27;]</pre></div></div></div><div class=\"sk-serial\"><div class=\"sk-item\"><div class=\"sk-serial\"><div class=\"sk-item\"><div class=\"sk-estimator sk-toggleable\"><input class=\"sk-toggleable__control sk-hidden--visually\" id=\"sk-estimator-id-4\" type=\"checkbox\" ><label for=\"sk-estimator-id-4\" class=\"sk-toggleable__label sk-toggleable__label-arrow\">OneHotEncoder</label><div class=\"sk-toggleable__content\"><pre>OneHotEncoder(handle_unknown=&#x27;ignore&#x27;)</pre></div></div></div></div></div></div></div></div></div></div><div class=\"sk-item\"><div class=\"sk-estimator sk-toggleable\"><input class=\"sk-toggleable__control sk-hidden--visually\" id=\"sk-estimator-id-5\" type=\"checkbox\" ><label for=\"sk-estimator-id-5\" class=\"sk-toggleable__label sk-toggleable__label-arrow\">Model</label><div class=\"sk-toggleable__content\"><pre>Model</pre></div></div></div></div></div></div></div>"
      ],
      "text/plain": [
       "Pipeline(steps=[('preprocessor',\n",
       "                 ColumnTransformer(transformers=[('cat',\n",
       "                                                  Pipeline(steps=[('onehot',\n",
       "                                                                   OneHotEncoder(handle_unknown='ignore'))]),\n",
       "                                                  ['Gender', 'Family_History',\n",
       "                                                   'Mental_Health_Interview',\n",
       "                                                   'Care_Options',\n",
       "                                                   'Self_Employed',\n",
       "                                                   'Coping_Struggles',\n",
       "                                                   'Growing_Stress'])])),\n",
       "                ('model', 'Model')])"
      ]
     },
     "execution_count": 8,
     "metadata": {},
     "output_type": "execute_result"
    }
   ],
   "source": [
    "# Created a preprocessing pipeline with OneHotEncoder for categorical features\n",
    "categorical_features = significant_features\n",
    "\n",
    "categorical_transformer = Pipeline(steps=[\n",
    "    ('onehot', OneHotEncoder(handle_unknown='ignore'))\n",
    "])\n",
    "\n",
    "preprocessor = ColumnTransformer(\n",
    "    transformers=[\n",
    "        ('cat', categorical_transformer, categorical_features)\n",
    "    ])\n",
    "\n",
    "# Defined a basic pipeline with an empty Model place\n",
    "pipeline = Pipeline(steps=[\n",
    "    ('preprocessor', preprocessor),\n",
    "    ('model', 'Model')\n",
    "])\n",
    "\n",
    "pipeline"
   ]
  },
  {
   "cell_type": "markdown",
   "metadata": {},
   "source": [
    "## 4A. Model 1: Baseline - Logistic Regression\n",
    "I chose Logistic Regression as my Baseline model because it's simple and quick to use and easy to read. It's a great starting point to understand how the data might be read by the model."
   ]
  },
  {
   "cell_type": "code",
   "execution_count": 9,
   "metadata": {},
   "outputs": [
    {
     "data": {
      "text/html": [
       "<style>#sk-container-id-2 {color: black;background-color: white;}#sk-container-id-2 pre{padding: 0;}#sk-container-id-2 div.sk-toggleable {background-color: white;}#sk-container-id-2 label.sk-toggleable__label {cursor: pointer;display: block;width: 100%;margin-bottom: 0;padding: 0.3em;box-sizing: border-box;text-align: center;}#sk-container-id-2 label.sk-toggleable__label-arrow:before {content: \"▸\";float: left;margin-right: 0.25em;color: #696969;}#sk-container-id-2 label.sk-toggleable__label-arrow:hover:before {color: black;}#sk-container-id-2 div.sk-estimator:hover label.sk-toggleable__label-arrow:before {color: black;}#sk-container-id-2 div.sk-toggleable__content {max-height: 0;max-width: 0;overflow: hidden;text-align: left;background-color: #f0f8ff;}#sk-container-id-2 div.sk-toggleable__content pre {margin: 0.2em;color: black;border-radius: 0.25em;background-color: #f0f8ff;}#sk-container-id-2 input.sk-toggleable__control:checked~div.sk-toggleable__content {max-height: 200px;max-width: 100%;overflow: auto;}#sk-container-id-2 input.sk-toggleable__control:checked~label.sk-toggleable__label-arrow:before {content: \"▾\";}#sk-container-id-2 div.sk-estimator input.sk-toggleable__control:checked~label.sk-toggleable__label {background-color: #d4ebff;}#sk-container-id-2 div.sk-label input.sk-toggleable__control:checked~label.sk-toggleable__label {background-color: #d4ebff;}#sk-container-id-2 input.sk-hidden--visually {border: 0;clip: rect(1px 1px 1px 1px);clip: rect(1px, 1px, 1px, 1px);height: 1px;margin: -1px;overflow: hidden;padding: 0;position: absolute;width: 1px;}#sk-container-id-2 div.sk-estimator {font-family: monospace;background-color: #f0f8ff;border: 1px dotted black;border-radius: 0.25em;box-sizing: border-box;margin-bottom: 0.5em;}#sk-container-id-2 div.sk-estimator:hover {background-color: #d4ebff;}#sk-container-id-2 div.sk-parallel-item::after {content: \"\";width: 100%;border-bottom: 1px solid gray;flex-grow: 1;}#sk-container-id-2 div.sk-label:hover label.sk-toggleable__label {background-color: #d4ebff;}#sk-container-id-2 div.sk-serial::before {content: \"\";position: absolute;border-left: 1px solid gray;box-sizing: border-box;top: 0;bottom: 0;left: 50%;z-index: 0;}#sk-container-id-2 div.sk-serial {display: flex;flex-direction: column;align-items: center;background-color: white;padding-right: 0.2em;padding-left: 0.2em;position: relative;}#sk-container-id-2 div.sk-item {position: relative;z-index: 1;}#sk-container-id-2 div.sk-parallel {display: flex;align-items: stretch;justify-content: center;background-color: white;position: relative;}#sk-container-id-2 div.sk-item::before, #sk-container-id-2 div.sk-parallel-item::before {content: \"\";position: absolute;border-left: 1px solid gray;box-sizing: border-box;top: 0;bottom: 0;left: 50%;z-index: -1;}#sk-container-id-2 div.sk-parallel-item {display: flex;flex-direction: column;z-index: 1;position: relative;background-color: white;}#sk-container-id-2 div.sk-parallel-item:first-child::after {align-self: flex-end;width: 50%;}#sk-container-id-2 div.sk-parallel-item:last-child::after {align-self: flex-start;width: 50%;}#sk-container-id-2 div.sk-parallel-item:only-child::after {width: 0;}#sk-container-id-2 div.sk-dashed-wrapped {border: 1px dashed gray;margin: 0 0.4em 0.5em 0.4em;box-sizing: border-box;padding-bottom: 0.4em;background-color: white;}#sk-container-id-2 div.sk-label label {font-family: monospace;font-weight: bold;display: inline-block;line-height: 1.2em;}#sk-container-id-2 div.sk-label-container {text-align: center;}#sk-container-id-2 div.sk-container {/* jupyter's `normalize.less` sets `[hidden] { display: none; }` but bootstrap.min.css set `[hidden] { display: none !important; }` so we also need the `!important` here to be able to override the default hidden behavior on the sphinx rendered scikit-learn.org. See: https://github.com/scikit-learn/scikit-learn/issues/21755 */display: inline-block !important;position: relative;}#sk-container-id-2 div.sk-text-repr-fallback {display: none;}</style><div id=\"sk-container-id-2\" class=\"sk-top-container\"><div class=\"sk-text-repr-fallback\"><pre>Pipeline(steps=[(&#x27;preprocessor&#x27;,\n",
       "                 ColumnTransformer(transformers=[(&#x27;cat&#x27;,\n",
       "                                                  Pipeline(steps=[(&#x27;onehot&#x27;,\n",
       "                                                                   OneHotEncoder(handle_unknown=&#x27;ignore&#x27;))]),\n",
       "                                                  [&#x27;Gender&#x27;, &#x27;Family_History&#x27;,\n",
       "                                                   &#x27;Mental_Health_Interview&#x27;,\n",
       "                                                   &#x27;Care_Options&#x27;,\n",
       "                                                   &#x27;Self_Employed&#x27;,\n",
       "                                                   &#x27;Coping_Struggles&#x27;,\n",
       "                                                   &#x27;Growing_Stress&#x27;])])),\n",
       "                (&#x27;model&#x27;, LogisticRegression(max_iter=1000, random_state=42))])</pre><b>In a Jupyter environment, please rerun this cell to show the HTML representation or trust the notebook. <br />On GitHub, the HTML representation is unable to render, please try loading this page with nbviewer.org.</b></div><div class=\"sk-container\" hidden><div class=\"sk-item sk-dashed-wrapped\"><div class=\"sk-label-container\"><div class=\"sk-label sk-toggleable\"><input class=\"sk-toggleable__control sk-hidden--visually\" id=\"sk-estimator-id-6\" type=\"checkbox\" ><label for=\"sk-estimator-id-6\" class=\"sk-toggleable__label sk-toggleable__label-arrow\">Pipeline</label><div class=\"sk-toggleable__content\"><pre>Pipeline(steps=[(&#x27;preprocessor&#x27;,\n",
       "                 ColumnTransformer(transformers=[(&#x27;cat&#x27;,\n",
       "                                                  Pipeline(steps=[(&#x27;onehot&#x27;,\n",
       "                                                                   OneHotEncoder(handle_unknown=&#x27;ignore&#x27;))]),\n",
       "                                                  [&#x27;Gender&#x27;, &#x27;Family_History&#x27;,\n",
       "                                                   &#x27;Mental_Health_Interview&#x27;,\n",
       "                                                   &#x27;Care_Options&#x27;,\n",
       "                                                   &#x27;Self_Employed&#x27;,\n",
       "                                                   &#x27;Coping_Struggles&#x27;,\n",
       "                                                   &#x27;Growing_Stress&#x27;])])),\n",
       "                (&#x27;model&#x27;, LogisticRegression(max_iter=1000, random_state=42))])</pre></div></div></div><div class=\"sk-serial\"><div class=\"sk-item sk-dashed-wrapped\"><div class=\"sk-label-container\"><div class=\"sk-label sk-toggleable\"><input class=\"sk-toggleable__control sk-hidden--visually\" id=\"sk-estimator-id-7\" type=\"checkbox\" ><label for=\"sk-estimator-id-7\" class=\"sk-toggleable__label sk-toggleable__label-arrow\">preprocessor: ColumnTransformer</label><div class=\"sk-toggleable__content\"><pre>ColumnTransformer(transformers=[(&#x27;cat&#x27;,\n",
       "                                 Pipeline(steps=[(&#x27;onehot&#x27;,\n",
       "                                                  OneHotEncoder(handle_unknown=&#x27;ignore&#x27;))]),\n",
       "                                 [&#x27;Gender&#x27;, &#x27;Family_History&#x27;,\n",
       "                                  &#x27;Mental_Health_Interview&#x27;, &#x27;Care_Options&#x27;,\n",
       "                                  &#x27;Self_Employed&#x27;, &#x27;Coping_Struggles&#x27;,\n",
       "                                  &#x27;Growing_Stress&#x27;])])</pre></div></div></div><div class=\"sk-parallel\"><div class=\"sk-parallel-item\"><div class=\"sk-item\"><div class=\"sk-label-container\"><div class=\"sk-label sk-toggleable\"><input class=\"sk-toggleable__control sk-hidden--visually\" id=\"sk-estimator-id-8\" type=\"checkbox\" ><label for=\"sk-estimator-id-8\" class=\"sk-toggleable__label sk-toggleable__label-arrow\">cat</label><div class=\"sk-toggleable__content\"><pre>[&#x27;Gender&#x27;, &#x27;Family_History&#x27;, &#x27;Mental_Health_Interview&#x27;, &#x27;Care_Options&#x27;, &#x27;Self_Employed&#x27;, &#x27;Coping_Struggles&#x27;, &#x27;Growing_Stress&#x27;]</pre></div></div></div><div class=\"sk-serial\"><div class=\"sk-item\"><div class=\"sk-serial\"><div class=\"sk-item\"><div class=\"sk-estimator sk-toggleable\"><input class=\"sk-toggleable__control sk-hidden--visually\" id=\"sk-estimator-id-9\" type=\"checkbox\" ><label for=\"sk-estimator-id-9\" class=\"sk-toggleable__label sk-toggleable__label-arrow\">OneHotEncoder</label><div class=\"sk-toggleable__content\"><pre>OneHotEncoder(handle_unknown=&#x27;ignore&#x27;)</pre></div></div></div></div></div></div></div></div></div></div><div class=\"sk-item\"><div class=\"sk-estimator sk-toggleable\"><input class=\"sk-toggleable__control sk-hidden--visually\" id=\"sk-estimator-id-10\" type=\"checkbox\" ><label for=\"sk-estimator-id-10\" class=\"sk-toggleable__label sk-toggleable__label-arrow\">LogisticRegression</label><div class=\"sk-toggleable__content\"><pre>LogisticRegression(max_iter=1000, random_state=42)</pre></div></div></div></div></div></div></div>"
      ],
      "text/plain": [
       "Pipeline(steps=[('preprocessor',\n",
       "                 ColumnTransformer(transformers=[('cat',\n",
       "                                                  Pipeline(steps=[('onehot',\n",
       "                                                                   OneHotEncoder(handle_unknown='ignore'))]),\n",
       "                                                  ['Gender', 'Family_History',\n",
       "                                                   'Mental_Health_Interview',\n",
       "                                                   'Care_Options',\n",
       "                                                   'Self_Employed',\n",
       "                                                   'Coping_Struggles',\n",
       "                                                   'Growing_Stress'])])),\n",
       "                ('model', LogisticRegression(max_iter=1000, random_state=42))])"
      ]
     },
     "execution_count": 9,
     "metadata": {},
     "output_type": "execute_result"
    }
   ],
   "source": [
    "# Created the Baseline model using Logistic Regression\n",
    "LogReg = LogisticRegression(max_iter=1000, random_state=42)\n",
    "\n",
    "# Added LogReg to empty model slot on pipeline\n",
    "logreg_pipeline = pipeline.set_params(model=LogReg)\n",
    "\n",
    "logreg_pipeline"
   ]
  },
  {
   "cell_type": "code",
   "execution_count": 10,
   "metadata": {},
   "outputs": [
    {
     "name": "stdout",
     "output_type": "stream",
     "text": [
      "\u001b[1mThe Accuracy score on the Training set is:\u001b[0m  0.7083875\n",
      "\u001b[1mClassification Report on the Training set:\u001b[0m\n",
      "               precision    recall  f1-score   support\n",
      "\n",
      "           0       0.73      0.65      0.69     39922\n",
      "           1       0.69      0.77      0.72     40078\n",
      "\n",
      "    accuracy                           0.71     80000\n",
      "   macro avg       0.71      0.71      0.71     80000\n",
      "weighted avg       0.71      0.71      0.71     80000\n",
      "\n",
      "\u001b[1mThe Accuracy score on the Test set is:\u001b[0m  0.70265\n",
      "\u001b[1mClassification Report on the Test set:\u001b[0m\n",
      "               precision    recall  f1-score   support\n",
      "\n",
      "           0       0.73      0.64      0.69     10078\n",
      "           1       0.68      0.76      0.72      9922\n",
      "\n",
      "    accuracy                           0.70     20000\n",
      "   macro avg       0.71      0.70      0.70     20000\n",
      "weighted avg       0.71      0.70      0.70     20000\n",
      "\n",
      "\u001b[1mCross-validation accuracy scores on the Training set:\u001b[0m\n",
      " [0.704625 0.71075  0.705375 0.706125 0.716125 0.703    0.7055   0.71125\n",
      " 0.714375 0.704125]\n"
     ]
    }
   ],
   "source": [
    "# Trained the model\n",
    "logreg_pipeline.fit(X_train, y_train)\n",
    "\n",
    "# Predictions & Evaluation on the Training set\n",
    "y_pred_train = logreg_pipeline.predict(X_train)\n",
    "accuracy_train = accuracy_score(y_train, y_pred_train)\n",
    "classification_report_train = classification_report(y_train, y_pred_train)\n",
    "\n",
    "# Predictions & Evaluation on the Test set\n",
    "y_pred_test = logreg_pipeline.predict(X_test)\n",
    "accuracy_test = accuracy_score(y_test, y_pred_test)\n",
    "classification_report_test = classification_report(y_test, y_pred_test)\n",
    "\n",
    "# Cross-validated scores on the Training set\n",
    "cv_scores_train = cross_val_score(logreg_pipeline, X_train, y_train, cv=10, scoring='accuracy')\n",
    "\n",
    "print(\"\\033[1mThe Accuracy score on the Training set is:\\033[0m \", accuracy_train)\n",
    "print(\"\\033[1mClassification Report on the Training set:\\033[0m\\n\", classification_report_train)\n",
    "\n",
    "print(\"\\033[1mThe Accuracy score on the Test set is:\\033[0m \", accuracy_test)\n",
    "print(\"\\033[1mClassification Report on the Test set:\\033[0m\\n\", classification_report_test)\n",
    "\n",
    "print(\"\\033[1mCross-validation accuracy scores on the Training set:\\033[0m\\n\", cv_scores_train)"
   ]
  },
  {
   "cell_type": "markdown",
   "metadata": {},
   "source": [
    "##### FINDINGS:  TEST SET\n",
    "Keeping in mind that Yes = 1 and No = 0.\n",
    "\n",
    "The __Accuracy Score__ of __70.61%__ means that out of every 100 samples, the model correctly predicted 70 of them.  \n",
    "\n",
    "The __Precision__ score indicates that the model correctly predicted when a person would not seek treatment 74% of the time and correctly predicted when a person would seek treatment 68% of the time.\n",
    "\n",
    "The __Recall__ score indicates that the model correctly caught all the cases it needed to 65% of the time for those unlikely to seek treatment and 76% of the time for those likely to seek treatment.\n",
    "\n",
    "The __F1__ score is a balanced view of the Precision and Recall Scores. In this case, the model is slightly better at predicting those who would seek treatment (Yes = 72%) than those who would not (No = 69%)  \n",
    "\n",
    "The __Cross-Validation__ scores shows that the models Accuracy score on the Training set varied on different subsets of the training data. In this case, the scores ranged from 70.3% to 71.6% which means my model is fairly stable when makeing predictions.\n",
    "\n",
    "The Training set's and Testing set's overall scores are within 1% of eachother. This means the model is responding well to unseen data.\n"
   ]
  },
  {
   "cell_type": "code",
   "execution_count": 11,
   "metadata": {},
   "outputs": [
    {
     "data": {
      "image/png": "[encoded data removed]",
      "text/plain": [
       "<Figure size 576x432 with 2 Axes>"
      ]
     },
     "metadata": {
      "needs_background": "light"
     },
     "output_type": "display_data"
    }
   ],
   "source": [
    "# Created the confusion matrix for visualization\n",
    "cm1 = confusion_matrix(y_test, y_pred_test, labels=[1, 0])\n",
    "\n",
    "plt.figure(figsize=(8, 6))\n",
    "sns.heatmap(cm1, annot=True, fmt='d', cmap='Purples')\n",
    "\n",
    "plt.xlabel('Predicted')\n",
    "plt.ylabel('Actual')\n",
    "plt.title('Confusion Matrix-Test Set')\n",
    "\n",
    "plt.xticks(ticks=[0.5, 1.5], labels=['Yes', 'No'])\n",
    "plt.yticks(ticks=[0.5, 1.5], labels=['Yes', 'No'])\n",
    "\n",
    "plt.savefig('cm1-LogReg.png', dpi=300, bbox_inches='tight')\n",
    "\n",
    "plt.show()"
   ]
  },
  {
   "cell_type": "markdown",
   "metadata": {},
   "source": [
    "##### FINDINGS: TEST SET\n",
    "__TP:__ The model correctly predicted __7,578__ individuals who would seek treatment for a mental illness.\n",
    "\n",
    "__TN:__ The model correctly predicted __6,475__ individuals who would not seek treatment for a mental illness.\n",
    "\n",
    "__FP:__ The model incorrectly predicted __3,603__ individuals as seeking treatment on their own when they will not.\n",
    "\n",
    "__FN:__ The model incorrectly predicted __2,344__ individuals as not seeking treatment on their own when they will."
   ]
  },
  {
   "cell_type": "code",
   "execution_count": 12,
   "metadata": {},
   "outputs": [
    {
     "name": "stdout",
     "output_type": "stream",
     "text": [
      "AUC-ROC: 0.7690249774796298\n"
     ]
    },
    {
     "data": {
      "image/png": "[encoded data removed]",
      "text/plain": [
       "<Figure size 432x288 with 1 Axes>"
      ]
     },
     "metadata": {
      "needs_background": "light"
     },
     "output_type": "display_data"
    }
   ],
   "source": [
    "# Printed the Area Under the Curve score and the ROC curve graph.\n",
    "print(\"AUC-ROC:\", roc_auc_score(y_test, logreg_pipeline.predict_proba(X_test)[:, 1]))\n",
    "\n",
    "RocCurveDisplay.from_estimator(logreg_pipeline, X_test, y_test)\n",
    "\n",
    "plt.title('ROC Curve LogReg Test Set')\n",
    "\n",
    "plt.savefig('ROC-LogReg.png', dpi=300, bbox_inches='tight')\n",
    "\n",
    "plt.show()"
   ]
  },
  {
   "cell_type": "markdown",
   "metadata": {},
   "source": [
    "##### FINDINGS:\n",
    "The fact that the AUC is higher than the accuracy, suggests that while the model is correct about 70.26% of the time, it has a reasonably good ability (76.90%) to rank predictions correctly, indicating it is better at distinguishing between the positive and negative classes than the accuracy might suggest."
   ]
  },
  {
   "cell_type": "code",
   "execution_count": 13,
   "metadata": {},
   "outputs": [
    {
     "name": "stdout",
     "output_type": "stream",
     "text": [
      "\u001b[1mThe list of new columns from OHE is:\u001b[0m\n",
      " ['Gender_Female' 'Gender_Male' 'Family_History_No' 'Family_History_Yes'\n",
      " 'Mental_Health_Interview_Maybe' 'Mental_Health_Interview_No'\n",
      " 'Mental_Health_Interview_Yes' 'Care_Options_No' 'Care_Options_Not sure'\n",
      " 'Care_Options_Yes' 'Self_Employed_No' 'Self_Employed_Yes'\n",
      " 'Coping_Struggles_No' 'Coping_Struggles_Yes' 'Growing_Stress_Maybe'\n",
      " 'Growing_Stress_No' 'Growing_Stress_Yes']\n",
      "\n",
      "\u001b[1mThe total number of new columns is:\u001b[0m  17\n"
     ]
    }
   ],
   "source": [
    "# Used Get Feature Name Out to get a list and total number of the columns created by OneHotEncoder\n",
    "ohe_feature_names = logreg_pipeline.named_steps['preprocessor'].named_transformers_['cat'].get_feature_names_out()\n",
    "\n",
    "total_new_columns = len(ohe_feature_names)\n",
    "\n",
    "print(\"\\033[1mThe list of new columns from OHE is:\\033[0m\\n\", ohe_feature_names)\n",
    "print()\n",
    "print(\"\\033[1mThe total number of new columns is:\\033[0m \", total_new_columns)"
   ]
  },
  {
   "cell_type": "markdown",
   "metadata": {},
   "source": [
    "## 4B. Model 2:  Random Forest Classifier\n",
    "I chose Random Forest as my second model because it reduces the risk of overfitting and tends to have low bias because it builds many decision trees and makes predictions based on the majority vote from all the trees."
   ]
  },
  {
   "cell_type": "code",
   "execution_count": 14,
   "metadata": {},
   "outputs": [
    {
     "data": {
      "text/html": [
       "<style>#sk-container-id-3 {color: black;background-color: white;}#sk-container-id-3 pre{padding: 0;}#sk-container-id-3 div.sk-toggleable {background-color: white;}#sk-container-id-3 label.sk-toggleable__label {cursor: pointer;display: block;width: 100%;margin-bottom: 0;padding: 0.3em;box-sizing: border-box;text-align: center;}#sk-container-id-3 label.sk-toggleable__label-arrow:before {content: \"▸\";float: left;margin-right: 0.25em;color: #696969;}#sk-container-id-3 label.sk-toggleable__label-arrow:hover:before {color: black;}#sk-container-id-3 div.sk-estimator:hover label.sk-toggleable__label-arrow:before {color: black;}#sk-container-id-3 div.sk-toggleable__content {max-height: 0;max-width: 0;overflow: hidden;text-align: left;background-color: #f0f8ff;}#sk-container-id-3 div.sk-toggleable__content pre {margin: 0.2em;color: black;border-radius: 0.25em;background-color: #f0f8ff;}#sk-container-id-3 input.sk-toggleable__control:checked~div.sk-toggleable__content {max-height: 200px;max-width: 100%;overflow: auto;}#sk-container-id-3 input.sk-toggleable__control:checked~label.sk-toggleable__label-arrow:before {content: \"▾\";}#sk-container-id-3 div.sk-estimator input.sk-toggleable__control:checked~label.sk-toggleable__label {background-color: #d4ebff;}#sk-container-id-3 div.sk-label input.sk-toggleable__control:checked~label.sk-toggleable__label {background-color: #d4ebff;}#sk-container-id-3 input.sk-hidden--visually {border: 0;clip: rect(1px 1px 1px 1px);clip: rect(1px, 1px, 1px, 1px);height: 1px;margin: -1px;overflow: hidden;padding: 0;position: absolute;width: 1px;}#sk-container-id-3 div.sk-estimator {font-family: monospace;background-color: #f0f8ff;border: 1px dotted black;border-radius: 0.25em;box-sizing: border-box;margin-bottom: 0.5em;}#sk-container-id-3 div.sk-estimator:hover {background-color: #d4ebff;}#sk-container-id-3 div.sk-parallel-item::after {content: \"\";width: 100%;border-bottom: 1px solid gray;flex-grow: 1;}#sk-container-id-3 div.sk-label:hover label.sk-toggleable__label {background-color: #d4ebff;}#sk-container-id-3 div.sk-serial::before {content: \"\";position: absolute;border-left: 1px solid gray;box-sizing: border-box;top: 0;bottom: 0;left: 50%;z-index: 0;}#sk-container-id-3 div.sk-serial {display: flex;flex-direction: column;align-items: center;background-color: white;padding-right: 0.2em;padding-left: 0.2em;position: relative;}#sk-container-id-3 div.sk-item {position: relative;z-index: 1;}#sk-container-id-3 div.sk-parallel {display: flex;align-items: stretch;justify-content: center;background-color: white;position: relative;}#sk-container-id-3 div.sk-item::before, #sk-container-id-3 div.sk-parallel-item::before {content: \"\";position: absolute;border-left: 1px solid gray;box-sizing: border-box;top: 0;bottom: 0;left: 50%;z-index: -1;}#sk-container-id-3 div.sk-parallel-item {display: flex;flex-direction: column;z-index: 1;position: relative;background-color: white;}#sk-container-id-3 div.sk-parallel-item:first-child::after {align-self: flex-end;width: 50%;}#sk-container-id-3 div.sk-parallel-item:last-child::after {align-self: flex-start;width: 50%;}#sk-container-id-3 div.sk-parallel-item:only-child::after {width: 0;}#sk-container-id-3 div.sk-dashed-wrapped {border: 1px dashed gray;margin: 0 0.4em 0.5em 0.4em;box-sizing: border-box;padding-bottom: 0.4em;background-color: white;}#sk-container-id-3 div.sk-label label {font-family: monospace;font-weight: bold;display: inline-block;line-height: 1.2em;}#sk-container-id-3 div.sk-label-container {text-align: center;}#sk-container-id-3 div.sk-container {/* jupyter's `normalize.less` sets `[hidden] { display: none; }` but bootstrap.min.css set `[hidden] { display: none !important; }` so we also need the `!important` here to be able to override the default hidden behavior on the sphinx rendered scikit-learn.org. See: https://github.com/scikit-learn/scikit-learn/issues/21755 */display: inline-block !important;position: relative;}#sk-container-id-3 div.sk-text-repr-fallback {display: none;}</style><div id=\"sk-container-id-3\" class=\"sk-top-container\"><div class=\"sk-text-repr-fallback\"><pre>Pipeline(steps=[(&#x27;preprocessor&#x27;,\n",
       "                 ColumnTransformer(transformers=[(&#x27;cat&#x27;,\n",
       "                                                  Pipeline(steps=[(&#x27;onehot&#x27;,\n",
       "                                                                   OneHotEncoder(handle_unknown=&#x27;ignore&#x27;))]),\n",
       "                                                  [&#x27;Gender&#x27;, &#x27;Family_History&#x27;,\n",
       "                                                   &#x27;Mental_Health_Interview&#x27;,\n",
       "                                                   &#x27;Care_Options&#x27;,\n",
       "                                                   &#x27;Self_Employed&#x27;,\n",
       "                                                   &#x27;Coping_Struggles&#x27;,\n",
       "                                                   &#x27;Growing_Stress&#x27;])])),\n",
       "                (&#x27;model&#x27;, RandomForestClassifier(random_state=42))])</pre><b>In a Jupyter environment, please rerun this cell to show the HTML representation or trust the notebook. <br />On GitHub, the HTML representation is unable to render, please try loading this page with nbviewer.org.</b></div><div class=\"sk-container\" hidden><div class=\"sk-item sk-dashed-wrapped\"><div class=\"sk-label-container\"><div class=\"sk-label sk-toggleable\"><input class=\"sk-toggleable__control sk-hidden--visually\" id=\"sk-estimator-id-11\" type=\"checkbox\" ><label for=\"sk-estimator-id-11\" class=\"sk-toggleable__label sk-toggleable__label-arrow\">Pipeline</label><div class=\"sk-toggleable__content\"><pre>Pipeline(steps=[(&#x27;preprocessor&#x27;,\n",
       "                 ColumnTransformer(transformers=[(&#x27;cat&#x27;,\n",
       "                                                  Pipeline(steps=[(&#x27;onehot&#x27;,\n",
       "                                                                   OneHotEncoder(handle_unknown=&#x27;ignore&#x27;))]),\n",
       "                                                  [&#x27;Gender&#x27;, &#x27;Family_History&#x27;,\n",
       "                                                   &#x27;Mental_Health_Interview&#x27;,\n",
       "                                                   &#x27;Care_Options&#x27;,\n",
       "                                                   &#x27;Self_Employed&#x27;,\n",
       "                                                   &#x27;Coping_Struggles&#x27;,\n",
       "                                                   &#x27;Growing_Stress&#x27;])])),\n",
       "                (&#x27;model&#x27;, RandomForestClassifier(random_state=42))])</pre></div></div></div><div class=\"sk-serial\"><div class=\"sk-item sk-dashed-wrapped\"><div class=\"sk-label-container\"><div class=\"sk-label sk-toggleable\"><input class=\"sk-toggleable__control sk-hidden--visually\" id=\"sk-estimator-id-12\" type=\"checkbox\" ><label for=\"sk-estimator-id-12\" class=\"sk-toggleable__label sk-toggleable__label-arrow\">preprocessor: ColumnTransformer</label><div class=\"sk-toggleable__content\"><pre>ColumnTransformer(transformers=[(&#x27;cat&#x27;,\n",
       "                                 Pipeline(steps=[(&#x27;onehot&#x27;,\n",
       "                                                  OneHotEncoder(handle_unknown=&#x27;ignore&#x27;))]),\n",
       "                                 [&#x27;Gender&#x27;, &#x27;Family_History&#x27;,\n",
       "                                  &#x27;Mental_Health_Interview&#x27;, &#x27;Care_Options&#x27;,\n",
       "                                  &#x27;Self_Employed&#x27;, &#x27;Coping_Struggles&#x27;,\n",
       "                                  &#x27;Growing_Stress&#x27;])])</pre></div></div></div><div class=\"sk-parallel\"><div class=\"sk-parallel-item\"><div class=\"sk-item\"><div class=\"sk-label-container\"><div class=\"sk-label sk-toggleable\"><input class=\"sk-toggleable__control sk-hidden--visually\" id=\"sk-estimator-id-13\" type=\"checkbox\" ><label for=\"sk-estimator-id-13\" class=\"sk-toggleable__label sk-toggleable__label-arrow\">cat</label><div class=\"sk-toggleable__content\"><pre>[&#x27;Gender&#x27;, &#x27;Family_History&#x27;, &#x27;Mental_Health_Interview&#x27;, &#x27;Care_Options&#x27;, &#x27;Self_Employed&#x27;, &#x27;Coping_Struggles&#x27;, &#x27;Growing_Stress&#x27;]</pre></div></div></div><div class=\"sk-serial\"><div class=\"sk-item\"><div class=\"sk-serial\"><div class=\"sk-item\"><div class=\"sk-estimator sk-toggleable\"><input class=\"sk-toggleable__control sk-hidden--visually\" id=\"sk-estimator-id-14\" type=\"checkbox\" ><label for=\"sk-estimator-id-14\" class=\"sk-toggleable__label sk-toggleable__label-arrow\">OneHotEncoder</label><div class=\"sk-toggleable__content\"><pre>OneHotEncoder(handle_unknown=&#x27;ignore&#x27;)</pre></div></div></div></div></div></div></div></div></div></div><div class=\"sk-item\"><div class=\"sk-estimator sk-toggleable\"><input class=\"sk-toggleable__control sk-hidden--visually\" id=\"sk-estimator-id-15\" type=\"checkbox\" ><label for=\"sk-estimator-id-15\" class=\"sk-toggleable__label sk-toggleable__label-arrow\">RandomForestClassifier</label><div class=\"sk-toggleable__content\"><pre>RandomForestClassifier(random_state=42)</pre></div></div></div></div></div></div></div>"
      ],
      "text/plain": [
       "Pipeline(steps=[('preprocessor',\n",
       "                 ColumnTransformer(transformers=[('cat',\n",
       "                                                  Pipeline(steps=[('onehot',\n",
       "                                                                   OneHotEncoder(handle_unknown='ignore'))]),\n",
       "                                                  ['Gender', 'Family_History',\n",
       "                                                   'Mental_Health_Interview',\n",
       "                                                   'Care_Options',\n",
       "                                                   'Self_Employed',\n",
       "                                                   'Coping_Struggles',\n",
       "                                                   'Growing_Stress'])])),\n",
       "                ('model', RandomForestClassifier(random_state=42))])"
      ]
     },
     "execution_count": 14,
     "metadata": {},
     "output_type": "execute_result"
    }
   ],
   "source": [
    "# Defined Random Forest Classifier as my 2nd model\n",
    "RandForest = RandomForestClassifier(random_state=42)\n",
    "\n",
    "# Added RandForest to empty model slot on pipeline\n",
    "RF_pipeline = pipeline.set_params(model=RandForest)\n",
    "\n",
    "RF_pipeline"
   ]
  },
  {
   "cell_type": "code",
   "execution_count": 15,
   "metadata": {},
   "outputs": [
    {
     "name": "stdout",
     "output_type": "stream",
     "text": [
      "\u001b[1mThe Accuracy score on the Training set is:\u001b[0m  0.7275875\n",
      "\u001b[1mClassification Report on the Training set:\u001b[0m\n",
      "               precision    recall  f1-score   support\n",
      "\n",
      "           0       0.77      0.64      0.70     39922\n",
      "           1       0.69      0.81      0.75     40078\n",
      "\n",
      "    accuracy                           0.73     80000\n",
      "   macro avg       0.73      0.73      0.73     80000\n",
      "weighted avg       0.73      0.73      0.73     80000\n",
      "\n",
      "\u001b[1mThe Accuracy score on the Test set is:\u001b[0m  0.7191\n",
      "\u001b[1mClassification Report on the Test set:\u001b[0m\n",
      "               precision    recall  f1-score   support\n",
      "\n",
      "           0       0.77      0.63      0.69     10078\n",
      "           1       0.68      0.81      0.74      9922\n",
      "\n",
      "    accuracy                           0.72     20000\n",
      "   macro avg       0.73      0.72      0.72     20000\n",
      "weighted avg       0.73      0.72      0.72     20000\n",
      "\n",
      "\u001b[1mCross-validation accuracy scores on the Training set:\u001b[0m\n",
      " [0.726625 0.72625  0.720375 0.721875 0.7305   0.721875 0.72325  0.72675\n",
      " 0.73475  0.71775 ]\n"
     ]
    }
   ],
   "source": [
    "# Trained the model\n",
    "RF_pipeline.fit(X_train, y_train)\n",
    "\n",
    "# Predictions & Evaluation on the Training set\n",
    "y_pred_train2 = RF_pipeline.predict(X_train)\n",
    "accuracy_train2 = accuracy_score(y_train, y_pred_train2)\n",
    "classification_report_train2 = classification_report(y_train, y_pred_train2)\n",
    "\n",
    "# Predictions & Evaluation on the Test set\n",
    "y_pred_test2 = RF_pipeline.predict(X_test)\n",
    "accuracy_test2 = accuracy_score(y_test, y_pred_test2)\n",
    "classification_report_test2 = classification_report(y_test, y_pred_test2)\n",
    "\n",
    "# Cross-validated scores on the Training set\n",
    "cv_scores_train2 = cross_val_score(RF_pipeline, X_train, y_train, cv=10, scoring='accuracy')\n",
    "\n",
    "print(\"\\033[1mThe Accuracy score on the Training set is:\\033[0m \", accuracy_train2)\n",
    "print(\"\\033[1mClassification Report on the Training set:\\033[0m\\n\", classification_report_train2)\n",
    "\n",
    "print(\"\\033[1mThe Accuracy score on the Test set is:\\033[0m \", accuracy_test2)\n",
    "print(\"\\033[1mClassification Report on the Test set:\\033[0m\\n\", classification_report_test2)\n",
    "\n",
    "print(\"\\033[1mCross-validation accuracy scores on the Training set:\\033[0m\\n\", cv_scores_train2)"
   ]
  },
  {
   "cell_type": "markdown",
   "metadata": {},
   "source": [
    "##### FINDINGS:  TEST SET\n",
    "Keeping in mind that Yes = 1 and No = 0.  \n",
    "\n",
    "The __Accuracy Score__ of __71.91%__ means that out of every 100 samples, the model correctly predicted about 72 of them.  \n",
    "\n",
    "The __Precision__ score indicates that the model correctly predicted when a person would not seek treatment 77% of the time and correctly predicted when a person would seek treatment 68% of the time. \n",
    "\n",
    "The __Recall__ score indicates that the model correctly caught all the cases it needed to 63% of the time for those unlikely to seek treatment and 81% of the time for those likely to seek treatment.\n",
    "\n",
    "The __F1__ score is a balanced view of the Precision and Recall Scores. In this case, the model is slightly better at predicting those who would seek treatment (Yes = 74%) than those who would not (No = 69%)  \n",
    "\n",
    "The __Cross-Validation__ scores shows that the models Accuracy score on the Training set varied on different subsets of the training data.. In this case, the scores ranged from 71.8% to 73.5% which means my model is fairly stable when makeing predictions.\n",
    "\n",
    "So far the Random Forest Model is doing better than the Logisitc regression model in the sense of overall accuracy and the ability to correctly predict the No values."
   ]
  },
  {
   "cell_type": "code",
   "execution_count": 16,
   "metadata": {},
   "outputs": [
    {
     "data": {
      "image/png": "[encoded data removed]",
      "text/plain": [
       "<Figure size 576x432 with 2 Axes>"
      ]
     },
     "metadata": {
      "needs_background": "light"
     },
     "output_type": "display_data"
    }
   ],
   "source": [
    "# Created the confusion matrix for visualization\n",
    "cm2 = confusion_matrix(y_test, y_pred_test2, labels=[1, 0])\n",
    "\n",
    "plt.figure(figsize=(8, 6))\n",
    "sns.heatmap(cm2, annot=True, fmt='d', cmap='Purples')\n",
    "\n",
    "plt.xlabel('Predicted')\n",
    "plt.ylabel('Actual')\n",
    "plt.title('Confusion Matrix-Test Set')\n",
    "\n",
    "plt.xticks(ticks=[0.5, 1.5], labels=['Yes', 'No'])\n",
    "plt.yticks(ticks=[0.5, 1.5], labels=['Yes', 'No'])\n",
    "\n",
    "plt.savefig('cm2-RandForest.png', dpi=300, bbox_inches='tight')\n",
    "\n",
    "plt.show()"
   ]
  },
  {
   "cell_type": "markdown",
   "metadata": {},
   "source": [
    "##### FINDINGS: TEST SET\n",
    "__TP:__ The model correctly predicted __8,006__ individuals who would seek treatment for a mental illness.\n",
    "\n",
    "__TN:__ The model correctly predicted __6,376__ individuals who would not seek treatment for a mental illness.\n",
    "\n",
    "__FP:__ The model incorrectly predicted __3,702__ individuals as seeking treatment on their own when they will not.\n",
    "\n",
    "__FN:__ The model incorrectly predicted __1,916__ individuals as not seeking treatment on their own when they will.\n",
    "\n",
    "While Random Forest did increase the number of True Positives (7,578 LR --> 8,006 RF),  \n",
    "it also increased the number of False Positives (3,603 LR --> 3,702 RF). \n",
    "\n",
    "And while it did decrease the number of False Negatives (2,344 LR --> 1,916 RF),  \n",
    "it also decreased the number of True Negatives (6,475 LR --> 6,376 RF). \n",
    "\n",
    "The Trade Off though is pretty decent. I only lost about 100 TN but also lost about 450 FN. And in the process, I gained about 450 TP while only also gaining about 100 FP. \n",
    "\n",
    "I'm hoping that by using __Hyperparameter Tuning__ I'll be able to decrease my False Positives and increase my overall Accuracy Score.\n"
   ]
  },
  {
   "cell_type": "code",
   "execution_count": 17,
   "metadata": {},
   "outputs": [
    {
     "name": "stdout",
     "output_type": "stream",
     "text": [
      "AUC-ROC: 0.7952783347338852\n"
     ]
    },
    {
     "data": {
      "image/png": "[encoded data removed]",
      "text/plain": [
       "<Figure size 432x288 with 1 Axes>"
      ]
     },
     "metadata": {
      "needs_background": "light"
     },
     "output_type": "display_data"
    }
   ],
   "source": [
    "# Printed the Area Under the Curve score and the ROC curve graph.\n",
    "print(\"AUC-ROC:\", roc_auc_score(y_test, RF_pipeline.predict_proba(X_test)[:, 1]))\n",
    "\n",
    "RocCurveDisplay.from_estimator(RF_pipeline, X_test, y_test)\n",
    "\n",
    "plt.title('ROC Curve RandForest - Test Set')\n",
    "\n",
    "plt.savefig('ROC-RandForest.png', dpi=300, bbox_inches='tight')\n",
    "\n",
    "plt.show()"
   ]
  },
  {
   "cell_type": "markdown",
   "metadata": {},
   "source": [
    "##### FINDINGS:\n",
    "The fact that the AUC is again higher than the accuracy, suggests the model still has a reasonably good ability to rank predictions correctly."
   ]
  },
  {
   "cell_type": "markdown",
   "metadata": {},
   "source": [
    "#### GridSearchCV:\n",
    "Used GridSearchCV to find the best hyperparameters and model.  Then applied that model to the pipeline and retested against the validation and holdout sets."
   ]
  },
  {
   "cell_type": "code",
   "execution_count": 19,
   "metadata": {},
   "outputs": [
    {
     "name": "stdout",
     "output_type": "stream",
     "text": [
      "\u001b[1mThe Best Parameters are:\u001b[0m\n",
      " {'model__max_depth': None, 'model__min_samples_leaf': 1, 'model__min_samples_split': 2, 'model__n_estimators': 200}\n",
      "\n",
      "\u001b[1mThe Best Model is:\u001b[0m\n",
      " Pipeline(steps=[('preprocessor',\n",
      "                 ColumnTransformer(transformers=[('cat',\n",
      "                                                  Pipeline(steps=[('onehot',\n",
      "                                                                   OneHotEncoder(handle_unknown='ignore'))]),\n",
      "                                                  ['Gender', 'Family_History',\n",
      "                                                   'Mental_Health_Interview',\n",
      "                                                   'Care_Options',\n",
      "                                                   'Self_Employed',\n",
      "                                                   'Coping_Struggles',\n",
      "                                                   'Growing_Stress'])])),\n",
      "                ('model',\n",
      "                 RandomForestClassifier(n_estimators=200, random_state=42))])\n",
      "\n",
      "\u001b[1mThe Best Accuracy Score is: \u001b[0m 0.7253875\n"
     ]
    }
   ],
   "source": [
    "# Set up the parameter grid for hyperparameter tuning\n",
    "RF_param_grid = {\n",
    "    'model__n_estimators': [100, 200, 300],\n",
    "    'model__max_depth': [None, 10, 20],\n",
    "    'model__min_samples_split': [2, 5, 10],\n",
    "    'model__min_samples_leaf': [1, 2, 4],\n",
    "}\n",
    "\n",
    "# Set up GridSearchCV\n",
    "grid_search_RF = GridSearchCV(RF_pipeline, RF_param_grid, cv=10, scoring='accuracy')\n",
    "\n",
    "# Fit GridSearchCV to the training set to find the best parameters\n",
    "grid_search_RF.fit(X_train, y_train)\n",
    "\n",
    "# Best hyperparameters and the corresponding best model\n",
    "best_RF_params = grid_search_RF.best_params_\n",
    "best_RF_model = grid_search_RF.best_estimator_\n",
    "best_RF_score = grid_search_RF.best_score_\n",
    "\n",
    "print(\"\\033[1mThe Best Parameters are:\\033[0m\\n\", best_RF_params)\n",
    "print()\n",
    "print(\"\\033[1mThe Best Model is:\\033[0m\\n\", best_RF_model)\n",
    "print()\n",
    "print(\"\\033[1mThe Best Accuracy Score is: \\033[0m\", best_RF_score)"
   ]
  },
  {
   "cell_type": "code",
   "execution_count": 20,
   "metadata": {},
   "outputs": [
    {
     "name": "stdout",
     "output_type": "stream",
     "text": [
      "{'bootstrap': True, 'ccp_alpha': 0.0, 'class_weight': None, 'criterion': 'gini', 'max_depth': None, 'max_features': 'sqrt', 'max_leaf_nodes': None, 'max_samples': None, 'min_impurity_decrease': 0.0, 'min_samples_leaf': 1, 'min_samples_split': 2, 'min_weight_fraction_leaf': 0.0, 'n_estimators': 200, 'n_jobs': None, 'oob_score': False, 'random_state': 42, 'verbose': 0, 'warm_start': False}\n"
     ]
    }
   ],
   "source": [
    "# Printed the Best Models Parameters\n",
    "print(best_RF_model.named_steps['model'].get_params())"
   ]
  },
  {
   "cell_type": "markdown",
   "metadata": {},
   "source": [
    "#### Test on the Training and Testing Sets w. Best Model"
   ]
  },
  {
   "cell_type": "code",
   "execution_count": 21,
   "metadata": {},
   "outputs": [
    {
     "name": "stdout",
     "output_type": "stream",
     "text": [
      "\u001b[1mThe Accuracy score on the Training set is:\u001b[0m 0.7276\n",
      "\u001b[1mClassification Report on the Training set:\u001b[0m\n",
      "              precision    recall  f1-score   support\n",
      "\n",
      "           0       0.78      0.63      0.70     39922\n",
      "           1       0.69      0.82      0.75     40078\n",
      "\n",
      "    accuracy                           0.73     80000\n",
      "   macro avg       0.74      0.73      0.73     80000\n",
      "weighted avg       0.74      0.73      0.73     80000\n",
      "\n",
      "\n",
      "\u001b[1mThe Accuracy score on the Test set is:\u001b[0m 0.71915\n",
      "\u001b[1mClassification Report on the Test set:\u001b[0m\n",
      "              precision    recall  f1-score   support\n",
      "\n",
      "           0       0.77      0.63      0.69     10078\n",
      "           1       0.68      0.81      0.74      9922\n",
      "\n",
      "    accuracy                           0.72     20000\n",
      "   macro avg       0.73      0.72      0.72     20000\n",
      "weighted avg       0.73      0.72      0.72     20000\n",
      "\n",
      "\n"
     ]
    }
   ],
   "source": [
    "# Prediction and Evaluation on Training set\n",
    "y_pred_HypTrain2 = best_RF_model.predict(X_train)\n",
    "accuracy_HypTrain2 = accuracy_score(y_train, y_pred_HypTrain2)\n",
    "classification_report_HypTrain2 = classification_report(y_train, y_pred_HypTrain2)\n",
    "\n",
    "# Prediction and Evaluation on Test set\n",
    "y_pred_HypTest2 = best_RF_model.predict(X_test)\n",
    "accuracy_HypTest2 = accuracy_score(y_test, y_pred_HypTest2)\n",
    "classification_report_HypTest2 = classification_report(y_test, y_pred_HypTest2)\n",
    "\n",
    "\n",
    "print(f\"\\033[1mThe Accuracy score on the Training set is:\\033[0m {accuracy_HypTrain2}\")\n",
    "print(f\"\\033[1mClassification Report on the Training set:\\033[0m\\n{classification_report_HypTrain2}\\n\")\n",
    "\n",
    "print(f\"\\033[1mThe Accuracy score on the Test set is:\\033[0m {accuracy_HypTest2}\")\n",
    "print(f\"\\033[1mClassification Report on the Test set:\\033[0m\\n{classification_report_HypTest2}\\n\")\n"
   ]
  },
  {
   "cell_type": "code",
   "execution_count": 22,
   "metadata": {},
   "outputs": [
    {
     "data": {
      "image/png": "[encoded data removed]",
      "text/plain": [
       "<Figure size 432x288 with 2 Axes>"
      ]
     },
     "metadata": {
      "needs_background": "light"
     },
     "output_type": "display_data"
    }
   ],
   "source": [
    "# Created the confusion matrix for visualization\n",
    "cm2_HypTest = confusion_matrix(y_test, y_pred_HypTest2, labels=[1, 0])\n",
    "sns.heatmap(cm2_HypTest, annot=True, fmt='d', cmap='Greens')\n",
    "\n",
    "plt.xlabel('Predicted')\n",
    "plt.ylabel('Actual')\n",
    "plt.title('Confusion Matrix - Test Set')\n",
    "\n",
    "plt.xticks(ticks=[0.5, 1.5], labels=['Yes', 'No'])\n",
    "plt.yticks(ticks=[0.5, 1.5], labels=['Yes', 'No'])\n",
    "\n",
    "plt.savefig('cmHyp2-RandForest.png', dpi=300, bbox_inches='tight')\n",
    "\n",
    "plt.show()\n"
   ]
  },
  {
   "cell_type": "markdown",
   "metadata": {},
   "source": [
    "##### FINDINGS:\n",
    "Overall, with the hyperparameter tuning, the model's performance is almost identical to what was observed on the original training and testing sets. But does show a very small increase in the Accuracy score.  \n",
    "\n",
    "__Original Training Set:__ 72.75875% ------ __HyperTuned Training Set:__ 72.76%  \n",
    "__Original Testing Set:__  71.91%    ------ __HyperTuned Testing Set:__  71.915%  \n",
    "\n",
    "The TP, TN, FP, FN show some variation between the Original Testing set and the HyperTuned Testing set.\n",
    "\n",
    "__TP:__ Original Test Set: __8,006__ ------ HyperTuned Test Set: __8,046__  \n",
    "\n",
    "__TN:__ Original Test Set: __6,376__ ------ HyperTuned Test Set: __6,337__  \n",
    "\n",
    "__FP:__ Original Test Set: __3,702__ ------ HyperTuned Test Set: __3,741__  \n",
    "\n",
    "__FN:__ Original Test Set: __1,916__ ------ HyperTuned Test Set: __1,876__  "
   ]
  },
  {
   "cell_type": "markdown",
   "metadata": {},
   "source": [
    "## 4C. Model 3:  XGB Classifier\n",
    " I chose Extreme Gradient Boosting (XGB) classifier as my third model because although it is also an ensemble method based on decision trees, it has advanced features that Random Forest does not. Such as Gradient Boosting, Regularization, and built in Cross-Validation."
   ]
  },
  {
   "cell_type": "code",
   "execution_count": 23,
   "metadata": {},
   "outputs": [
    {
     "data": {
      "text/html": [
       "<style>#sk-container-id-4 {color: black;background-color: white;}#sk-container-id-4 pre{padding: 0;}#sk-container-id-4 div.sk-toggleable {background-color: white;}#sk-container-id-4 label.sk-toggleable__label {cursor: pointer;display: block;width: 100%;margin-bottom: 0;padding: 0.3em;box-sizing: border-box;text-align: center;}#sk-container-id-4 label.sk-toggleable__label-arrow:before {content: \"▸\";float: left;margin-right: 0.25em;color: #696969;}#sk-container-id-4 label.sk-toggleable__label-arrow:hover:before {color: black;}#sk-container-id-4 div.sk-estimator:hover label.sk-toggleable__label-arrow:before {color: black;}#sk-container-id-4 div.sk-toggleable__content {max-height: 0;max-width: 0;overflow: hidden;text-align: left;background-color: #f0f8ff;}#sk-container-id-4 div.sk-toggleable__content pre {margin: 0.2em;color: black;border-radius: 0.25em;background-color: #f0f8ff;}#sk-container-id-4 input.sk-toggleable__control:checked~div.sk-toggleable__content {max-height: 200px;max-width: 100%;overflow: auto;}#sk-container-id-4 input.sk-toggleable__control:checked~label.sk-toggleable__label-arrow:before {content: \"▾\";}#sk-container-id-4 div.sk-estimator input.sk-toggleable__control:checked~label.sk-toggleable__label {background-color: #d4ebff;}#sk-container-id-4 div.sk-label input.sk-toggleable__control:checked~label.sk-toggleable__label {background-color: #d4ebff;}#sk-container-id-4 input.sk-hidden--visually {border: 0;clip: rect(1px 1px 1px 1px);clip: rect(1px, 1px, 1px, 1px);height: 1px;margin: -1px;overflow: hidden;padding: 0;position: absolute;width: 1px;}#sk-container-id-4 div.sk-estimator {font-family: monospace;background-color: #f0f8ff;border: 1px dotted black;border-radius: 0.25em;box-sizing: border-box;margin-bottom: 0.5em;}#sk-container-id-4 div.sk-estimator:hover {background-color: #d4ebff;}#sk-container-id-4 div.sk-parallel-item::after {content: \"\";width: 100%;border-bottom: 1px solid gray;flex-grow: 1;}#sk-container-id-4 div.sk-label:hover label.sk-toggleable__label {background-color: #d4ebff;}#sk-container-id-4 div.sk-serial::before {content: \"\";position: absolute;border-left: 1px solid gray;box-sizing: border-box;top: 0;bottom: 0;left: 50%;z-index: 0;}#sk-container-id-4 div.sk-serial {display: flex;flex-direction: column;align-items: center;background-color: white;padding-right: 0.2em;padding-left: 0.2em;position: relative;}#sk-container-id-4 div.sk-item {position: relative;z-index: 1;}#sk-container-id-4 div.sk-parallel {display: flex;align-items: stretch;justify-content: center;background-color: white;position: relative;}#sk-container-id-4 div.sk-item::before, #sk-container-id-4 div.sk-parallel-item::before {content: \"\";position: absolute;border-left: 1px solid gray;box-sizing: border-box;top: 0;bottom: 0;left: 50%;z-index: -1;}#sk-container-id-4 div.sk-parallel-item {display: flex;flex-direction: column;z-index: 1;position: relative;background-color: white;}#sk-container-id-4 div.sk-parallel-item:first-child::after {align-self: flex-end;width: 50%;}#sk-container-id-4 div.sk-parallel-item:last-child::after {align-self: flex-start;width: 50%;}#sk-container-id-4 div.sk-parallel-item:only-child::after {width: 0;}#sk-container-id-4 div.sk-dashed-wrapped {border: 1px dashed gray;margin: 0 0.4em 0.5em 0.4em;box-sizing: border-box;padding-bottom: 0.4em;background-color: white;}#sk-container-id-4 div.sk-label label {font-family: monospace;font-weight: bold;display: inline-block;line-height: 1.2em;}#sk-container-id-4 div.sk-label-container {text-align: center;}#sk-container-id-4 div.sk-container {/* jupyter's `normalize.less` sets `[hidden] { display: none; }` but bootstrap.min.css set `[hidden] { display: none !important; }` so we also need the `!important` here to be able to override the default hidden behavior on the sphinx rendered scikit-learn.org. See: https://github.com/scikit-learn/scikit-learn/issues/21755 */display: inline-block !important;position: relative;}#sk-container-id-4 div.sk-text-repr-fallback {display: none;}</style><div id=\"sk-container-id-4\" class=\"sk-top-container\"><div class=\"sk-text-repr-fallback\"><pre>Pipeline(steps=[(&#x27;preprocessor&#x27;,\n",
       "                 ColumnTransformer(transformers=[(&#x27;cat&#x27;,\n",
       "                                                  Pipeline(steps=[(&#x27;onehot&#x27;,\n",
       "                                                                   OneHotEncoder(handle_unknown=&#x27;ignore&#x27;))]),\n",
       "                                                  [&#x27;Gender&#x27;, &#x27;Family_History&#x27;,\n",
       "                                                   &#x27;Mental_Health_Interview&#x27;,\n",
       "                                                   &#x27;Care_Options&#x27;,\n",
       "                                                   &#x27;Self_Employed&#x27;,\n",
       "                                                   &#x27;Coping_Struggles&#x27;,\n",
       "                                                   &#x27;Growing_Stress&#x27;])])),\n",
       "                (&#x27;model&#x27;,\n",
       "                 XGBClassifier(base_score=None, booster=None,\n",
       "                               colsample_bylevel=None, colsample_b...\n",
       "                               gamma=None, gpu_id=None, importance_type=&#x27;gain&#x27;,\n",
       "                               interaction_constraints=None, learning_rate=None,\n",
       "                               max_delta_step=None, max_depth=None,\n",
       "                               min_child_weight=None, missing=nan,\n",
       "                               monotone_constraints=None, n_estimators=100,\n",
       "                               n_jobs=None, num_parallel_tree=None,\n",
       "                               random_state=42, reg_alpha=None, reg_lambda=None,\n",
       "                               scale_pos_weight=None, subsample=None,\n",
       "                               tree_method=None, validate_parameters=None,\n",
       "                               verbosity=None))])</pre><b>In a Jupyter environment, please rerun this cell to show the HTML representation or trust the notebook. <br />On GitHub, the HTML representation is unable to render, please try loading this page with nbviewer.org.</b></div><div class=\"sk-container\" hidden><div class=\"sk-item sk-dashed-wrapped\"><div class=\"sk-label-container\"><div class=\"sk-label sk-toggleable\"><input class=\"sk-toggleable__control sk-hidden--visually\" id=\"sk-estimator-id-16\" type=\"checkbox\" ><label for=\"sk-estimator-id-16\" class=\"sk-toggleable__label sk-toggleable__label-arrow\">Pipeline</label><div class=\"sk-toggleable__content\"><pre>Pipeline(steps=[(&#x27;preprocessor&#x27;,\n",
       "                 ColumnTransformer(transformers=[(&#x27;cat&#x27;,\n",
       "                                                  Pipeline(steps=[(&#x27;onehot&#x27;,\n",
       "                                                                   OneHotEncoder(handle_unknown=&#x27;ignore&#x27;))]),\n",
       "                                                  [&#x27;Gender&#x27;, &#x27;Family_History&#x27;,\n",
       "                                                   &#x27;Mental_Health_Interview&#x27;,\n",
       "                                                   &#x27;Care_Options&#x27;,\n",
       "                                                   &#x27;Self_Employed&#x27;,\n",
       "                                                   &#x27;Coping_Struggles&#x27;,\n",
       "                                                   &#x27;Growing_Stress&#x27;])])),\n",
       "                (&#x27;model&#x27;,\n",
       "                 XGBClassifier(base_score=None, booster=None,\n",
       "                               colsample_bylevel=None, colsample_b...\n",
       "                               gamma=None, gpu_id=None, importance_type=&#x27;gain&#x27;,\n",
       "                               interaction_constraints=None, learning_rate=None,\n",
       "                               max_delta_step=None, max_depth=None,\n",
       "                               min_child_weight=None, missing=nan,\n",
       "                               monotone_constraints=None, n_estimators=100,\n",
       "                               n_jobs=None, num_parallel_tree=None,\n",
       "                               random_state=42, reg_alpha=None, reg_lambda=None,\n",
       "                               scale_pos_weight=None, subsample=None,\n",
       "                               tree_method=None, validate_parameters=None,\n",
       "                               verbosity=None))])</pre></div></div></div><div class=\"sk-serial\"><div class=\"sk-item sk-dashed-wrapped\"><div class=\"sk-label-container\"><div class=\"sk-label sk-toggleable\"><input class=\"sk-toggleable__control sk-hidden--visually\" id=\"sk-estimator-id-17\" type=\"checkbox\" ><label for=\"sk-estimator-id-17\" class=\"sk-toggleable__label sk-toggleable__label-arrow\">preprocessor: ColumnTransformer</label><div class=\"sk-toggleable__content\"><pre>ColumnTransformer(transformers=[(&#x27;cat&#x27;,\n",
       "                                 Pipeline(steps=[(&#x27;onehot&#x27;,\n",
       "                                                  OneHotEncoder(handle_unknown=&#x27;ignore&#x27;))]),\n",
       "                                 [&#x27;Gender&#x27;, &#x27;Family_History&#x27;,\n",
       "                                  &#x27;Mental_Health_Interview&#x27;, &#x27;Care_Options&#x27;,\n",
       "                                  &#x27;Self_Employed&#x27;, &#x27;Coping_Struggles&#x27;,\n",
       "                                  &#x27;Growing_Stress&#x27;])])</pre></div></div></div><div class=\"sk-parallel\"><div class=\"sk-parallel-item\"><div class=\"sk-item\"><div class=\"sk-label-container\"><div class=\"sk-label sk-toggleable\"><input class=\"sk-toggleable__control sk-hidden--visually\" id=\"sk-estimator-id-18\" type=\"checkbox\" ><label for=\"sk-estimator-id-18\" class=\"sk-toggleable__label sk-toggleable__label-arrow\">cat</label><div class=\"sk-toggleable__content\"><pre>[&#x27;Gender&#x27;, &#x27;Family_History&#x27;, &#x27;Mental_Health_Interview&#x27;, &#x27;Care_Options&#x27;, &#x27;Self_Employed&#x27;, &#x27;Coping_Struggles&#x27;, &#x27;Growing_Stress&#x27;]</pre></div></div></div><div class=\"sk-serial\"><div class=\"sk-item\"><div class=\"sk-serial\"><div class=\"sk-item\"><div class=\"sk-estimator sk-toggleable\"><input class=\"sk-toggleable__control sk-hidden--visually\" id=\"sk-estimator-id-19\" type=\"checkbox\" ><label for=\"sk-estimator-id-19\" class=\"sk-toggleable__label sk-toggleable__label-arrow\">OneHotEncoder</label><div class=\"sk-toggleable__content\"><pre>OneHotEncoder(handle_unknown=&#x27;ignore&#x27;)</pre></div></div></div></div></div></div></div></div></div></div><div class=\"sk-item\"><div class=\"sk-estimator sk-toggleable\"><input class=\"sk-toggleable__control sk-hidden--visually\" id=\"sk-estimator-id-20\" type=\"checkbox\" ><label for=\"sk-estimator-id-20\" class=\"sk-toggleable__label sk-toggleable__label-arrow\">XGBClassifier</label><div class=\"sk-toggleable__content\"><pre>XGBClassifier(base_score=None, booster=None, colsample_bylevel=None,\n",
       "              colsample_bynode=None, colsample_bytree=None,\n",
       "              eval_metric=&#x27;logloss&#x27;, gamma=None, gpu_id=None,\n",
       "              importance_type=&#x27;gain&#x27;, interaction_constraints=None,\n",
       "              learning_rate=None, max_delta_step=None, max_depth=None,\n",
       "              min_child_weight=None, missing=nan, monotone_constraints=None,\n",
       "              n_estimators=100, n_jobs=None, num_parallel_tree=None,\n",
       "              random_state=42, reg_alpha=None, reg_lambda=None,\n",
       "              scale_pos_weight=None, subsample=None, tree_method=None,\n",
       "              validate_parameters=None, verbosity=None)</pre></div></div></div></div></div></div></div>"
      ],
      "text/plain": [
       "Pipeline(steps=[('preprocessor',\n",
       "                 ColumnTransformer(transformers=[('cat',\n",
       "                                                  Pipeline(steps=[('onehot',\n",
       "                                                                   OneHotEncoder(handle_unknown='ignore'))]),\n",
       "                                                  ['Gender', 'Family_History',\n",
       "                                                   'Mental_Health_Interview',\n",
       "                                                   'Care_Options',\n",
       "                                                   'Self_Employed',\n",
       "                                                   'Coping_Struggles',\n",
       "                                                   'Growing_Stress'])])),\n",
       "                ('model',\n",
       "                 XGBClassifier(base_score=None, booster=None,\n",
       "                               colsample_bylevel=None, colsample_b...\n",
       "                               gamma=None, gpu_id=None, importance_type='gain',\n",
       "                               interaction_constraints=None, learning_rate=None,\n",
       "                               max_delta_step=None, max_depth=None,\n",
       "                               min_child_weight=None, missing=nan,\n",
       "                               monotone_constraints=None, n_estimators=100,\n",
       "                               n_jobs=None, num_parallel_tree=None,\n",
       "                               random_state=42, reg_alpha=None, reg_lambda=None,\n",
       "                               scale_pos_weight=None, subsample=None,\n",
       "                               tree_method=None, validate_parameters=None,\n",
       "                               verbosity=None))])"
      ]
     },
     "execution_count": 23,
     "metadata": {},
     "output_type": "execute_result"
    }
   ],
   "source": [
    "# Defined XGBClassifier as my 3rd model\n",
    "XGBClass = XGBClassifier(eval_metric='logloss', \n",
    "                         random_state=42)\n",
    "\n",
    "# Added XGBClass to empty model slot on pipeline\n",
    "XGBClass_pipeline = pipeline.set_params(model=XGBClass)\n",
    "\n",
    "XGBClass_pipeline"
   ]
  },
  {
   "cell_type": "code",
   "execution_count": 24,
   "metadata": {},
   "outputs": [
    {
     "name": "stdout",
     "output_type": "stream",
     "text": [
      "\u001b[1mThe Accuracy score on the Training set is:\u001b[0m  0.7276\n",
      "\u001b[1mClassification Report on the Training set:\u001b[0m\n",
      "               precision    recall  f1-score   support\n",
      "\n",
      "           0       0.78      0.63      0.70     39922\n",
      "           1       0.69      0.82      0.75     40078\n",
      "\n",
      "    accuracy                           0.73     80000\n",
      "   macro avg       0.74      0.73      0.73     80000\n",
      "weighted avg       0.74      0.73      0.73     80000\n",
      "\n",
      "\u001b[1mThe Accuracy score on the Test set is:\u001b[0m  0.71915\n",
      "\u001b[1mClassification Report on the Test set:\u001b[0m\n",
      "               precision    recall  f1-score   support\n",
      "\n",
      "           0       0.77      0.63      0.69     10078\n",
      "           1       0.68      0.81      0.74      9922\n",
      "\n",
      "    accuracy                           0.72     20000\n",
      "   macro avg       0.73      0.72      0.72     20000\n",
      "weighted avg       0.73      0.72      0.72     20000\n",
      "\n",
      "\u001b[1mCross-validation accuracy scores on the Training set:\u001b[0m\n",
      " [0.7285   0.726875 0.720375 0.721875 0.7305   0.721875 0.72325  0.72675\n",
      " 0.73475  0.7185  ]\n"
     ]
    }
   ],
   "source": [
    "# Trained the model\n",
    "XGBClass_pipeline.fit(X_train, y_train)\n",
    "\n",
    "# Predictions & Evaluation on the Training set\n",
    "y_pred_train3 = XGBClass_pipeline.predict(X_train)\n",
    "accuracy_train3 = accuracy_score(y_train, y_pred_train3)\n",
    "classification_report_train3 = classification_report(y_train, y_pred_train3)\n",
    "\n",
    "# Predictions & Evaluation on the Test set\n",
    "y_pred_test3 = XGBClass_pipeline.predict(X_test)\n",
    "accuracy_test3 = accuracy_score(y_test, y_pred_test3)\n",
    "classification_report_test3 = classification_report(y_test, y_pred_test3)\n",
    "\n",
    "\n",
    "print(\"\\033[1mThe Accuracy score on the Training set is:\\033[0m \", accuracy_train3)\n",
    "print(\"\\033[1mClassification Report on the Training set:\\033[0m\\n\", classification_report_train3)\n",
    "\n",
    "print(\"\\033[1mThe Accuracy score on the Test set is:\\033[0m \", accuracy_test3)\n",
    "print(\"\\033[1mClassification Report on the Test set:\\033[0m\\n\", classification_report_test3)\n"
   ]
  },
  {
   "cell_type": "markdown",
   "metadata": {},
   "source": [
    "##### FINDINGS: TEST SET\n",
    "Keeping in mind that Yes = 1 and No = 0.  \n",
    "\n",
    "The __Accuracy Score__ of __71.915%__ means that out of every 100 samples, the model correctly predicted 72 of them. This is identical to the HyperTuned Random Forest Model.  \n",
    "\n",
    "The __Precision__ score indicates that the model correctly predicted when a person would not seek treatment 77% of the time and correctly predicted when a person would seek treatment 68% of the time. \n",
    "\n",
    "The __Recall__ score indicates that the model correctly caught all the cases it needed to 63% of the time for those unlikely to seek treatment and 81% of the time for those likely to seek treatment.\n",
    "\n",
    "The __F1__ score is a balanced view of the Precision and Recall Scores. In this case, the model is slightly better at predicting those who would seek treatment (Yes = 74%) than those who would not (No = 69%)  \n"
   ]
  },
  {
   "cell_type": "code",
   "execution_count": 26,
   "metadata": {},
   "outputs": [
    {
     "data": {
      "image/png": "[encoded data removed]",
      "text/plain": [
       "<Figure size 576x432 with 2 Axes>"
      ]
     },
     "metadata": {
      "needs_background": "light"
     },
     "output_type": "display_data"
    }
   ],
   "source": [
    "# Created the confusion matrix for visualization\n",
    "cm3 = confusion_matrix(y_test, y_pred_test3, labels=[1, 0])\n",
    "\n",
    "plt.figure(figsize=(8, 6))\n",
    "sns.heatmap(cm3, annot=True, fmt='d', cmap='Purples')\n",
    "\n",
    "plt.xlabel('Predicted')\n",
    "plt.ylabel('Actual')\n",
    "plt.title('Confusion Matrix-Test Set')\n",
    "\n",
    "plt.xticks(ticks=[0.5, 1.5], labels=['Yes', 'No'])\n",
    "plt.yticks(ticks=[0.5, 1.5], labels=['Yes', 'No'])\n",
    "\n",
    "plt.savefig('cm3-XGBClass.png', dpi=300, bbox_inches='tight')\n",
    "\n",
    "plt.show()"
   ]
  },
  {
   "cell_type": "markdown",
   "metadata": {},
   "source": [
    "##### FINDINGS: Validation Set\n",
    "__TP:__ The model correctly predicted __8,325__ individuals who would seek treatment for a mental illness.\n",
    "\n",
    "__TN:__ The model correctly predicted __6,218__ individuals who would not seek treatment for a mental illness.\n",
    "\n",
    "__FP:__ The model incorrectly predicted __3,766__ individuals as seeking treatment on their own when they will not.\n",
    "\n",
    "__FN:__ The model incorrectly predicted __1,691__ individuals as not seeking treatment on their own when they will.\n",
    "\n",
    "While XGBoost did increase the number of True Positives (7,668 LR --> 8,286 RF --> 8,325 XGB),  \n",
    "it also again increased the number of False Positives (3,499 LR --> 3,734 RF --> 3,766 XGB).\n",
    "\n",
    "And while it again did decrease the number of False Negatives (2,348 LR --> 1,730 RF --> 1691 XGB),  \n",
    "it also decreased the number of True Negatives (6,485 LR --> 6,250 RF --> 6,218 XGB).  \n",
    "\n",
    "I'm hoping that by using __Hyperparameter Tuning__ on XGBoost, I'll be able to see a more distinct decrease in my False Positives and an increase in my overall Accuracy Score."
   ]
  },
  {
   "cell_type": "code",
   "execution_count": 28,
   "metadata": {},
   "outputs": [
    {
     "name": "stdout",
     "output_type": "stream",
     "text": [
      "AUC-ROC: 0.7953432186814245\n"
     ]
    },
    {
     "data": {
      "image/png": "[encoded data removed]",
      "text/plain": [
       "<Figure size 432x288 with 1 Axes>"
      ]
     },
     "metadata": {
      "needs_background": "light"
     },
     "output_type": "display_data"
    }
   ],
   "source": [
    "# Printed the Area Under the Curve score and the ROC curve graph.\n",
    "print(\"AUC-ROC:\", roc_auc_score(y_test, XGBClass_pipeline.predict_proba(X_test)[:, 1]))\n",
    "\n",
    "RocCurveDisplay.from_estimator(XGBClass_pipeline, X_test, y_test)\n",
    "\n",
    "plt.title('ROC Curve XGB Classifier - Test Set')\n",
    "\n",
    "plt.savefig('ROC-XGBClass.png', dpi=300, bbox_inches='tight')\n",
    "\n",
    "plt.show()"
   ]
  },
  {
   "cell_type": "markdown",
   "metadata": {},
   "source": [
    "##### FINDINGS:\n",
    "The fact that the AUC is again higher than the accuracy, suggests the model still has a reasonably good ability to rank predictions correctly.  SInce the AUC-ROC for XGB is 80.23% and Random Forest was 80.25%, this shows that both models are closely ranking the predictions correctly."
   ]
  },
  {
   "cell_type": "markdown",
   "metadata": {},
   "source": [
    "#### GridSearchCV:\n",
    "Used GridSearchCV again to find the best hyperparameters and model.  Then applied that model to the pipeline and retested against the validation and holdout sets."
   ]
  },
  {
   "cell_type": "code",
   "execution_count": 30,
   "metadata": {
    "scrolled": true
   },
   "outputs": [
    {
     "name": "stdout",
     "output_type": "stream",
     "text": [
      "\u001b[1mThe Best Parameters are:\u001b[0m\n",
      " {'model__learning_rate': 0.1, 'model__max_depth': 3, 'model__min_child_weight': 5, 'model__n_estimators': 200, 'model__subsample': 0.8}\n",
      "\n",
      "\u001b[1mThe Best Model is:\u001b[0m\n",
      " Pipeline(steps=[('preprocessor',\n",
      "                 ColumnTransformer(transformers=[('cat',\n",
      "                                                  Pipeline(steps=[('onehot',\n",
      "                                                                   OneHotEncoder(handle_unknown='ignore'))]),\n",
      "                                                  ['Gender', 'Family_History',\n",
      "                                                   'Mental_Health_Interview',\n",
      "                                                   'Care_Options',\n",
      "                                                   'Self_Employed',\n",
      "                                                   'Coping_Struggles',\n",
      "                                                   'Growing_Stress'])])),\n",
      "                ('model',\n",
      "                 XGBClassifier(base_score=0.5, booster='gbtree',\n",
      "                               colsample_bylevel=1, colsample_b...\n",
      "                               gamma=0, gpu_id=-1, importance_type='gain',\n",
      "                               interaction_constraints='', learning_rate=0.1,\n",
      "                               max_delta_step=0, max_depth=3,\n",
      "                               min_child_weight=5, missing=nan,\n",
      "                               monotone_constraints='()', n_estimators=200,\n",
      "                               n_jobs=0, num_parallel_tree=1, random_state=42,\n",
      "                               reg_alpha=0, reg_lambda=1, scale_pos_weight=1,\n",
      "                               subsample=0.8, tree_method='exact',\n",
      "                               validate_parameters=1, verbosity=None))])\n",
      "\n",
      "\u001b[1mThe Best Accuracy Score is: \u001b[0m 0.7272375\n"
     ]
    }
   ],
   "source": [
    "# Defined XGB Classifier with the new parameters\n",
    "XGBClass_param_grid = {\n",
    "    'model__n_estimators': [100, 200, 300],\n",
    "    'model__max_depth': [3, 6, 10],\n",
    "    'model__learning_rate': [0.01, 0.1, 0.2],\n",
    "    'model__subsample': [0.6, 0.8, 1.0],\n",
    "    'model__min_child_weight': [1, 3, 5],\n",
    "}\n",
    "\n",
    "# Set up GridSearchCV\n",
    "grid_search_XGBClass = GridSearchCV(XGBClass_pipeline, XGBClass_param_grid, cv=5, scoring='accuracy')\n",
    "\n",
    "# Fit GridSearchCV to the train_val set to find the best parameters\n",
    "grid_search_XGBClass.fit(X_train, y_train)\n",
    "\n",
    "# Best hyperparameters and the corresponding best model\n",
    "best_XGBClass_params = grid_search_XGBClass.best_params_\n",
    "best_XGBClass_model = grid_search_XGBClass.best_estimator_\n",
    "best_XGBClass_score = grid_search_XGBClass.best_score_\n",
    "\n",
    "print(\"\\033[1mThe Best Parameters are:\\033[0m\\n\", best_XGBClass_params)\n",
    "print()\n",
    "print(\"\\033[1mThe Best Model is:\\033[0m\\n\", best_XGBClass_model)\n",
    "print()\n",
    "print(\"\\033[1mThe Best Accuracy Score is: \\033[0m\", best_XGBClass_score)"
   ]
  },
  {
   "cell_type": "markdown",
   "metadata": {},
   "source": [
    "#### Test on the Training and Testing Sets w. Best Model"
   ]
  },
  {
   "cell_type": "code",
   "execution_count": 31,
   "metadata": {},
   "outputs": [
    {
     "name": "stdout",
     "output_type": "stream",
     "text": [
      "\u001b[1mThe Accuracy score on the Training set is:\u001b[0m 0.7273\n",
      "\u001b[1mClassification Report on the Training set:\u001b[0m\n",
      "              precision    recall  f1-score   support\n",
      "\n",
      "           0       0.77      0.64      0.70     39922\n",
      "           1       0.69      0.81      0.75     40078\n",
      "\n",
      "    accuracy                           0.73     80000\n",
      "   macro avg       0.73      0.73      0.73     80000\n",
      "weighted avg       0.73      0.73      0.73     80000\n",
      "\n",
      "\n",
      "\u001b[1mThe Accuracy score on the Test set is:\u001b[0m 0.71885\n",
      "\u001b[1mClassification Report on the Test set:\u001b[0m\n",
      "              precision    recall  f1-score   support\n",
      "\n",
      "           0       0.77      0.63      0.69     10078\n",
      "           1       0.68      0.81      0.74      9922\n",
      "\n",
      "    accuracy                           0.72     20000\n",
      "   macro avg       0.73      0.72      0.72     20000\n",
      "weighted avg       0.73      0.72      0.72     20000\n",
      "\n",
      "\n"
     ]
    }
   ],
   "source": [
    "# Prediction and Evaluation on Training set\n",
    "y_pred_HypTrain3 = best_XGBClass_model.predict(X_train)\n",
    "accuracy_HypTrain3 = accuracy_score(y_train, y_pred_HypTrain3)\n",
    "classification_report_HypTrain3 = classification_report(y_train, y_pred_HypTrain3)\n",
    "\n",
    "# Prediction and Evaluation on Test set\n",
    "y_pred_HypTest3 = best_XGBClass_model.predict(X_test)\n",
    "accuracy_HypTest3 = accuracy_score(y_test, y_pred_HypTest3)\n",
    "classification_report_HypTest3 = classification_report(y_test, y_pred_HypTest3)\n",
    "\n",
    "\n",
    "print(f\"\\033[1mThe Accuracy score on the Training set is:\\033[0m {accuracy_HypTrain3}\")\n",
    "print(f\"\\033[1mClassification Report on the Training set:\\033[0m\\n{classification_report_HypTrain3}\\n\")\n",
    "\n",
    "print(f\"\\033[1mThe Accuracy score on the Test set is:\\033[0m {accuracy_HypTest3}\")\n",
    "print(f\"\\033[1mClassification Report on the Test set:\\033[0m\\n{classification_report_HypTest3}\\n\")\n"
   ]
  },
  {
   "cell_type": "code",
   "execution_count": 32,
   "metadata": {},
   "outputs": [
    {
     "data": {
      "image/png": "[encoded data removed]",
      "text/plain": [
       "<Figure size 432x288 with 2 Axes>"
      ]
     },
     "metadata": {
      "needs_background": "light"
     },
     "output_type": "display_data"
    }
   ],
   "source": [
    "# Created the confusion matrix for visualization\n",
    "cm3_HypTest = confusion_matrix(y_test, y_pred_HypTest3, labels=[1, 0])\n",
    "sns.heatmap(cm3_HypTest, annot=True, fmt='d', cmap='Greens')\n",
    "\n",
    "plt.xlabel('Predicted')\n",
    "plt.ylabel('Actual')\n",
    "plt.title('Confusion Matrix - Test Set')\n",
    "\n",
    "plt.xticks(ticks=[0.5, 1.5], labels=['Yes', 'No'])\n",
    "plt.yticks(ticks=[0.5, 1.5], labels=['Yes', 'No'])\n",
    "\n",
    "plt.savefig('cmHyp3-XGBClass.png', dpi=300, bbox_inches='tight')\n",
    "\n",
    "plt.show()"
   ]
  },
  {
   "cell_type": "markdown",
   "metadata": {},
   "source": [
    "##### FINDINGS:\n",
    "Overall, with the hyperparameter tuning, the model this time showed a slight decrease in the __Accuracy score__ going from 71.92% to __71.89%__.  So far, this does seem to be my best model. It has the least amount of False Positives out of all the models(HyperTuned and Originals).  \n",
    "\n",
    "\n",
    "The TP, TN, FP, FN show some variation between the original validation set and the HyperTuned Validation set.\n",
    "\n",
    "__TP:__ Original Test Set: __8,046__ ------ HyperTuned Test Set: __7,997__  \n",
    "\n",
    "__TN:__ Original Test Set: __6,337__ ------ HyperTuned Test Set: __6,380__  \n",
    "\n",
    "__FP:__ Original Test Set: __3,741__ ------ HyperTuned Test Set: __3,698__  \n",
    "\n",
    "__FN:__ Original Test Set: __1,876__ ------ HyperTuned Test Set: __1,925__  \n"
   ]
  },
  {
   "cell_type": "markdown",
   "metadata": {},
   "source": [
    "## 5. Model Stacking:\n",
    "I decided to try to stack my models together to try to acheive better results.\n",
    "\n",
    "I started by defining the \"Base Models\" as the Logistic Regression model and the HyperTuned models for Random Forest and XGBoost.  I could not get Best_Model to work properly within the Meta Model, which is why I listed the Best Model's parameters out. Plus, I personally perfer to see the full list of parameters being used in each model. \n",
    "\n",
    "__BLOCK 1:__ consists of:\n",
    "* Creating a Meta-Model as my final estimator,\n",
    "* Stacking the base models and final estimator using Stacking Classifier,\n",
    "* Establishing and Fitting the final pipeline AND\n",
    "* Calculating the Accuracy and Classification Report.\n",
    "                     \n",
    "__BLOCK 2:__ is the Visualization of the Confusion Matrix\n",
    "\n",
    "__BLOCK 3:__ is the Visualization of the ROC Curve\n",
    "\n",
    "I used these three blocks to plug and play with several different models and parameters to try to find the best one to use for my final model."
   ]
  },
  {
   "cell_type": "code",
   "execution_count": 108,
   "metadata": {},
   "outputs": [],
   "source": [
    "# Defined base models with the respective Best Model Parameters\n",
    "base_models = [\n",
    "    ('log_reg', LogisticRegression(max_iter=1000, random_state=42)),\n",
    "    ('random_forest', RandomForestClassifier(\n",
    "        bootstrap=True,\n",
    "        ccp_alpha=0.0,\n",
    "        class_weight=None,\n",
    "        criterion='gini',\n",
    "        max_depth=None,\n",
    "        max_features='sqrt',\n",
    "        max_leaf_nodes=None,\n",
    "        max_samples=None,\n",
    "        min_impurity_decrease=0.0,\n",
    "        min_samples_leaf=1,\n",
    "        min_samples_split=2,\n",
    "        min_weight_fraction_leaf=0.0,\n",
    "        n_estimators=200,\n",
    "        n_jobs=None, \n",
    "        oob_score=False,\n",
    "        random_state=42,\n",
    "        verbose=0,\n",
    "        warm_start=False\n",
    "    )),\n",
    "    ('xgboost', XGBClassifier(\n",
    "        base_score=0.5,\n",
    "        booster='gbtree',\n",
    "        colsample_bylevel=1,\n",
    "        gamma=0,\n",
    "        gpu_id=-1,\n",
    "        importance_type='gain',\n",
    "        interaction_constraints='',\n",
    "        learning_rate=0.1,\n",
    "        max_delta_step=0,\n",
    "        max_depth=3,\n",
    "        min_child_weight=5,\n",
    "        missing=np.nan,\n",
    "        monotone_constraints='()',\n",
    "        n_estimators=200,\n",
    "        n_jobs=0, \n",
    "        num_parallel_tree=1,\n",
    "        random_state=42,\n",
    "        reg_alpha=0,\n",
    "        reg_lambda=1,\n",
    "        scale_pos_weight=1,\n",
    "        subsample=0.8,\n",
    "        tree_method='exact',\n",
    "        validate_parameters=1,\n",
    "        verbosity=None,\n",
    "        eval_metric='logloss',\n",
    "    ))\n",
    "]\n"
   ]
  },
  {
   "cell_type": "code",
   "execution_count": 173,
   "metadata": {},
   "outputs": [
    {
     "name": "stdout",
     "output_type": "stream",
     "text": [
      "Accuracy on Test Data: 0.6772\n",
      "Classification Report on Test Data:\n",
      "               precision    recall  f1-score   support\n",
      "\n",
      "           0       0.67      0.72      0.69     10078\n",
      "           1       0.69      0.64      0.66      9922\n",
      "\n",
      "    accuracy                           0.68     20000\n",
      "   macro avg       0.68      0.68      0.68     20000\n",
      "weighted avg       0.68      0.68      0.68     20000\n",
      "\n"
     ]
    }
   ],
   "source": [
    "## BLOCK 1 \n",
    "# Created the Meta-model and experimented using several different model types such as RandomForest, KNN, and SVC.\n",
    "meta_model = KNeighborsClassifier(n_neighbors=10)\n",
    "\n",
    "# Created the stacking ensemble using Stacking Classifier\n",
    "stacking_ensemble = StackingClassifier(estimators=base_models, final_estimator=meta_model, cv=5)\n",
    "\n",
    "# Final pipeline including preprocessing and stacking ensemble\n",
    "final_pipeline = Pipeline([\n",
    "    ('preprocessor', preprocessor),\n",
    "    ('stacked_models', stacking_ensemble)\n",
    "])\n",
    "\n",
    "# Fited the pipeline on the Training Set\n",
    "final_pipeline.fit(X_train, y_train)\n",
    "\n",
    "# Made predictions on the Test Set using the final pipeline\n",
    "y_pred_stack = final_pipeline.predict(X_test)\n",
    "y_pred_proba = final_pipeline.predict_proba(X_test)[:, 1]\n",
    "\n",
    "# Calculated the Accuracy and Classification Reports\n",
    "accuracy_stackTest = accuracy_score(y_test, y_pred_stack)\n",
    "classification_report_stackTest = classification_report(y_test, y_pred_stack)\n",
    "\n",
    "\n",
    "print(f'Accuracy on Test Data: {accuracy_stackTest}')\n",
    "print('Classification Report on Test Data:\\n', classification_report_stackTest)"
   ]
  },
  {
   "cell_type": "code",
   "execution_count": 174,
   "metadata": {},
   "outputs": [
    {
     "data": {
      "image/png": "[encoded data removed]",
      "text/plain": [
       "<Figure size 432x288 with 2 Axes>"
      ]
     },
     "metadata": {
      "needs_background": "light"
     },
     "output_type": "display_data"
    }
   ],
   "source": [
    "## BLOCK 2\n",
    "# Created the confusion matrix for visualization\n",
    "cm_stackTest = confusion_matrix(y_test, y_pred_stack, labels=[1, 0])\n",
    "sns.heatmap(cm_stackTest, annot=True, fmt='d', cmap='rainbow')\n",
    "\n",
    "plt.xlabel('Predicted')\n",
    "plt.ylabel('Actual')\n",
    "plt.title('KNN w. 10 Neighbors - Test Set')\n",
    "\n",
    "plt.xticks(ticks=[0.5, 1.5], labels=['Yes', 'No'])\n",
    "plt.yticks(ticks=[0.5, 1.5], labels=['Yes', 'No'])\n",
    "\n",
    "# plt.savefig('CM-KNN-Meta-N10.png', dpi=300, bbox_inches='tight')\n",
    "\n",
    "plt.show()"
   ]
  },
  {
   "cell_type": "code",
   "execution_count": 175,
   "metadata": {},
   "outputs": [
    {
     "data": {
      "image/png": "[encoded data removed]",
      "text/plain": [
       "<Figure size 432x288 with 1 Axes>"
      ]
     },
     "metadata": {
      "needs_background": "light"
     },
     "output_type": "display_data"
    },
    {
     "name": "stdout",
     "output_type": "stream",
     "text": [
      "ROC AUC: 0.76\n"
     ]
    }
   ],
   "source": [
    "## BLOCK 3:\n",
    "# Computed ROC curve and ROC area for each class\n",
    "fpr, tpr, _ = roc_curve(y_test, y_pred_proba)\n",
    "roc_auc = auc(fpr, tpr)\n",
    "\n",
    "plt.figure()\n",
    "plt.plot(fpr, tpr, color='darkorange', lw=2, label='ROC curve (area = %0.2f)' % roc_auc)\n",
    "plt.plot([0, 1], [0, 1], color='navy', lw=2, linestyle='--')\n",
    "\n",
    "plt.xlim([0.0, 1.0])\n",
    "plt.ylim([0.0, 1.05])\n",
    "\n",
    "plt.xlabel('False Positive Rate')\n",
    "plt.ylabel('True Positive Rate')\n",
    "plt.title('KNN w. 10 Neighbors - Test Set')\n",
    "plt.legend(loc=\"lower right\")\n",
    "\n",
    "# plt.savefig('ROC-KNN-Meta-N10.png', dpi=300, bbox_inches='tight')\n",
    "\n",
    "plt.show()\n",
    "\n",
    "print(f'ROC AUC: {roc_auc:.2f}')"
   ]
  },
  {
   "cell_type": "markdown",
   "metadata": {},
   "source": [
    "#### FINDINGS: TESTED MULTIPLE META-MODELS\n",
    "I plugged and played with several different models and parameters as my Meta-Model.  The results for several of the models can be found below.  After running about 15 different models, my final decision was between K-Nearest Neighbor (KNN) and Support Vector Classifier (SVC) which are the top two on the list below.\n",
    "\n",
    "* __Support Vector Classifier:__ --- __Accuracy:__ = 72.21%  \n",
    " + __TP:__ = 8,416\n",
    " + __TN:__ = 6,026\n",
    " + __FP:__ = 4,052\n",
    " + __FN:__ = 1,506  \n",
    "\n",
    "* __K-Nearest Neighbor:__ --- __Accuracy:__ = 67.72%\n",
    " + __TP:__ = 6,318\n",
    " + __TN:__ = 7,226\n",
    " + __FP:__ = 2,852\n",
    " + __FN:__ = 3,604  \n",
    "\n",
    "* __Random Forest:__ --- __Accuracy:__ = 72.06%\n",
    " + __TP:__ = 8,177\n",
    " + __TN:__ = 6,235\n",
    " + __FP:__ = 3,843\n",
    " + __FN:__ = 1,745\n",
    "\n",
    "* __Logistic Regression:__ --- __Accuracy__ = 72.05%\n",
    " + __TP:__ = 8,183\n",
    " + __TN:__ = 6,227\n",
    " + __FP:__ = 3,851\n",
    " + __FN:__ = 1,739\n",
    " \n",
    "* __Ridge Classifier:__ --- __Accuracy:__ = 71.915%\n",
    " + __TP:__ = 7,997\n",
    " + __TN:__ = 6,386\n",
    " + __FP:__ = 3,692\n",
    " + __FN:__ = 1,925\n",
    " \n",
    "* __XGBoost:__ --- __Accuracy:__ = 71.795%\n",
    " + __TP:__ = 7,976\n",
    " + __TN:__ = 6,383\n",
    " + __FP:__ = 3,695\n",
    " + __FN:__ = 1,946\n",
    " \n",
    "I decided to use the K-Nearest Neighbors for my Meta-Model instead of the others because out of all my models (including my original and Hypertuned models), it had the lowest number of False Positives and the highest number of True Negatives.  The Accuracy Score is lower than my other models but the ROC Curve has a 76% prediction rate for the model's ability to rank predictions correctly.  \n",
    "\n",
    "I used the True Negatives and False Positives as my deciding factor because they are what my model needs to focus on the most.  I want my model to predict those individuals unlikely to seek treatment for themselves, more so than those who are willing to seek treatment on their own.\n",
    "\n",
    "From here I wanted to see if there was a better Number of Neighbors parameter I could use for it, since my current setting was n_neighbors=10.\n",
    "\n",
    "I created a new KNN model and plugged it into my original Preprocessing Pipeline.  I then ran GridSearchCV to find the best Number of Neighbors between 1 and 31 for my model.  "
   ]
  },
  {
   "cell_type": "code",
   "execution_count": 169,
   "metadata": {},
   "outputs": [
    {
     "data": {
      "text/html": [
       "<style>#sk-container-id-6 {color: black;background-color: white;}#sk-container-id-6 pre{padding: 0;}#sk-container-id-6 div.sk-toggleable {background-color: white;}#sk-container-id-6 label.sk-toggleable__label {cursor: pointer;display: block;width: 100%;margin-bottom: 0;padding: 0.3em;box-sizing: border-box;text-align: center;}#sk-container-id-6 label.sk-toggleable__label-arrow:before {content: \"▸\";float: left;margin-right: 0.25em;color: #696969;}#sk-container-id-6 label.sk-toggleable__label-arrow:hover:before {color: black;}#sk-container-id-6 div.sk-estimator:hover label.sk-toggleable__label-arrow:before {color: black;}#sk-container-id-6 div.sk-toggleable__content {max-height: 0;max-width: 0;overflow: hidden;text-align: left;background-color: #f0f8ff;}#sk-container-id-6 div.sk-toggleable__content pre {margin: 0.2em;color: black;border-radius: 0.25em;background-color: #f0f8ff;}#sk-container-id-6 input.sk-toggleable__control:checked~div.sk-toggleable__content {max-height: 200px;max-width: 100%;overflow: auto;}#sk-container-id-6 input.sk-toggleable__control:checked~label.sk-toggleable__label-arrow:before {content: \"▾\";}#sk-container-id-6 div.sk-estimator input.sk-toggleable__control:checked~label.sk-toggleable__label {background-color: #d4ebff;}#sk-container-id-6 div.sk-label input.sk-toggleable__control:checked~label.sk-toggleable__label {background-color: #d4ebff;}#sk-container-id-6 input.sk-hidden--visually {border: 0;clip: rect(1px 1px 1px 1px);clip: rect(1px, 1px, 1px, 1px);height: 1px;margin: -1px;overflow: hidden;padding: 0;position: absolute;width: 1px;}#sk-container-id-6 div.sk-estimator {font-family: monospace;background-color: #f0f8ff;border: 1px dotted black;border-radius: 0.25em;box-sizing: border-box;margin-bottom: 0.5em;}#sk-container-id-6 div.sk-estimator:hover {background-color: #d4ebff;}#sk-container-id-6 div.sk-parallel-item::after {content: \"\";width: 100%;border-bottom: 1px solid gray;flex-grow: 1;}#sk-container-id-6 div.sk-label:hover label.sk-toggleable__label {background-color: #d4ebff;}#sk-container-id-6 div.sk-serial::before {content: \"\";position: absolute;border-left: 1px solid gray;box-sizing: border-box;top: 0;bottom: 0;left: 50%;z-index: 0;}#sk-container-id-6 div.sk-serial {display: flex;flex-direction: column;align-items: center;background-color: white;padding-right: 0.2em;padding-left: 0.2em;position: relative;}#sk-container-id-6 div.sk-item {position: relative;z-index: 1;}#sk-container-id-6 div.sk-parallel {display: flex;align-items: stretch;justify-content: center;background-color: white;position: relative;}#sk-container-id-6 div.sk-item::before, #sk-container-id-6 div.sk-parallel-item::before {content: \"\";position: absolute;border-left: 1px solid gray;box-sizing: border-box;top: 0;bottom: 0;left: 50%;z-index: -1;}#sk-container-id-6 div.sk-parallel-item {display: flex;flex-direction: column;z-index: 1;position: relative;background-color: white;}#sk-container-id-6 div.sk-parallel-item:first-child::after {align-self: flex-end;width: 50%;}#sk-container-id-6 div.sk-parallel-item:last-child::after {align-self: flex-start;width: 50%;}#sk-container-id-6 div.sk-parallel-item:only-child::after {width: 0;}#sk-container-id-6 div.sk-dashed-wrapped {border: 1px dashed gray;margin: 0 0.4em 0.5em 0.4em;box-sizing: border-box;padding-bottom: 0.4em;background-color: white;}#sk-container-id-6 div.sk-label label {font-family: monospace;font-weight: bold;display: inline-block;line-height: 1.2em;}#sk-container-id-6 div.sk-label-container {text-align: center;}#sk-container-id-6 div.sk-container {/* jupyter's `normalize.less` sets `[hidden] { display: none; }` but bootstrap.min.css set `[hidden] { display: none !important; }` so we also need the `!important` here to be able to override the default hidden behavior on the sphinx rendered scikit-learn.org. See: https://github.com/scikit-learn/scikit-learn/issues/21755 */display: inline-block !important;position: relative;}#sk-container-id-6 div.sk-text-repr-fallback {display: none;}</style><div id=\"sk-container-id-6\" class=\"sk-top-container\"><div class=\"sk-text-repr-fallback\"><pre>Pipeline(steps=[(&#x27;preprocessor&#x27;,\n",
       "                 ColumnTransformer(transformers=[(&#x27;cat&#x27;,\n",
       "                                                  Pipeline(steps=[(&#x27;onehot&#x27;,\n",
       "                                                                   OneHotEncoder(handle_unknown=&#x27;ignore&#x27;))]),\n",
       "                                                  [&#x27;Gender&#x27;, &#x27;Family_History&#x27;,\n",
       "                                                   &#x27;Mental_Health_Interview&#x27;,\n",
       "                                                   &#x27;Care_Options&#x27;,\n",
       "                                                   &#x27;Self_Employed&#x27;,\n",
       "                                                   &#x27;Coping_Struggles&#x27;,\n",
       "                                                   &#x27;Growing_Stress&#x27;])])),\n",
       "                (&#x27;model&#x27;, KNeighborsClassifier())])</pre><b>In a Jupyter environment, please rerun this cell to show the HTML representation or trust the notebook. <br />On GitHub, the HTML representation is unable to render, please try loading this page with nbviewer.org.</b></div><div class=\"sk-container\" hidden><div class=\"sk-item sk-dashed-wrapped\"><div class=\"sk-label-container\"><div class=\"sk-label sk-toggleable\"><input class=\"sk-toggleable__control sk-hidden--visually\" id=\"sk-estimator-id-26\" type=\"checkbox\" ><label for=\"sk-estimator-id-26\" class=\"sk-toggleable__label sk-toggleable__label-arrow\">Pipeline</label><div class=\"sk-toggleable__content\"><pre>Pipeline(steps=[(&#x27;preprocessor&#x27;,\n",
       "                 ColumnTransformer(transformers=[(&#x27;cat&#x27;,\n",
       "                                                  Pipeline(steps=[(&#x27;onehot&#x27;,\n",
       "                                                                   OneHotEncoder(handle_unknown=&#x27;ignore&#x27;))]),\n",
       "                                                  [&#x27;Gender&#x27;, &#x27;Family_History&#x27;,\n",
       "                                                   &#x27;Mental_Health_Interview&#x27;,\n",
       "                                                   &#x27;Care_Options&#x27;,\n",
       "                                                   &#x27;Self_Employed&#x27;,\n",
       "                                                   &#x27;Coping_Struggles&#x27;,\n",
       "                                                   &#x27;Growing_Stress&#x27;])])),\n",
       "                (&#x27;model&#x27;, KNeighborsClassifier())])</pre></div></div></div><div class=\"sk-serial\"><div class=\"sk-item sk-dashed-wrapped\"><div class=\"sk-label-container\"><div class=\"sk-label sk-toggleable\"><input class=\"sk-toggleable__control sk-hidden--visually\" id=\"sk-estimator-id-27\" type=\"checkbox\" ><label for=\"sk-estimator-id-27\" class=\"sk-toggleable__label sk-toggleable__label-arrow\">preprocessor: ColumnTransformer</label><div class=\"sk-toggleable__content\"><pre>ColumnTransformer(transformers=[(&#x27;cat&#x27;,\n",
       "                                 Pipeline(steps=[(&#x27;onehot&#x27;,\n",
       "                                                  OneHotEncoder(handle_unknown=&#x27;ignore&#x27;))]),\n",
       "                                 [&#x27;Gender&#x27;, &#x27;Family_History&#x27;,\n",
       "                                  &#x27;Mental_Health_Interview&#x27;, &#x27;Care_Options&#x27;,\n",
       "                                  &#x27;Self_Employed&#x27;, &#x27;Coping_Struggles&#x27;,\n",
       "                                  &#x27;Growing_Stress&#x27;])])</pre></div></div></div><div class=\"sk-parallel\"><div class=\"sk-parallel-item\"><div class=\"sk-item\"><div class=\"sk-label-container\"><div class=\"sk-label sk-toggleable\"><input class=\"sk-toggleable__control sk-hidden--visually\" id=\"sk-estimator-id-28\" type=\"checkbox\" ><label for=\"sk-estimator-id-28\" class=\"sk-toggleable__label sk-toggleable__label-arrow\">cat</label><div class=\"sk-toggleable__content\"><pre>[&#x27;Gender&#x27;, &#x27;Family_History&#x27;, &#x27;Mental_Health_Interview&#x27;, &#x27;Care_Options&#x27;, &#x27;Self_Employed&#x27;, &#x27;Coping_Struggles&#x27;, &#x27;Growing_Stress&#x27;]</pre></div></div></div><div class=\"sk-serial\"><div class=\"sk-item\"><div class=\"sk-serial\"><div class=\"sk-item\"><div class=\"sk-estimator sk-toggleable\"><input class=\"sk-toggleable__control sk-hidden--visually\" id=\"sk-estimator-id-29\" type=\"checkbox\" ><label for=\"sk-estimator-id-29\" class=\"sk-toggleable__label sk-toggleable__label-arrow\">OneHotEncoder</label><div class=\"sk-toggleable__content\"><pre>OneHotEncoder(handle_unknown=&#x27;ignore&#x27;)</pre></div></div></div></div></div></div></div></div></div></div><div class=\"sk-item\"><div class=\"sk-estimator sk-toggleable\"><input class=\"sk-toggleable__control sk-hidden--visually\" id=\"sk-estimator-id-30\" type=\"checkbox\" ><label for=\"sk-estimator-id-30\" class=\"sk-toggleable__label sk-toggleable__label-arrow\">KNeighborsClassifier</label><div class=\"sk-toggleable__content\"><pre>KNeighborsClassifier()</pre></div></div></div></div></div></div></div>"
      ],
      "text/plain": [
       "Pipeline(steps=[('preprocessor',\n",
       "                 ColumnTransformer(transformers=[('cat',\n",
       "                                                  Pipeline(steps=[('onehot',\n",
       "                                                                   OneHotEncoder(handle_unknown='ignore'))]),\n",
       "                                                  ['Gender', 'Family_History',\n",
       "                                                   'Mental_Health_Interview',\n",
       "                                                   'Care_Options',\n",
       "                                                   'Self_Employed',\n",
       "                                                   'Coping_Struggles',\n",
       "                                                   'Growing_Stress'])])),\n",
       "                ('model', KNeighborsClassifier())])"
      ]
     },
     "execution_count": 169,
     "metadata": {},
     "output_type": "execute_result"
    }
   ],
   "source": [
    "# Defined K-Nearest Neighbors Classifiers as my model\n",
    "KNN = KNeighborsClassifier()\n",
    "\n",
    "# Added KNN to empty model slot on pipeline\n",
    "KNN_pipeline = pipeline.set_params(model=KNN)\n",
    "\n",
    "KNN_pipeline"
   ]
  },
  {
   "cell_type": "code",
   "execution_count": 170,
   "metadata": {},
   "outputs": [
    {
     "name": "stdout",
     "output_type": "stream",
     "text": [
      "The Best Score of the seach is:  0.7167749999999999\n",
      "The Best Parameter of the search is:  {'model__n_neighbors': 25}\n",
      "The Best Model of the search is:  Pipeline(steps=[('preprocessor',\n",
      "                 ColumnTransformer(transformers=[('cat',\n",
      "                                                  Pipeline(steps=[('onehot',\n",
      "                                                                   OneHotEncoder(handle_unknown='ignore'))]),\n",
      "                                                  ['Gender', 'Family_History',\n",
      "                                                   'Mental_Health_Interview',\n",
      "                                                   'Care_Options',\n",
      "                                                   'Self_Employed',\n",
      "                                                   'Coping_Struggles',\n",
      "                                                   'Growing_Stress'])])),\n",
      "                ('model', KNeighborsClassifier(n_neighbors=25))])\n"
     ]
    }
   ],
   "source": [
    "# Defined the parameter values to be searched\n",
    "param_grid = {\n",
    "    'model__n_neighbors': list(range(1, 31))\n",
    "}\n",
    "# Instantiated GridSearchCV with the KNN Pipeline\n",
    "grid = GridSearchCV(KNN_pipeline, param_grid=param_grid, cv=5)\n",
    "\n",
    "# Fit the grid to the Training Set\n",
    "grid.fit(X_train, y_train)\n",
    "\n",
    "# Got the complete results\n",
    "grid_results = grid.cv_results_\n",
    "\n",
    "#print(\"The GridSearchCV Results are: \", grid_results)\n",
    "print(\"The Best Score of the seach is: \", grid.best_score_)\n",
    "print(\"The Best Parameter of the search is: \", grid.best_params_)\n",
    "print(\"The Best Model of the search is: \", grid.best_estimator_)"
   ]
  },
  {
   "cell_type": "markdown",
   "metadata": {},
   "source": [
    "#### FINDINGS:\n",
    "It gave n_neighbors=25 as the best parameter.\n",
    "\n",
    "I plugged this back into Blocks 1-3 and determined the results weren't what I was looking for. It dropped my True Negatives and raised my False Positives.\n",
    "\n",
    "* __KNN-Neighbors=25:__ --- __Accuracy:__ = 70.265%\n",
    " + __TP:__ = 7,646\n",
    " + __TN:__ = 6,407\n",
    " + __FP:__ = 3,671\n",
    " + __FN:__ = 2,276\n",
    " \n",
    "So, I decided to use Blocks 1-3 to test the other Number of Neighbors manually. I listed several of the results below. Overall, I found that 10 Neighbors seemed to produce the most wanted results. And decided to use it as my final model for my Meta-Model.\n",
    "\n",
    "* __KNN-Neighbors=5:__ --- __Accuracy:__ = 67.295%\n",
    " + __TP:__ = 6,516\n",
    " + __TN:__ = 6,943\n",
    " + __FP:__ = 3,135\n",
    " + __FN:__ = 3,406\n",
    " \n",
    "* __KNN-Neighbors=7:__ --- __Accuracy:__ = 67.23%\n",
    " + __TP:__ = 6,858\n",
    " + __TN:__ = 6,588\n",
    " + __FP:__ = 3,490\n",
    " + __FN:__ = 3,064\n",
    " \n",
    "* __KNN-Neighbors=10:__ --- __Accuracy:__ = 67.72%\n",
    " + __TP:__ = 6,318\n",
    " + __TN:__ = 7,226\n",
    " + __FP:__ = 2,852\n",
    " + __FN:__ = 3,604\n",
    " \n",
    "* __KNN-Neighbors=13:__ --- __Accuracy:__ = 69.35%\n",
    " + __TP:__ = 6,980\n",
    " + __TN:__ = 6,890\n",
    " + __FP:__ = 3,188\n",
    " + __FN:__ = 2,942\n",
    " \n",
    "* __KNN-Neighbors=31:__ --- __Accuracy:__ = 71.025%\n",
    " + __TP:__ = 7,334\n",
    " + __TN:__ = 6,871\n",
    " + __FP:__ = 3,207\n",
    " + __FN:__ = 2,588\n",
    " "
   ]
  },
  {
   "cell_type": "markdown",
   "metadata": {},
   "source": [
    "## 6. Conclusion and Next Steps:\n",
    "\n",
    "In __conclusion__, although I was able to raise my overall accuracy scores by manipulated the models both inside and out of the Stacking Ensemble, I decided focusing on the model that produced the most True Negative and the least False Positives was my best choice.\n",
    "\n",
    "My __Next Steps__ include:\n",
    "* Rerunning my models and focusing on Feature Importance to try to imporve my overall scores,\n",
    "* Adding in an interactive Visualization that shows feature correlation,\n",
    "* Deploying the model with appropiate warnings and resources available\n",
    " "
   ]
  },
  {
   "cell_type": "code",
   "execution_count": null,
   "metadata": {},
   "outputs": [],
   "source": []
  }
 ],
 "metadata": {
  "kernelspec": {
   "display_name": "Python (learn-env)",
   "language": "python",
   "name": "learn-env"
  },
  "language_info": {
   "codemirror_mode": {
    "name": "ipython",
    "version": 3
   },
   "file_extension": ".py",
   "mimetype": "text/x-python",
   "name": "python",
   "nbconvert_exporter": "python",
   "pygments_lexer": "ipython3",
   "version": "3.8.5"
  }
 },
 "nbformat": 4,
 "nbformat_minor": 4
}
