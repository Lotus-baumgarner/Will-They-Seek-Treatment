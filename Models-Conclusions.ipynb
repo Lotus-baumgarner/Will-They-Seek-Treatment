{
 "cells": [
  {
   "cell_type": "markdown",
   "metadata": {},
   "source": [
    "# Will They Seek Treatment for a Mental Illness?\n",
    "\n",
    "__By Lotus Baumgarner__\n",
    "\n",
    "This is part two of two notebooks. This notebook covers the Models, Hyperparameter Tuning, Final Model Selection and Conclusion/Next Steps. The part one notebook covers the Data/Problem understanding, Data Cleaning, Visualizations and Initial Feature Selection.\n"
   ]
  },
  {
   "cell_type": "code",
   "execution_count": 1,
   "metadata": {},
   "outputs": [],
   "source": [
    "# Basic Data Manipulation\n",
    "import pandas as pd\n",
    "import numpy as np\n",
    "\n",
    "# Visualization and Statistics\n",
    "import matplotlib.pyplot as plt\n",
    "%matplotlib inline\n",
    "import seaborn as sns\n",
    "import scipy.stats as stats\n",
    "\n",
    "# Preprocessing and Models\n",
    "from sklearn.compose import ColumnTransformer\n",
    "from sklearn.preprocessing import OneHotEncoder\n",
    "\n",
    "from sklearn.model_selection import train_test_split\n",
    "from sklearn.model_selection import cross_validate\n",
    "from sklearn.model_selection import cross_val_score\n",
    "from sklearn.model_selection import GridSearchCV\n",
    "\n",
    "from sklearn.metrics import make_scorer\n",
    "from sklearn.metrics import accuracy_score, recall_score, precision_score, f1_score\n",
    "from sklearn.metrics import roc_curve, auc, roc_auc_score\n",
    "from sklearn.metrics import classification_report\n",
    "from sklearn.metrics import ConfusionMatrixDisplay\n",
    "from sklearn.metrics import confusion_matrix\n",
    "\n",
    "from sklearn.pipeline import Pipeline\n",
    "from sklearn.linear_model import LogisticRegression\n",
    "from sklearn.ensemble import RandomForestClassifier\n",
    "from sklearn.base import BaseEstimator, TransformerMixin\n",
    "from xgboost import XGBClassifier\n",
    "\n",
    "# Other Imports\n",
    "import warnings\n",
    "warnings.simplefilter(action='ignore', category=FutureWarning)\n",
    "import os  \n",
    "import pickle"
   ]
  },
  {
   "cell_type": "code",
   "execution_count": 2,
   "metadata": {},
   "outputs": [
    {
     "data": {
      "text/html": [
       "<div>\n",
       "<style scoped>\n",
       "    .dataframe tbody tr th:only-of-type {\n",
       "        vertical-align: middle;\n",
       "    }\n",
       "\n",
       "    .dataframe tbody tr th {\n",
       "        vertical-align: top;\n",
       "    }\n",
       "\n",
       "    .dataframe thead th {\n",
       "        text-align: right;\n",
       "    }\n",
       "</style>\n",
       "<table border=\"1\" class=\"dataframe\">\n",
       "  <thead>\n",
       "    <tr style=\"text-align: right;\">\n",
       "      <th></th>\n",
       "      <th>Gender</th>\n",
       "      <th>Occupation</th>\n",
       "      <th>Self_Employed</th>\n",
       "      <th>Family_History</th>\n",
       "      <th>Treatment</th>\n",
       "      <th>Days_Indoors</th>\n",
       "      <th>Growing_Stress</th>\n",
       "      <th>Changes_Habits</th>\n",
       "      <th>Mental_Health_History</th>\n",
       "      <th>Mood_Swings</th>\n",
       "      <th>Coping_Struggles</th>\n",
       "      <th>Work_Interest</th>\n",
       "      <th>Social_Weakness</th>\n",
       "      <th>Mental_Health_Interview</th>\n",
       "      <th>Care_Options</th>\n",
       "    </tr>\n",
       "  </thead>\n",
       "  <tbody>\n",
       "    <tr>\n",
       "      <th>0</th>\n",
       "      <td>Male</td>\n",
       "      <td>Housewife</td>\n",
       "      <td>No</td>\n",
       "      <td>No</td>\n",
       "      <td>No</td>\n",
       "      <td>15-30 days</td>\n",
       "      <td>No</td>\n",
       "      <td>No</td>\n",
       "      <td>No</td>\n",
       "      <td>High</td>\n",
       "      <td>Yes</td>\n",
       "      <td>Yes</td>\n",
       "      <td>No</td>\n",
       "      <td>No</td>\n",
       "      <td>No</td>\n",
       "    </tr>\n",
       "    <tr>\n",
       "      <th>1</th>\n",
       "      <td>Female</td>\n",
       "      <td>Housewife</td>\n",
       "      <td>No</td>\n",
       "      <td>No</td>\n",
       "      <td>No</td>\n",
       "      <td>15-30 days</td>\n",
       "      <td>Maybe</td>\n",
       "      <td>No</td>\n",
       "      <td>Maybe</td>\n",
       "      <td>Medium</td>\n",
       "      <td>Yes</td>\n",
       "      <td>No</td>\n",
       "      <td>Yes</td>\n",
       "      <td>No</td>\n",
       "      <td>Not sure</td>\n",
       "    </tr>\n",
       "    <tr>\n",
       "      <th>2</th>\n",
       "      <td>Female</td>\n",
       "      <td>Housewife</td>\n",
       "      <td>No</td>\n",
       "      <td>Yes</td>\n",
       "      <td>Yes</td>\n",
       "      <td>31-60 days</td>\n",
       "      <td>Yes</td>\n",
       "      <td>No</td>\n",
       "      <td>Maybe</td>\n",
       "      <td>Medium</td>\n",
       "      <td>No</td>\n",
       "      <td>Yes</td>\n",
       "      <td>No</td>\n",
       "      <td>No</td>\n",
       "      <td>No</td>\n",
       "    </tr>\n",
       "    <tr>\n",
       "      <th>3</th>\n",
       "      <td>Male</td>\n",
       "      <td>Others</td>\n",
       "      <td>No</td>\n",
       "      <td>No</td>\n",
       "      <td>No</td>\n",
       "      <td>1-14 days</td>\n",
       "      <td>Yes</td>\n",
       "      <td>Yes</td>\n",
       "      <td>No</td>\n",
       "      <td>Low</td>\n",
       "      <td>Yes</td>\n",
       "      <td>No</td>\n",
       "      <td>Yes</td>\n",
       "      <td>No</td>\n",
       "      <td>Yes</td>\n",
       "    </tr>\n",
       "    <tr>\n",
       "      <th>4</th>\n",
       "      <td>Female</td>\n",
       "      <td>Housewife</td>\n",
       "      <td>No</td>\n",
       "      <td>No</td>\n",
       "      <td>No</td>\n",
       "      <td>Go out Every day</td>\n",
       "      <td>Maybe</td>\n",
       "      <td>Yes</td>\n",
       "      <td>No</td>\n",
       "      <td>Low</td>\n",
       "      <td>Yes</td>\n",
       "      <td>Maybe</td>\n",
       "      <td>No</td>\n",
       "      <td>No</td>\n",
       "      <td>Not sure</td>\n",
       "    </tr>\n",
       "  </tbody>\n",
       "</table>\n",
       "</div>"
      ],
      "text/plain": [
       "   Gender Occupation Self_Employed Family_History Treatment      Days_Indoors  \\\n",
       "0    Male  Housewife            No             No        No        15-30 days   \n",
       "1  Female  Housewife            No             No        No        15-30 days   \n",
       "2  Female  Housewife            No            Yes       Yes        31-60 days   \n",
       "3    Male     Others            No             No        No         1-14 days   \n",
       "4  Female  Housewife            No             No        No  Go out Every day   \n",
       "\n",
       "  Growing_Stress Changes_Habits Mental_Health_History Mood_Swings  \\\n",
       "0             No             No                    No        High   \n",
       "1          Maybe             No                 Maybe      Medium   \n",
       "2            Yes             No                 Maybe      Medium   \n",
       "3            Yes            Yes                    No         Low   \n",
       "4          Maybe            Yes                    No         Low   \n",
       "\n",
       "  Coping_Struggles Work_Interest Social_Weakness Mental_Health_Interview  \\\n",
       "0              Yes           Yes              No                      No   \n",
       "1              Yes            No             Yes                      No   \n",
       "2               No           Yes              No                      No   \n",
       "3              Yes            No             Yes                      No   \n",
       "4              Yes         Maybe              No                      No   \n",
       "\n",
       "  Care_Options  \n",
       "0           No  \n",
       "1     Not sure  \n",
       "2           No  \n",
       "3          Yes  \n",
       "4     Not sure  "
      ]
     },
     "execution_count": 2,
     "metadata": {},
     "output_type": "execute_result"
    }
   ],
   "source": [
    "df = pd.read_csv(\"C:\\\\Users\\\\lotus\\\\Documents\\\\Flatiron\\\\Projects\\\\Phase5-CapstoneProject\\\\Data\\\\Treatment2_data.csv\")\n",
    "\n",
    "df.head()"
   ]
  },
  {
   "cell_type": "code",
   "execution_count": 3,
   "metadata": {},
   "outputs": [
    {
     "name": "stdout",
     "output_type": "stream",
     "text": [
      "<class 'pandas.core.frame.DataFrame'>\n",
      "RangeIndex: 100000 entries, 0 to 99999\n",
      "Data columns (total 15 columns):\n",
      " #   Column                   Non-Null Count   Dtype \n",
      "---  ------                   --------------   ----- \n",
      " 0   Gender                   100000 non-null  object\n",
      " 1   Occupation               100000 non-null  object\n",
      " 2   Self_Employed            100000 non-null  object\n",
      " 3   Family_History           100000 non-null  object\n",
      " 4   Treatment                100000 non-null  object\n",
      " 5   Days_Indoors             100000 non-null  object\n",
      " 6   Growing_Stress           100000 non-null  object\n",
      " 7   Changes_Habits           100000 non-null  object\n",
      " 8   Mental_Health_History    100000 non-null  object\n",
      " 9   Mood_Swings              100000 non-null  object\n",
      " 10  Coping_Struggles         100000 non-null  object\n",
      " 11  Work_Interest            100000 non-null  object\n",
      " 12  Social_Weakness          100000 non-null  object\n",
      " 13  Mental_Health_Interview  100000 non-null  object\n",
      " 14  Care_Options             100000 non-null  object\n",
      "dtypes: object(15)\n",
      "memory usage: 11.4+ MB\n"
     ]
    }
   ],
   "source": [
    "df.info()"
   ]
  },
  {
   "cell_type": "markdown",
   "metadata": {},
   "source": [
    "## 3. Train-Test Split & Basic Pipeline Set-up:\n",
    "Since all my columns are categorical and not ordered, I'll be using __One Hot Encoder__ to convert my data into numerical format. \n",
    "\n",
    "I used __Train-Test Split__ with a holdout set and __Cross-Validation__. I used a 80/20 split for my training_validation set and holdout set. Then I used a 75/25 split to split the train_validation set into seperate training and validation sets. I also mapped my target variable (y) to be Yes = 1 and No = 0.\n",
    "\n",
    "__I am labeling my TP, TN, FP, and FN as follows:__\n",
    "\n",
    "•\t__True Positives (TP):__ The number of individuals who were correctly predicted to seek treatment for a mental illness (i.e., the model predicted \"Yes\" for treatment, and the actual value was also \"Yes\").\n",
    "\n",
    "•\t__True Negatives (TN):__ The number of individuals who were correctly predicted not to seek treatment for a mental illness (i.e., the model predicted \"No\" for treatment, and the actual value was also \"No\").\n",
    "\n",
    "•\t__False Positives (FP):__ The number of individuals who were incorrectly predicted to seek treatment for a mental illness (i.e., the model predicted \"Yes\" for treatment, but the actual value was \"No\").\n",
    "\n",
    "•\t__False Negatives (FN):__ The number of individuals who were incorrectly predicted not to seek treatment for a mental illness (i.e., the model predicted \"No\" for treatment, but the actual value was \"Yes\").\n",
    "\n",
    "Since my dataset is balanced 50/50 now, I will be focusing on __Accuracy__ as my metric."
   ]
  },
  {
   "cell_type": "code",
   "execution_count": 4,
   "metadata": {},
   "outputs": [],
   "source": [
    "# Selected only the features with significant association. (See EDAs-Feature Selection Notebook)\n",
    "significant_features = ['Gender', 'Family_History', 'Mental_Health_Interview', 'Care_Options', \n",
    "                        'Self_Employed', 'Coping_Struggles', 'Growing_Stress']\n",
    "\n",
    "# Defined X and y to be split. And mapped y to numeric format.\n",
    "X = df[significant_features]\n",
    "y = df['Treatment'].map({'Yes': 1, 'No': 0})\n",
    "\n",
    "# First split the dataset into train_validation and holdout sets (80/20)\n",
    "X_train_val, X_holdout, y_train_val, y_holdout = train_test_split(X, y, test_size=0.2, random_state=42)\n",
    "\n",
    "# Then split the train_validation set into seperate training and validation sets (75/25)\n",
    "X_train, X_val, y_train, y_val = train_test_split(X_train_val, y_train_val, test_size=0.25, random_state=42)\n"
   ]
  },
  {
   "cell_type": "code",
   "execution_count": 5,
   "metadata": {},
   "outputs": [
    {
     "name": "stdout",
     "output_type": "stream",
     "text": [
      "The X Train_Validation set shape is  (80000, 7)\n",
      "The X Train set shape is             (60000, 7)\n",
      "The X Validation set shape is        (20000, 7)\n",
      "The X Holdout set shape is           (20000, 7)\n",
      "\n",
      "The y Train_Validation set shape is  (80000,)\n",
      "The y Train set shape is             (60000,)\n",
      "The y Validation set shape is        (20000,)\n",
      "The y Holdout set shape is           (20000,)\n"
     ]
    }
   ],
   "source": [
    "# Printed shape of all training, validation, and holdout sets.\n",
    "print(\"The X Train_Validation set shape is \", X_train_val.shape)\n",
    "print(\"The X Train set shape is            \", X_train.shape)\n",
    "print(\"The X Validation set shape is       \", X_val.shape)\n",
    "print(\"The X Holdout set shape is          \", X_holdout.shape)\n",
    "print()\n",
    "print(\"The y Train_Validation set shape is \", y_train_val.shape)\n",
    "print(\"The y Train set shape is            \", y_train.shape)\n",
    "print(\"The y Validation set shape is       \", y_val.shape)\n",
    "print(\"The y Holdout set shape is          \", y_holdout.shape)"
   ]
  },
  {
   "cell_type": "code",
   "execution_count": 6,
   "metadata": {},
   "outputs": [
    {
     "data": {
      "text/html": [
       "<style>#sk-container-id-1 {color: black;background-color: white;}#sk-container-id-1 pre{padding: 0;}#sk-container-id-1 div.sk-toggleable {background-color: white;}#sk-container-id-1 label.sk-toggleable__label {cursor: pointer;display: block;width: 100%;margin-bottom: 0;padding: 0.3em;box-sizing: border-box;text-align: center;}#sk-container-id-1 label.sk-toggleable__label-arrow:before {content: \"▸\";float: left;margin-right: 0.25em;color: #696969;}#sk-container-id-1 label.sk-toggleable__label-arrow:hover:before {color: black;}#sk-container-id-1 div.sk-estimator:hover label.sk-toggleable__label-arrow:before {color: black;}#sk-container-id-1 div.sk-toggleable__content {max-height: 0;max-width: 0;overflow: hidden;text-align: left;background-color: #f0f8ff;}#sk-container-id-1 div.sk-toggleable__content pre {margin: 0.2em;color: black;border-radius: 0.25em;background-color: #f0f8ff;}#sk-container-id-1 input.sk-toggleable__control:checked~div.sk-toggleable__content {max-height: 200px;max-width: 100%;overflow: auto;}#sk-container-id-1 input.sk-toggleable__control:checked~label.sk-toggleable__label-arrow:before {content: \"▾\";}#sk-container-id-1 div.sk-estimator input.sk-toggleable__control:checked~label.sk-toggleable__label {background-color: #d4ebff;}#sk-container-id-1 div.sk-label input.sk-toggleable__control:checked~label.sk-toggleable__label {background-color: #d4ebff;}#sk-container-id-1 input.sk-hidden--visually {border: 0;clip: rect(1px 1px 1px 1px);clip: rect(1px, 1px, 1px, 1px);height: 1px;margin: -1px;overflow: hidden;padding: 0;position: absolute;width: 1px;}#sk-container-id-1 div.sk-estimator {font-family: monospace;background-color: #f0f8ff;border: 1px dotted black;border-radius: 0.25em;box-sizing: border-box;margin-bottom: 0.5em;}#sk-container-id-1 div.sk-estimator:hover {background-color: #d4ebff;}#sk-container-id-1 div.sk-parallel-item::after {content: \"\";width: 100%;border-bottom: 1px solid gray;flex-grow: 1;}#sk-container-id-1 div.sk-label:hover label.sk-toggleable__label {background-color: #d4ebff;}#sk-container-id-1 div.sk-serial::before {content: \"\";position: absolute;border-left: 1px solid gray;box-sizing: border-box;top: 0;bottom: 0;left: 50%;z-index: 0;}#sk-container-id-1 div.sk-serial {display: flex;flex-direction: column;align-items: center;background-color: white;padding-right: 0.2em;padding-left: 0.2em;position: relative;}#sk-container-id-1 div.sk-item {position: relative;z-index: 1;}#sk-container-id-1 div.sk-parallel {display: flex;align-items: stretch;justify-content: center;background-color: white;position: relative;}#sk-container-id-1 div.sk-item::before, #sk-container-id-1 div.sk-parallel-item::before {content: \"\";position: absolute;border-left: 1px solid gray;box-sizing: border-box;top: 0;bottom: 0;left: 50%;z-index: -1;}#sk-container-id-1 div.sk-parallel-item {display: flex;flex-direction: column;z-index: 1;position: relative;background-color: white;}#sk-container-id-1 div.sk-parallel-item:first-child::after {align-self: flex-end;width: 50%;}#sk-container-id-1 div.sk-parallel-item:last-child::after {align-self: flex-start;width: 50%;}#sk-container-id-1 div.sk-parallel-item:only-child::after {width: 0;}#sk-container-id-1 div.sk-dashed-wrapped {border: 1px dashed gray;margin: 0 0.4em 0.5em 0.4em;box-sizing: border-box;padding-bottom: 0.4em;background-color: white;}#sk-container-id-1 div.sk-label label {font-family: monospace;font-weight: bold;display: inline-block;line-height: 1.2em;}#sk-container-id-1 div.sk-label-container {text-align: center;}#sk-container-id-1 div.sk-container {/* jupyter's `normalize.less` sets `[hidden] { display: none; }` but bootstrap.min.css set `[hidden] { display: none !important; }` so we also need the `!important` here to be able to override the default hidden behavior on the sphinx rendered scikit-learn.org. See: https://github.com/scikit-learn/scikit-learn/issues/21755 */display: inline-block !important;position: relative;}#sk-container-id-1 div.sk-text-repr-fallback {display: none;}</style><div id=\"sk-container-id-1\" class=\"sk-top-container\"><div class=\"sk-text-repr-fallback\"><pre>Pipeline(steps=[(&#x27;preprocessor&#x27;,\n",
       "                 ColumnTransformer(transformers=[(&#x27;cat&#x27;,\n",
       "                                                  Pipeline(steps=[(&#x27;onehot&#x27;,\n",
       "                                                                   OneHotEncoder(handle_unknown=&#x27;ignore&#x27;))]),\n",
       "                                                  [&#x27;Gender&#x27;, &#x27;Family_History&#x27;,\n",
       "                                                   &#x27;Mental_Health_Interview&#x27;,\n",
       "                                                   &#x27;Care_Options&#x27;,\n",
       "                                                   &#x27;Self_Employed&#x27;,\n",
       "                                                   &#x27;Coping_Struggles&#x27;,\n",
       "                                                   &#x27;Growing_Stress&#x27;])])),\n",
       "                (&#x27;model&#x27;, &#x27;Model&#x27;)])</pre><b>In a Jupyter environment, please rerun this cell to show the HTML representation or trust the notebook. <br />On GitHub, the HTML representation is unable to render, please try loading this page with nbviewer.org.</b></div><div class=\"sk-container\" hidden><div class=\"sk-item sk-dashed-wrapped\"><div class=\"sk-label-container\"><div class=\"sk-label sk-toggleable\"><input class=\"sk-toggleable__control sk-hidden--visually\" id=\"sk-estimator-id-1\" type=\"checkbox\" ><label for=\"sk-estimator-id-1\" class=\"sk-toggleable__label sk-toggleable__label-arrow\">Pipeline</label><div class=\"sk-toggleable__content\"><pre>Pipeline(steps=[(&#x27;preprocessor&#x27;,\n",
       "                 ColumnTransformer(transformers=[(&#x27;cat&#x27;,\n",
       "                                                  Pipeline(steps=[(&#x27;onehot&#x27;,\n",
       "                                                                   OneHotEncoder(handle_unknown=&#x27;ignore&#x27;))]),\n",
       "                                                  [&#x27;Gender&#x27;, &#x27;Family_History&#x27;,\n",
       "                                                   &#x27;Mental_Health_Interview&#x27;,\n",
       "                                                   &#x27;Care_Options&#x27;,\n",
       "                                                   &#x27;Self_Employed&#x27;,\n",
       "                                                   &#x27;Coping_Struggles&#x27;,\n",
       "                                                   &#x27;Growing_Stress&#x27;])])),\n",
       "                (&#x27;model&#x27;, &#x27;Model&#x27;)])</pre></div></div></div><div class=\"sk-serial\"><div class=\"sk-item sk-dashed-wrapped\"><div class=\"sk-label-container\"><div class=\"sk-label sk-toggleable\"><input class=\"sk-toggleable__control sk-hidden--visually\" id=\"sk-estimator-id-2\" type=\"checkbox\" ><label for=\"sk-estimator-id-2\" class=\"sk-toggleable__label sk-toggleable__label-arrow\">preprocessor: ColumnTransformer</label><div class=\"sk-toggleable__content\"><pre>ColumnTransformer(transformers=[(&#x27;cat&#x27;,\n",
       "                                 Pipeline(steps=[(&#x27;onehot&#x27;,\n",
       "                                                  OneHotEncoder(handle_unknown=&#x27;ignore&#x27;))]),\n",
       "                                 [&#x27;Gender&#x27;, &#x27;Family_History&#x27;,\n",
       "                                  &#x27;Mental_Health_Interview&#x27;, &#x27;Care_Options&#x27;,\n",
       "                                  &#x27;Self_Employed&#x27;, &#x27;Coping_Struggles&#x27;,\n",
       "                                  &#x27;Growing_Stress&#x27;])])</pre></div></div></div><div class=\"sk-parallel\"><div class=\"sk-parallel-item\"><div class=\"sk-item\"><div class=\"sk-label-container\"><div class=\"sk-label sk-toggleable\"><input class=\"sk-toggleable__control sk-hidden--visually\" id=\"sk-estimator-id-3\" type=\"checkbox\" ><label for=\"sk-estimator-id-3\" class=\"sk-toggleable__label sk-toggleable__label-arrow\">cat</label><div class=\"sk-toggleable__content\"><pre>[&#x27;Gender&#x27;, &#x27;Family_History&#x27;, &#x27;Mental_Health_Interview&#x27;, &#x27;Care_Options&#x27;, &#x27;Self_Employed&#x27;, &#x27;Coping_Struggles&#x27;, &#x27;Growing_Stress&#x27;]</pre></div></div></div><div class=\"sk-serial\"><div class=\"sk-item\"><div class=\"sk-serial\"><div class=\"sk-item\"><div class=\"sk-estimator sk-toggleable\"><input class=\"sk-toggleable__control sk-hidden--visually\" id=\"sk-estimator-id-4\" type=\"checkbox\" ><label for=\"sk-estimator-id-4\" class=\"sk-toggleable__label sk-toggleable__label-arrow\">OneHotEncoder</label><div class=\"sk-toggleable__content\"><pre>OneHotEncoder(handle_unknown=&#x27;ignore&#x27;)</pre></div></div></div></div></div></div></div></div></div></div><div class=\"sk-item\"><div class=\"sk-estimator sk-toggleable\"><input class=\"sk-toggleable__control sk-hidden--visually\" id=\"sk-estimator-id-5\" type=\"checkbox\" ><label for=\"sk-estimator-id-5\" class=\"sk-toggleable__label sk-toggleable__label-arrow\">Model</label><div class=\"sk-toggleable__content\"><pre>Model</pre></div></div></div></div></div></div></div>"
      ],
      "text/plain": [
       "Pipeline(steps=[('preprocessor',\n",
       "                 ColumnTransformer(transformers=[('cat',\n",
       "                                                  Pipeline(steps=[('onehot',\n",
       "                                                                   OneHotEncoder(handle_unknown='ignore'))]),\n",
       "                                                  ['Gender', 'Family_History',\n",
       "                                                   'Mental_Health_Interview',\n",
       "                                                   'Care_Options',\n",
       "                                                   'Self_Employed',\n",
       "                                                   'Coping_Struggles',\n",
       "                                                   'Growing_Stress'])])),\n",
       "                ('model', 'Model')])"
      ]
     },
     "execution_count": 6,
     "metadata": {},
     "output_type": "execute_result"
    }
   ],
   "source": [
    "# Created a preprocessing pipeline with OneHotEncoder for categorical features\n",
    "categorical_features = significant_features\n",
    "\n",
    "categorical_transformer = Pipeline(steps=[\n",
    "    ('onehot', OneHotEncoder(handle_unknown='ignore'))\n",
    "])\n",
    "\n",
    "preprocessor = ColumnTransformer(\n",
    "    transformers=[\n",
    "        ('cat', categorical_transformer, categorical_features)\n",
    "    ])\n",
    "\n",
    "# Defined a basic pipeline with an empty Model place\n",
    "pipeline = Pipeline(steps=[\n",
    "    ('preprocessor', preprocessor),\n",
    "    ('model', 'Model')\n",
    "])\n",
    "\n",
    "pipeline"
   ]
  },
  {
   "cell_type": "markdown",
   "metadata": {},
   "source": [
    "## 4A. Model 1: Baseline - Logistic Regression:"
   ]
  },
  {
   "cell_type": "code",
   "execution_count": 7,
   "metadata": {},
   "outputs": [
    {
     "data": {
      "text/html": [
       "<style>#sk-container-id-2 {color: black;background-color: white;}#sk-container-id-2 pre{padding: 0;}#sk-container-id-2 div.sk-toggleable {background-color: white;}#sk-container-id-2 label.sk-toggleable__label {cursor: pointer;display: block;width: 100%;margin-bottom: 0;padding: 0.3em;box-sizing: border-box;text-align: center;}#sk-container-id-2 label.sk-toggleable__label-arrow:before {content: \"▸\";float: left;margin-right: 0.25em;color: #696969;}#sk-container-id-2 label.sk-toggleable__label-arrow:hover:before {color: black;}#sk-container-id-2 div.sk-estimator:hover label.sk-toggleable__label-arrow:before {color: black;}#sk-container-id-2 div.sk-toggleable__content {max-height: 0;max-width: 0;overflow: hidden;text-align: left;background-color: #f0f8ff;}#sk-container-id-2 div.sk-toggleable__content pre {margin: 0.2em;color: black;border-radius: 0.25em;background-color: #f0f8ff;}#sk-container-id-2 input.sk-toggleable__control:checked~div.sk-toggleable__content {max-height: 200px;max-width: 100%;overflow: auto;}#sk-container-id-2 input.sk-toggleable__control:checked~label.sk-toggleable__label-arrow:before {content: \"▾\";}#sk-container-id-2 div.sk-estimator input.sk-toggleable__control:checked~label.sk-toggleable__label {background-color: #d4ebff;}#sk-container-id-2 div.sk-label input.sk-toggleable__control:checked~label.sk-toggleable__label {background-color: #d4ebff;}#sk-container-id-2 input.sk-hidden--visually {border: 0;clip: rect(1px 1px 1px 1px);clip: rect(1px, 1px, 1px, 1px);height: 1px;margin: -1px;overflow: hidden;padding: 0;position: absolute;width: 1px;}#sk-container-id-2 div.sk-estimator {font-family: monospace;background-color: #f0f8ff;border: 1px dotted black;border-radius: 0.25em;box-sizing: border-box;margin-bottom: 0.5em;}#sk-container-id-2 div.sk-estimator:hover {background-color: #d4ebff;}#sk-container-id-2 div.sk-parallel-item::after {content: \"\";width: 100%;border-bottom: 1px solid gray;flex-grow: 1;}#sk-container-id-2 div.sk-label:hover label.sk-toggleable__label {background-color: #d4ebff;}#sk-container-id-2 div.sk-serial::before {content: \"\";position: absolute;border-left: 1px solid gray;box-sizing: border-box;top: 0;bottom: 0;left: 50%;z-index: 0;}#sk-container-id-2 div.sk-serial {display: flex;flex-direction: column;align-items: center;background-color: white;padding-right: 0.2em;padding-left: 0.2em;position: relative;}#sk-container-id-2 div.sk-item {position: relative;z-index: 1;}#sk-container-id-2 div.sk-parallel {display: flex;align-items: stretch;justify-content: center;background-color: white;position: relative;}#sk-container-id-2 div.sk-item::before, #sk-container-id-2 div.sk-parallel-item::before {content: \"\";position: absolute;border-left: 1px solid gray;box-sizing: border-box;top: 0;bottom: 0;left: 50%;z-index: -1;}#sk-container-id-2 div.sk-parallel-item {display: flex;flex-direction: column;z-index: 1;position: relative;background-color: white;}#sk-container-id-2 div.sk-parallel-item:first-child::after {align-self: flex-end;width: 50%;}#sk-container-id-2 div.sk-parallel-item:last-child::after {align-self: flex-start;width: 50%;}#sk-container-id-2 div.sk-parallel-item:only-child::after {width: 0;}#sk-container-id-2 div.sk-dashed-wrapped {border: 1px dashed gray;margin: 0 0.4em 0.5em 0.4em;box-sizing: border-box;padding-bottom: 0.4em;background-color: white;}#sk-container-id-2 div.sk-label label {font-family: monospace;font-weight: bold;display: inline-block;line-height: 1.2em;}#sk-container-id-2 div.sk-label-container {text-align: center;}#sk-container-id-2 div.sk-container {/* jupyter's `normalize.less` sets `[hidden] { display: none; }` but bootstrap.min.css set `[hidden] { display: none !important; }` so we also need the `!important` here to be able to override the default hidden behavior on the sphinx rendered scikit-learn.org. See: https://github.com/scikit-learn/scikit-learn/issues/21755 */display: inline-block !important;position: relative;}#sk-container-id-2 div.sk-text-repr-fallback {display: none;}</style><div id=\"sk-container-id-2\" class=\"sk-top-container\"><div class=\"sk-text-repr-fallback\"><pre>Pipeline(steps=[(&#x27;preprocessor&#x27;,\n",
       "                 ColumnTransformer(transformers=[(&#x27;cat&#x27;,\n",
       "                                                  Pipeline(steps=[(&#x27;onehot&#x27;,\n",
       "                                                                   OneHotEncoder(handle_unknown=&#x27;ignore&#x27;))]),\n",
       "                                                  [&#x27;Gender&#x27;, &#x27;Family_History&#x27;,\n",
       "                                                   &#x27;Mental_Health_Interview&#x27;,\n",
       "                                                   &#x27;Care_Options&#x27;,\n",
       "                                                   &#x27;Self_Employed&#x27;,\n",
       "                                                   &#x27;Coping_Struggles&#x27;,\n",
       "                                                   &#x27;Growing_Stress&#x27;])])),\n",
       "                (&#x27;model&#x27;, LogisticRegression(max_iter=1000, random_state=42))])</pre><b>In a Jupyter environment, please rerun this cell to show the HTML representation or trust the notebook. <br />On GitHub, the HTML representation is unable to render, please try loading this page with nbviewer.org.</b></div><div class=\"sk-container\" hidden><div class=\"sk-item sk-dashed-wrapped\"><div class=\"sk-label-container\"><div class=\"sk-label sk-toggleable\"><input class=\"sk-toggleable__control sk-hidden--visually\" id=\"sk-estimator-id-6\" type=\"checkbox\" ><label for=\"sk-estimator-id-6\" class=\"sk-toggleable__label sk-toggleable__label-arrow\">Pipeline</label><div class=\"sk-toggleable__content\"><pre>Pipeline(steps=[(&#x27;preprocessor&#x27;,\n",
       "                 ColumnTransformer(transformers=[(&#x27;cat&#x27;,\n",
       "                                                  Pipeline(steps=[(&#x27;onehot&#x27;,\n",
       "                                                                   OneHotEncoder(handle_unknown=&#x27;ignore&#x27;))]),\n",
       "                                                  [&#x27;Gender&#x27;, &#x27;Family_History&#x27;,\n",
       "                                                   &#x27;Mental_Health_Interview&#x27;,\n",
       "                                                   &#x27;Care_Options&#x27;,\n",
       "                                                   &#x27;Self_Employed&#x27;,\n",
       "                                                   &#x27;Coping_Struggles&#x27;,\n",
       "                                                   &#x27;Growing_Stress&#x27;])])),\n",
       "                (&#x27;model&#x27;, LogisticRegression(max_iter=1000, random_state=42))])</pre></div></div></div><div class=\"sk-serial\"><div class=\"sk-item sk-dashed-wrapped\"><div class=\"sk-label-container\"><div class=\"sk-label sk-toggleable\"><input class=\"sk-toggleable__control sk-hidden--visually\" id=\"sk-estimator-id-7\" type=\"checkbox\" ><label for=\"sk-estimator-id-7\" class=\"sk-toggleable__label sk-toggleable__label-arrow\">preprocessor: ColumnTransformer</label><div class=\"sk-toggleable__content\"><pre>ColumnTransformer(transformers=[(&#x27;cat&#x27;,\n",
       "                                 Pipeline(steps=[(&#x27;onehot&#x27;,\n",
       "                                                  OneHotEncoder(handle_unknown=&#x27;ignore&#x27;))]),\n",
       "                                 [&#x27;Gender&#x27;, &#x27;Family_History&#x27;,\n",
       "                                  &#x27;Mental_Health_Interview&#x27;, &#x27;Care_Options&#x27;,\n",
       "                                  &#x27;Self_Employed&#x27;, &#x27;Coping_Struggles&#x27;,\n",
       "                                  &#x27;Growing_Stress&#x27;])])</pre></div></div></div><div class=\"sk-parallel\"><div class=\"sk-parallel-item\"><div class=\"sk-item\"><div class=\"sk-label-container\"><div class=\"sk-label sk-toggleable\"><input class=\"sk-toggleable__control sk-hidden--visually\" id=\"sk-estimator-id-8\" type=\"checkbox\" ><label for=\"sk-estimator-id-8\" class=\"sk-toggleable__label sk-toggleable__label-arrow\">cat</label><div class=\"sk-toggleable__content\"><pre>[&#x27;Gender&#x27;, &#x27;Family_History&#x27;, &#x27;Mental_Health_Interview&#x27;, &#x27;Care_Options&#x27;, &#x27;Self_Employed&#x27;, &#x27;Coping_Struggles&#x27;, &#x27;Growing_Stress&#x27;]</pre></div></div></div><div class=\"sk-serial\"><div class=\"sk-item\"><div class=\"sk-serial\"><div class=\"sk-item\"><div class=\"sk-estimator sk-toggleable\"><input class=\"sk-toggleable__control sk-hidden--visually\" id=\"sk-estimator-id-9\" type=\"checkbox\" ><label for=\"sk-estimator-id-9\" class=\"sk-toggleable__label sk-toggleable__label-arrow\">OneHotEncoder</label><div class=\"sk-toggleable__content\"><pre>OneHotEncoder(handle_unknown=&#x27;ignore&#x27;)</pre></div></div></div></div></div></div></div></div></div></div><div class=\"sk-item\"><div class=\"sk-estimator sk-toggleable\"><input class=\"sk-toggleable__control sk-hidden--visually\" id=\"sk-estimator-id-10\" type=\"checkbox\" ><label for=\"sk-estimator-id-10\" class=\"sk-toggleable__label sk-toggleable__label-arrow\">LogisticRegression</label><div class=\"sk-toggleable__content\"><pre>LogisticRegression(max_iter=1000, random_state=42)</pre></div></div></div></div></div></div></div>"
      ],
      "text/plain": [
       "Pipeline(steps=[('preprocessor',\n",
       "                 ColumnTransformer(transformers=[('cat',\n",
       "                                                  Pipeline(steps=[('onehot',\n",
       "                                                                   OneHotEncoder(handle_unknown='ignore'))]),\n",
       "                                                  ['Gender', 'Family_History',\n",
       "                                                   'Mental_Health_Interview',\n",
       "                                                   'Care_Options',\n",
       "                                                   'Self_Employed',\n",
       "                                                   'Coping_Struggles',\n",
       "                                                   'Growing_Stress'])])),\n",
       "                ('model', LogisticRegression(max_iter=1000, random_state=42))])"
      ]
     },
     "execution_count": 7,
     "metadata": {},
     "output_type": "execute_result"
    }
   ],
   "source": [
    "# Created the Baseline model using Logistic Regression\n",
    "LogReg = LogisticRegression(max_iter=1000, random_state=42)\n",
    "\n",
    "# Added LogReg to empty model slot on pipeline\n",
    "logreg_pipeline = pipeline.set_params(model=LogReg)\n",
    "\n",
    "logreg_pipeline"
   ]
  },
  {
   "cell_type": "code",
   "execution_count": 8,
   "metadata": {},
   "outputs": [
    {
     "name": "stdout",
     "output_type": "stream",
     "text": [
      "\u001b[1mThe Accuracy score on the validation set is:\u001b[0m  0.70765\n",
      "\u001b[1mClassification Report:\u001b[0m\n",
      "               precision    recall  f1-score   support\n",
      "\n",
      "           0       0.73      0.65      0.69      9984\n",
      "           1       0.69      0.77      0.72     10016\n",
      "\n",
      "    accuracy                           0.71     20000\n",
      "   macro avg       0.71      0.71      0.71     20000\n",
      "weighted avg       0.71      0.71      0.71     20000\n",
      "\n",
      "\u001b[1mCross-validation accuracy scores:\u001b[0m\n",
      " [0.704625 0.71075  0.705375 0.706125 0.716125 0.703    0.7055   0.71125\n",
      " 0.714375 0.704125]\n"
     ]
    }
   ],
   "source": [
    "# Trained the model\n",
    "logreg_pipeline.fit(X_train, y_train)\n",
    "\n",
    "# Predictions & Evaluation\n",
    "y_pred1 = logreg_pipeline.predict(X_val)\n",
    "accuracy1 = accuracy_score(y_val, y_pred1)\n",
    "classification_report1 = classification_report(y_val, y_pred1)\n",
    "\n",
    "# Cross-validated\n",
    "cv_scores1 = cross_val_score(logreg_pipeline, X_train_val, y_train_val, cv=10, scoring='accuracy')\n",
    "\n",
    "print(\"\\033[1mThe Accuracy score on the validation set is:\\033[0m \", accuracy1)\n",
    "print(\"\\033[1mClassification Report:\\033[0m\\n\", classification_report1)\n",
    "print(\"\\033[1mCross-validation accuracy scores:\\033[0m\\n\", cv_scores1)"
   ]
  },
  {
   "cell_type": "markdown",
   "metadata": {},
   "source": [
    "##### FINDINGS:  Validation Set\n",
    "Keeping in mind that Yes = 1 and No = 0.\n",
    "\n",
    "The __Accuracy Score__ of __71%__(70.77%) means that out of every 100 samples, the model correctly predicted 71 of them.  \n",
    "\n",
    "The __Precision__ score indicates that the model correctly predicted when a person would not seek treatment 73% of the time and correctly predicted when a person would seek treatment 69% of the time.\n",
    "\n",
    "The __Recall__ score indicates that the model correctly caught all the cases it needed to 65% of the time for those unlikely to seek treatment and 77% of the time for those likely to seek treatment.\n",
    "\n",
    "The __F1__ score is a balanced view of the Precision and Recall Scores. In this case, the model is slightly better at predicting those who would seek treatment (Yes = 72%) than those who would not (No = 69%)  \n",
    "\n",
    "The __Cross-Validation__ scores show how the models Accuracy score varied on different subsets of the training data. In this case, the scores ranged from 70.3% to 71.6% which means my model is fairly stable when makeing predictions.\n"
   ]
  },
  {
   "cell_type": "code",
   "execution_count": 9,
   "metadata": {},
   "outputs": [
    {
     "data": {
      "image/png": "[encoded data removed]",
      "text/plain": [
       "<Figure size 576x432 with 2 Axes>"
      ]
     },
     "metadata": {
      "needs_background": "light"
     },
     "output_type": "display_data"
    }
   ],
   "source": [
    "# Created the confusion matrix for visualization\n",
    "cm1 = confusion_matrix(y_val, y_pred1, labels=logreg_pipeline.named_steps['model'].classes_)\n",
    "\n",
    "plt.figure(figsize=(8, 6))\n",
    "sns.heatmap(cm1, annot=True, fmt='d', cmap='Purples')\n",
    "\n",
    "plt.xlabel('Predicted')\n",
    "plt.ylabel('Actual')\n",
    "plt.title('Confusion Matrix-Validation Set')\n",
    "\n",
    "plt.xticks(ticks=[0.5, 1.5], labels=['No', 'Yes'])\n",
    "plt.yticks(ticks=[0.5, 1.5], labels=['No', 'Yes'])\n",
    "\n",
    "plt.savefig('cm1_LogReg.png', dpi=300, bbox_inches='tight')\n",
    "\n",
    "plt.show()"
   ]
  },
  {
   "cell_type": "markdown",
   "metadata": {},
   "source": [
    "##### FINDINGS: Validation Set\n",
    "__TP:__ The model correctly predicted __7,668__ individuals who would seek treatment for a mental illness.\n",
    "\n",
    "__TN:__ The model correctly predicted __6,485__ individuals who would not seek treatment for a mental illness.\n",
    "\n",
    "__FP:__ The model incorrectly predicted __3,499__ individuals as seeking treatment on their own when they will not.\n",
    "\n",
    "__FN:__ The model incorrectly predicted __2,348__ individuals as not seeking treatment on their own when they will."
   ]
  },
  {
   "cell_type": "code",
   "execution_count": 10,
   "metadata": {},
   "outputs": [
    {
     "name": "stdout",
     "output_type": "stream",
     "text": [
      "\u001b[1mThe list of new columns from OHE is:\u001b[0m\n",
      " ['Gender_Female' 'Gender_Male' 'Family_History_No' 'Family_History_Yes'\n",
      " 'Mental_Health_Interview_Maybe' 'Mental_Health_Interview_No'\n",
      " 'Mental_Health_Interview_Yes' 'Care_Options_No' 'Care_Options_Not sure'\n",
      " 'Care_Options_Yes' 'Self_Employed_No' 'Self_Employed_Yes'\n",
      " 'Coping_Struggles_No' 'Coping_Struggles_Yes' 'Growing_Stress_Maybe'\n",
      " 'Growing_Stress_No' 'Growing_Stress_Yes']\n",
      "\n",
      "\u001b[1mThe total number of new columns is:\u001b[0m  17\n"
     ]
    }
   ],
   "source": [
    "# Used Get Feature Name Out to get a list and total number of the columns created by OneHotEncoder\n",
    "ohe_feature_names = logreg_pipeline.named_steps['preprocessor'].named_transformers_['cat'].get_feature_names_out()\n",
    "\n",
    "total_new_columns = len(ohe_feature_names)\n",
    "\n",
    "print(\"\\033[1mThe list of new columns from OHE is:\\033[0m\\n\", ohe_feature_names)\n",
    "print()\n",
    "print(\"\\033[1mThe total number of new columns is:\\033[0m \", total_new_columns)"
   ]
  },
  {
   "cell_type": "markdown",
   "metadata": {},
   "source": [
    "#### Tested on the Holdout set:"
   ]
  },
  {
   "cell_type": "code",
   "execution_count": 11,
   "metadata": {},
   "outputs": [
    {
     "name": "stdout",
     "output_type": "stream",
     "text": [
      "\u001b[1mThe Accuracy score on the holdout set is:\u001b[0m  0.70265\n",
      "\u001b[1mClassification Report:\u001b[0m\n",
      "               precision    recall  f1-score   support\n",
      "\n",
      "           0       0.73      0.64      0.69     10078\n",
      "           1       0.68      0.76      0.72      9922\n",
      "\n",
      "    accuracy                           0.70     20000\n",
      "   macro avg       0.71      0.70      0.70     20000\n",
      "weighted avg       0.71      0.70      0.70     20000\n",
      "\n",
      "\u001b[1mCross-validation precision scores:\u001b[0m\n",
      " [0.7076 0.71   0.7099 0.7119 0.7107 0.7128 0.6963 0.7143 0.698  0.7004]\n"
     ]
    }
   ],
   "source": [
    "# Predictions & Evaluation on the holdout set\n",
    "y_holdout_pred1 = logreg_pipeline.predict(X_holdout)\n",
    "\n",
    "accuracy_holdout1 = accuracy_score(y_holdout, y_holdout_pred1)\n",
    "classification_report_holdout1 = classification_report(y_holdout, y_holdout_pred1)\n",
    "\n",
    "# Cross-validated\n",
    "cv_scores_holdout1 = cross_val_score(logreg_pipeline, X, y, cv=10, scoring='accuracy')\n",
    "\n",
    "print(\"\\033[1mThe Accuracy score on the holdout set is:\\033[0m \", accuracy_holdout1)\n",
    "print(\"\\033[1mClassification Report:\\033[0m\\n\", classification_report_holdout1)\n",
    "print(\"\\033[1mCross-validation precision scores:\\033[0m\\n\", cv_scores_holdout1)"
   ]
  },
  {
   "cell_type": "code",
   "execution_count": 13,
   "metadata": {},
   "outputs": [
    {
     "data": {
      "image/png": "[encoded data removed]",
      "text/plain": [
       "<Figure size 576x432 with 2 Axes>"
      ]
     },
     "metadata": {
      "needs_background": "light"
     },
     "output_type": "display_data"
    }
   ],
   "source": [
    "# Created the confusion matrix for visualization\n",
    "cm_holdout1 = confusion_matrix(y_holdout, y_holdout_pred1, labels=logreg_pipeline.named_steps['model'].classes_)\n",
    "\n",
    "plt.figure(figsize=(8, 6))\n",
    "sns.heatmap(cm_holdout1, annot=True, fmt='d', cmap='Purples')\n",
    "\n",
    "plt.xlabel('Predicted')\n",
    "plt.ylabel('Actual')\n",
    "plt.title('Confusion Matrix-Holdout Set')\n",
    "\n",
    "plt.xticks(ticks=[0.5, 1.5], labels=['No', 'Yes'])\n",
    "plt.yticks(ticks=[0.5, 1.5], labels=['No', 'Yes'])\n",
    "\n",
    "plt.savefig('cmHoldout1_LogReg.png', dpi=300, bbox_inches='tight')\n",
    "\n",
    "plt.show()"
   ]
  },
  {
   "cell_type": "markdown",
   "metadata": {},
   "source": [
    "##### FINDINGS Holdout Set:\n",
    "Overall, the model's performance is similar to what was observed on the validation set (0.70765(__71%__) Validation and 0.70265(__70%__) Holdout), indicating that the model is generalizing well to unseen data. The TP, TN, FP, FN are all close to eachother as well.\n",
    "\n",
    "__TP:__ Validation Set: __7,668__ -------- Holdout Set: __7,578__ \n",
    "\n",
    "__TN:__ Validation Set: __6,485__ -------- Holdout Set: __6,475__\n",
    "\n",
    "__FP:__ Validation Set: __3,499__ -------- Holdout Set: __3,603__\n",
    "\n",
    "__FN:__ Validation Set: __2,348__ -------- Holdout Set: __2,344__"
   ]
  },
  {
   "cell_type": "markdown",
   "metadata": {},
   "source": [
    "## 4B. Model 2:  Random Forest Classifier"
   ]
  },
  {
   "cell_type": "code",
   "execution_count": null,
   "metadata": {},
   "outputs": [],
   "source": [
    "# Defined Random Forest Classifier as my 2nd model\n",
    "RandForest = RandomForestClassifier(random_state=42)\n",
    "\n",
    "# Added RandForest to empty model slot on pipeline\n",
    "RF_pipeline = pipeline.set_params(model=RandForest)\n",
    "\n",
    "RF_pipeline"
   ]
  },
  {
   "cell_type": "code",
   "execution_count": null,
   "metadata": {},
   "outputs": [],
   "source": [
    "# Trained the model\n",
    "RF_pipeline.fit(X_train, y_train)\n",
    "\n",
    "# Predictions & Evaluation\n",
    "y_pred2 = RF_pipeline.predict(X_val)\n",
    "accuracy2 = accuracy_score(y_val, y_pred2)\n",
    "classification_report2 = classification_report(y_val, y_pred2)\n",
    "\n",
    "# Cross-validated\n",
    "cv_scores2 = cross_val_score(RF_pipeline, X_train_val, y_train_val, cv=10, scoring='accuracy')\n",
    "\n",
    "print(\"\\033[1mThe Accuracy score on the validation set is:\\033[0m \", accuracy2)\n",
    "print(\"\\033[1mClassification Report:\\033[0m\\n\", classification_report2)\n",
    "print(\"\\033[1mCross-validation accuracy scores:\\033[0m\\n\", cv_scores2)"
   ]
  },
  {
   "cell_type": "markdown",
   "metadata": {},
   "source": [
    "##### FINDINGS:  Validation Set\n",
    "Keeping in mind that Yes = 1 and No = 0.  \n",
    "The __Accuracy Score__ of __73%__(72.68%) means that out of every 100 samples, the model correctly predicted 73 of them.  \n",
    "\n",
    "The __Precision__ score indicates that the model correctly predicted when a person would not seek treatment 78% of the time and correctly predicted when a person would seek treatment 69% of the time. \n",
    "\n",
    "The __Recall__ score indicates that the model correctly caught all the cases it needed to 63% of the time for those unlikely to seek treatment and 83% of the time for those likely to seek treatment.\n",
    "\n",
    "The __F1__ score is a balanced view of the Precision and Recall Scores. In this case, the model is slightly better at predicting those who would seek treatment (Yes = 75%) than those who would not (No = 70%)  \n",
    "\n",
    "The __Cross-Validation__ scores show how the models Accuracy score varied on different subsets of the training data. In this case, the scores ranged from 71.7% to 73.4% which means my model is fairly stable when makeing predictions.\n",
    "\n",
    "So far the Random Forest Model is doing better than the Logisitc regression model in the sense of overall accuracy and the ability to correctly predict the No values."
   ]
  },
  {
   "cell_type": "code",
   "execution_count": null,
   "metadata": {},
   "outputs": [],
   "source": [
    "# Created the confusion matrix for visualization\n",
    "cm2 = confusion_matrix(y_val, y_pred2, labels=RF_pipeline.named_steps['model'].classes_)\n",
    "\n",
    "plt.figure(figsize=(8, 6))\n",
    "sns.heatmap(cm2, annot=True, fmt='d', cmap='Purples')\n",
    "\n",
    "plt.xlabel('Predicted')\n",
    "plt.ylabel('Actual')\n",
    "plt.title('Confusion Matrix')\n",
    "\n",
    "plt.xticks(ticks=[0.5, 1.5], labels=['No', 'Yes'])\n",
    "plt.yticks(ticks=[0.5, 1.5], labels=['No', 'Yes'])\n",
    "\n",
    "plt.show()"
   ]
  },
  {
   "cell_type": "markdown",
   "metadata": {},
   "source": [
    "##### FINDINGS: Validation Set(s)\n",
    "__TP:__ The model correctly predicted __8,286__ individuals who would seek treatment for a mental illness.\n",
    "\n",
    "__TN:__ The model correctly predicted __6,250__ individuals who would not seek treatment for a mental illness.\n",
    "\n",
    "__FP:__ The model incorrectly predicted __3,734__ individuals as seeking treatment on their own when they will not.\n",
    "\n",
    "__FN:__ The model incorrectly predicted __1,730__ individuals as not seeking treatment on their own when they will.\n",
    "\n",
    "While Random Forest did increase the number of True Positives (7,668 LR --> 8,286 RF),  \n",
    "it also increased the number of False Positives (3,499 LR --> 3,734 RF). \n",
    "\n",
    "And while it did decrease the number of False Negatives (2,348 LR --> 1,730 RF),  \n",
    "it also decreased the number of True Negatives (6,485 LR --> 6,250 RF). \n",
    "\n",
    "I'm hoping that by using __Hyperparameter Tuning__ I'll be able to decrease my False Positives and increase my overall Accuracy Score.\n"
   ]
  },
  {
   "cell_type": "markdown",
   "metadata": {},
   "source": [
    "#### GridSearchCV:\n",
    "Used GridSearchCV to find the best hyperparameters and model.  Then applied that model to the pipeline and retested against the validation and holdout sets."
   ]
  },
  {
   "cell_type": "code",
   "execution_count": null,
   "metadata": {},
   "outputs": [],
   "source": [
    "# Set up the parameter grid for hyperparameter tuning\n",
    "RF_param_grid = {\n",
    "    'model__n_estimators': [100, 200, 300],\n",
    "    'model__max_depth': [None, 10, 20],\n",
    "    'model__min_samples_split': [2, 5, 10],\n",
    "    'model__min_samples_leaf': [1, 2, 4],\n",
    "}\n",
    "\n",
    "# Set up GridSearchCV\n",
    "grid_search_RF = GridSearchCV(RF_pipeline, RF_param_grid, cv=5, scoring='accuracy')\n",
    "\n",
    "# Fit GridSearchCV to the train_val set to find the best parameters\n",
    "grid_search_RF.fit(X_train_val, y_train_val)\n",
    "\n",
    "# Best hyperparameters and the corresponding best model\n",
    "best_RF_params = grid_search_RF.best_params_\n",
    "best_RF_model = grid_search_RF.best_estimator_\n",
    "best_RF_score = grid_search_RF.best_score_\n",
    "\n",
    "print(\"\\033[1mThe Best Parameters are:\\033[0m\\n\", best_RF_params)\n",
    "print()\n",
    "print(\"\\033[1mThe Best Model is:\\033[0m\\n\", best_RF_model)\n",
    "print()\n",
    "print(\"\\033[1mThe Best Accuracy Score is: \\033[0m\", best_RF_score)"
   ]
  },
  {
   "cell_type": "code",
   "execution_count": null,
   "metadata": {},
   "outputs": [],
   "source": [
    "# Printed the Best Models Parameters\n",
    "print(best_RF_model.named_steps['model'].get_params())"
   ]
  },
  {
   "cell_type": "markdown",
   "metadata": {},
   "source": [
    "#### Testing on the Validation and Holdout Sets w. Best Model"
   ]
  },
  {
   "cell_type": "code",
   "execution_count": null,
   "metadata": {},
   "outputs": [],
   "source": [
    "# Evaluated the accuracy score on the validation set\n",
    "val_accuracy = best_RF_model.score(X_val, y_val)\n",
    "\n",
    "# Evaluated the accuracy score on the holdout set\n",
    "holdout_accuracy = best_RF_model.score(X_holdout, y_holdout)\n",
    "\n",
    "print(\"\\033[1mThe Validation Set Accuracy Score is:\\033[0m \", val_accuracy)\n",
    "print(\"\\033[1mThe Holdout Set Accuracy Score is:\\033[0m \", holdout_accuracy)"
   ]
  },
  {
   "cell_type": "code",
   "execution_count": null,
   "metadata": {},
   "outputs": [],
   "source": [
    "# Created the confusion matrix for visualization\n",
    "\n",
    "# Got predictions on validation set\n",
    "y_valcm_pred = best_RF_model.predict(X_val)\n",
    "\n",
    "# Got predictions on holdout set\n",
    "y_holdoutcm_pred = best_RF_model.predict(X_holdout)\n",
    "\n",
    "# Generated the confusion matrices\n",
    "conf_matrix_val = confusion_matrix(y_val, y_valcm_pred)\n",
    "conf_matrix_holdout = confusion_matrix(y_holdout, y_holdoutcm_pred)"
   ]
  },
  {
   "cell_type": "code",
   "execution_count": null,
   "metadata": {},
   "outputs": [],
   "source": [
    "plt.figure(figsize=(12, 6))\n",
    "\n",
    "# Plotted the confusion matrix for the validation set\n",
    "plt.subplot(1, 2, 1)  # 1 row, 2 columns, 1st subplot\n",
    "sns.heatmap(conf_matrix_val, annot=True, fmt=\"d\", cmap=\"Greens\")\n",
    "\n",
    "plt.title('Confusion Matrix for Validation Set')\n",
    "plt.xlabel('Predicted')\n",
    "plt.ylabel('Actual')\n",
    "\n",
    "plt.xticks(ticks=[0.5, 1.5], labels=['No', 'Yes'])\n",
    "plt.yticks(ticks=[0.5, 1.5], labels=['No', 'Yes'])\n",
    "\n",
    "\n",
    "# Plotted the confusion matrix for the holdout set\n",
    "plt.subplot(1, 2, 2)  # 1 row, 2 columns, 2nd subplot\n",
    "sns.heatmap(conf_matrix_holdout, annot=True, fmt=\"d\", cmap=\"Greens\")\n",
    "\n",
    "plt.title('Confusion Matrix for Holdout Set')\n",
    "plt.xlabel('Predicted')\n",
    "plt.ylabel('Actual')\n",
    "\n",
    "plt.xticks(ticks=[0.5, 1.5], labels=['No', 'Yes'])\n",
    "plt.yticks(ticks=[0.5, 1.5], labels=['No', 'Yes'])\n",
    "\n",
    "\n",
    "plt.tight_layout()\n",
    "\n",
    "plt.show()"
   ]
  },
  {
   "cell_type": "markdown",
   "metadata": {},
   "source": [
    "##### FINDINGS:\n",
    "Overall, with the hyperparameter tuning, the model's performance is similar to what was observed on the original validation set but does show a slight increase in the Accuracy score (__72.68%__ Original Validation and __72.85%__ HyperTuned Validation).  The Holdout set's Accuracy score read __71.92%__ indicating that the model is still generalizing well to unseen data.  \n",
    "The TP, TN, FP, FN show some variation between the original validation set and the HyperTuned Validation set.\n",
    "\n",
    "__TP:__ Original Validation Set: __8,286__ ------ Hyper Validation Set: __8,236__ ------ Hyper Holdout Set: __8,046__ \n",
    "\n",
    "__TN:__ Original Validation Set: __6,250__ ------ Hyper Validation Set: __6,333__ ------ Hyper Holdout Set: __6,337__\n",
    "\n",
    "__FP:__ Original Validation Set: __3,734__ ------ Hyper Validation Set: __3,651__ ------ Hyper Holdout Set: __3,741__\n",
    "\n",
    "__FN:__ Original Validation Set: __1,730__ ------ Hyper Validation Set: __1,780__ ------ Hyper Holdout Set: __1,876__"
   ]
  },
  {
   "cell_type": "markdown",
   "metadata": {},
   "source": [
    "## 4C. Model 3:  XGB Classifier"
   ]
  },
  {
   "cell_type": "code",
   "execution_count": null,
   "metadata": {},
   "outputs": [],
   "source": [
    "# Defined XGBClassifier as my 3rd model\n",
    "XGBClass = XGBClassifier(eval_metric='logloss', random_state=42)\n",
    "\n",
    "# Added XGBClass to empty model slot on pipeline\n",
    "XGBClass_pipeline = pipeline.set_params(model=XGBClass)\n",
    "\n",
    "XGBClass_pipeline"
   ]
  },
  {
   "cell_type": "code",
   "execution_count": null,
   "metadata": {},
   "outputs": [],
   "source": [
    "# Trained the model\n",
    "XGBClass_pipeline.fit(X_train, y_train)\n",
    "\n",
    "# Predictions & Evaluation\n",
    "y_pred3 = XGBClass_pipeline.predict(X_val)\n",
    "accuracy3 = accuracy_score(y_val, y_pred3)\n",
    "classification_report3 = classification_report(y_val, y_pred3)\n",
    "\n",
    "# Cross-validated\n",
    "cv_scores3 = cross_val_score(XGBClass_pipeline, X_train_val, y_train_val, cv=10, scoring='accuracy')\n",
    "\n",
    "print(\"\\033[1mThe Accuracy score on the validation set is:\\033[0m \", accuracy3)\n",
    "print(\"\\033[1mClassification Report:\\033[0m\\n\", classification_report3)\n",
    "print(\"\\033[1mCross-validation accuracy scores:\\033[0m\\n\", cv_scores3)"
   ]
  },
  {
   "cell_type": "markdown",
   "metadata": {},
   "source": [
    "##### FINDINGS:  Validation Set\n",
    "Keeping in mind that Yes = 1 and No = 0.  \n",
    "The __Accuracy Score__ of __73%__ (72.72%) means that out of every 100 samples, the model correctly predicted 73 of them. This is slightly better than Random Forest but not by much.  \n",
    "\n",
    "The __Precision__ score indicates that the model correctly predicted when a person would not seek treatment 79% of the time and correctly predicted when a person would seek treatment 69% of the time. \n",
    "\n",
    "The __Recall__ score indicates that the model correctly caught all the cases it needed to 62% of the time for those unlikely to seek treatment and 83% of the time for those likely to seek treatment.\n",
    "\n",
    "The __F1__ score is a balanced view of the Precision and Recall Scores. In this case, the model is slightly better at predicting those who would seek treatment (Yes = 75%) than those who would not (No = 70%)  \n",
    "\n",
    "The __Cross-Validation__ scores show how the models Accuracy score varied on different subsets of the training data. In this case, the scores ranged from 71.9% to 73.5% which means my model is still stable when makeing predictions.\n",
    "\n",
    "So far the XGB Classifier accuracy score (72.72%) falls between the Orginal Random Forest model (72.68%) and the HyperTuned Random Forest Model (72.85%) in the sense of overall accuracy and the ability to correctly predict the No values."
   ]
  },
  {
   "cell_type": "code",
   "execution_count": null,
   "metadata": {},
   "outputs": [],
   "source": [
    "# Created the confusion matrix for visualization\n",
    "cm3 = confusion_matrix(y_val, y_pred3, labels=XGBClass_pipeline.named_steps['model'].classes_)\n",
    "\n",
    "plt.figure(figsize=(8, 6))\n",
    "sns.heatmap(cm3, annot=True, fmt='d', cmap='Purples')\n",
    "\n",
    "plt.xlabel('Predicted')\n",
    "plt.ylabel('Actual')\n",
    "plt.title('Confusion Matrix')\n",
    "\n",
    "plt.xticks(ticks=[0.5, 1.5], labels=['No', 'Yes'])\n",
    "plt.yticks(ticks=[0.5, 1.5], labels=['No', 'Yes'])\n",
    "\n",
    "plt.show()"
   ]
  },
  {
   "cell_type": "markdown",
   "metadata": {},
   "source": [
    "##### FINDINGS: Validation Set\n",
    "__TP:__ The model correctly predicted __8,325__ individuals who would seek treatment for a mental illness.\n",
    "\n",
    "__TN:__ The model correctly predicted __6,218__ individuals who would not seek treatment for a mental illness.\n",
    "\n",
    "__FP:__ The model incorrectly predicted __3,766__ individuals as seeking treatment on their own when they will not.\n",
    "\n",
    "__FN:__ The model incorrectly predicted __1,691__ individuals as not seeking treatment on their own when they will.\n",
    "\n",
    "While XGBoost did increase the number of True Positives (7,668 LR --> 8,286 RF --> 8,325 XGB),  \n",
    "it also again increased the number of False Positives (3,499 LR --> 3,734 RF --> 3,766 XGB).\n",
    "\n",
    "And while it again did decrease the number of False Negatives (2,348 LR --> 1,730 RF --> 1691 XGB),  \n",
    "it also decreased the number of True Negatives (6,485 LR --> 6,250 RF --> 6,218 XGB).  \n",
    "\n",
    "I'm hoping that by using __Hyperparameter Tuning__ on XGBoost, I'll be able to see a more distinct decrease in my False Positives and an increase in my overall Accuracy Score."
   ]
  },
  {
   "cell_type": "markdown",
   "metadata": {},
   "source": [
    "#### GridSearchCV:\n",
    "Used GridSearchCV again to find the best hyperparameters and model.  Then applied that model to the pipeline and retested against the validation and holdout sets."
   ]
  },
  {
   "cell_type": "code",
   "execution_count": null,
   "metadata": {},
   "outputs": [],
   "source": [
    "# Defined XGB Classifier with the new parameters\n",
    "XGBClass_param_grid = {\n",
    "    'model__n_estimators': [100, 200, 300],\n",
    "    'model__max_depth': [3, 6, 10],\n",
    "    'model__learning_rate': [0.01, 0.1, 0.2],\n",
    "    'model__subsample': [0.6, 0.8, 1.0],\n",
    "    'model__min_child_weight': [1, 3, 5],\n",
    "}\n",
    "\n",
    "# Set up GridSearchCV\n",
    "grid_search_XGBClass = GridSearchCV(XGBClass_pipeline, XGBClass_param_grid, cv=5, scoring='accuracy')\n",
    "\n",
    "# Fit GridSearchCV to the train_val set to find the best parameters\n",
    "grid_search_XGBClass.fit(X_train_val, y_train_val)\n",
    "\n",
    "# Best hyperparameters and the corresponding best model\n",
    "best_XGBClass_params = grid_search_XGBClass.best_params_\n",
    "best_XGBClass_model = grid_search_XGBClass.best_estimator_\n",
    "best_XGBClass_score = grid_search_XGBClass.best_score_\n",
    "\n",
    "print(\"\\033[1mThe Best Parameters are:\\033[0m\\n\", best_XGBClass_params)\n",
    "print()\n",
    "print(\"\\033[1mThe Best Model is:\\033[0m\\n\", best_XGBClass_model)\n",
    "print()\n",
    "print(\"\\033[1mThe Best Accuracy Score is: \\033[0m\", best_XGBClass_score)"
   ]
  },
  {
   "cell_type": "markdown",
   "metadata": {},
   "source": [
    "#### Testing on the Validation and Holdout Sets w. Best Model"
   ]
  },
  {
   "cell_type": "code",
   "execution_count": null,
   "metadata": {},
   "outputs": [],
   "source": [
    "# Evaluate accuracy on the validation set\n",
    "val_accuracy = best_XGBClass_model.score(X_val, y_val)\n",
    "\n",
    "# Evaluate accuracy on the holdout set\n",
    "holdout_accuracy = best_XGBClass_model.score(X_holdout, y_holdout)\n",
    "\n",
    "print(\"\\033[1mThe Validation Set Accuracy Score is:\\033[0m \", val_accuracy)\n",
    "print(\"\\033[1mThe Holdout Set Accuracy Score is:\\033[0m \", holdout_accuracy)"
   ]
  },
  {
   "cell_type": "code",
   "execution_count": null,
   "metadata": {},
   "outputs": [],
   "source": [
    "# Created the confusion matrix for visualization\n",
    "\n",
    "# Got predictions on validation set\n",
    "y_valcm2_pred = best_XGBClass_model.predict(X_val)\n",
    "\n",
    "# Got predictions on holdout set\n",
    "y_holdoutcm2_pred = best_XGBClass_model.predict(X_holdout)\n",
    "\n",
    "# Generated the confusion matrices\n",
    "conf_matrix2_val = confusion_matrix(y_val, y_valcm2_pred)\n",
    "conf_matrix2_holdout = confusion_matrix(y_holdout, y_holdoutcm2_pred)"
   ]
  },
  {
   "cell_type": "code",
   "execution_count": null,
   "metadata": {},
   "outputs": [],
   "source": [
    "plt.figure(figsize=(12, 6))\n",
    "\n",
    "# Plotted the confusion matrix for the validation set\n",
    "plt.subplot(1, 2, 1)  # 1 row, 2 columns, 1st subplot\n",
    "sns.heatmap(conf_matrix2_val, annot=True, fmt=\"d\", cmap=\"Greens\")\n",
    "\n",
    "plt.title('Confusion Matrix for Validation Set')\n",
    "plt.xlabel('Predicted')\n",
    "plt.ylabel('Actual')\n",
    "\n",
    "plt.xticks(ticks=[0.5, 1.5], labels=['No', 'Yes'])\n",
    "plt.yticks(ticks=[0.5, 1.5], labels=['No', 'Yes'])\n",
    "\n",
    "\n",
    "# Plotted the confusion matrix for the holdout set\n",
    "plt.subplot(1, 2, 2)  # 1 row, 2 columns, 2nd subplot\n",
    "sns.heatmap(conf_matrix2_holdout, annot=True, fmt=\"d\", cmap=\"Greens\")\n",
    "\n",
    "plt.title('Confusion Matrix for Holdout Set')\n",
    "plt.xlabel('Predicted')\n",
    "plt.ylabel('Actual')\n",
    "\n",
    "plt.xticks(ticks=[0.5, 1.5], labels=['No', 'Yes'])\n",
    "plt.yticks(ticks=[0.5, 1.5], labels=['No', 'Yes'])\n",
    "\n",
    "plt.tight_layout()\n",
    "\n",
    "plt.show()"
   ]
  },
  {
   "cell_type": "markdown",
   "metadata": {},
   "source": [
    "##### FINDINGS:\n",
    "Overall, with the hyperparameter tuning, the model's performance is similar to what was observed on the original validation set but does again show a slight increase in the Accuracy score (__72.72%__ Original Validation and __72.99%__ HyperTuned Validation).  The Holdout set's Accuracy score is __71.89%__ indicating that the model is still generalizing well to unseen data.  \n",
    "The TP, TN, FP, FN show some variation between the original validation set and the HyperTuned Validation set.\n",
    "\n",
    "__TP:__ Original Validation Set: __8,325__ ------ Hyper Validation Set: __8,196__ ------ Hyper Holdout Set: __7,997__ \n",
    "\n",
    "__TN:__ Original Validation Set: __6,218__ ------ Hyper Validation Set: __6,402__ ------ Hyper Holdout Set: __6,380__\n",
    "\n",
    "__FP:__ Original Validation Set: __3,766__ ------ Hyper Validation Set: __3,582__ ------ Hyper Holdout Set: __3,698__\n",
    "\n",
    "__FN:__ Original Validation Set: __1,691__ ------ Hyper Validation Set: __1,820__ ------ Hyper Holdout Set: __1,925__"
   ]
  },
  {
   "cell_type": "code",
   "execution_count": null,
   "metadata": {},
   "outputs": [],
   "source": []
  }
 ],
 "metadata": {
  "kernelspec": {
   "display_name": "Python (learn-env)",
   "language": "python",
   "name": "learn-env"
  },
  "language_info": {
   "codemirror_mode": {
    "name": "ipython",
    "version": 3
   },
   "file_extension": ".py",
   "mimetype": "text/x-python",
   "name": "python",
   "nbconvert_exporter": "python",
   "pygments_lexer": "ipython3",
   "version": "3.8.5"
  }
 },
 "nbformat": 4,
 "nbformat_minor": 4
}
